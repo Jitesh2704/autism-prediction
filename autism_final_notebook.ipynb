{
  "cells": [
    {
      "cell_type": "markdown",
      "metadata": {
        "id": "I_FjJhnXUA8m"
      },
      "source": [
        "# Training a machine learning classifier on resting state fMRI or structural MRI data\n",
        "\n",
        "The goal is to train a classifier on MRI data. Two suitable data sets were identified.\n",
        "\n",
        "## Getting the data\n",
        "\n",
        "The ABIDE data set can be downloaded using nilearn. The data set contains resting state functional magnetic resonance imaging (rs-fMRI) data from multiple sites. Some of the participants had Autism Spectrum Disorder (ASD). This dataset could be used to train a classifier to distinguish ASD and control participants based on the resting state data.\n",
        "\n",
        "The data were preprocessed with different pipelines. We will download the data preprocessed with the CPAC pipeline. For more on the differences between pipelines see [here](http://preprocessed-connectomes-project.org/abide/Pipelines.html).\n",
        "\n",
        "We are setting quality_checked to \"True\", to only include subjects that passed quality control.\n",
        "\n",
        "\n",
        "\n",
        "**Caution, the following code downloads the whole dataset. If you want only a subset downloaded, change `n_subjects` to how many subjects you want!**"
      ]
    },
    {
      "cell_type": "code",
      "execution_count": 1,
      "metadata": {
        "id": "EVa5e4naUA8o"
      },
      "outputs": [],
      "source": [
        "# This Python 3 environment comes with many helpful analytics libraries installed\n",
        "# It is defined by the kaggle/python Docker image: https://github.com/kaggle/docker-python\n",
        "# For example, here's several helpful packages to load\n",
        "\n",
        "import numpy as np # linear algebra\n",
        "import pandas as pd # data processing, CSV file I/O (e.g. pd.read_csv)\n",
        "\n",
        "# Input data files are available in the read-only \"../input/\" directory\n",
        "# For example, running this (by clicking run or pressing Shift+Enter) will list all files under the input directory\n",
        "\n",
        "import os\n",
        "for dirname, _, filenames in os.walk('/kaggle/input'):\n",
        "    for filename in filenames:\n",
        "        print(os.path.join(dirname, filename))\n",
        "\n",
        "# You can write up to 20GB to the current directory (/kaggle/working/) that gets preserved as output when you create a version using \"Save & Run All\"\n",
        "# You can also write temporary files to /kaggle/temp/, but they won't be saved outside of the current session"
      ]
    },
    {
      "cell_type": "code",
      "execution_count": 2,
      "metadata": {
        "colab": {
          "base_uri": "https://localhost:8080/"
        },
        "id": "slch1-CwUA8q",
        "outputId": "1329b9ab-d40c-4087-c81a-ab672fb9b428"
      },
      "outputs": [
        {
          "name": "stdout",
          "output_type": "stream",
          "text": [
            "Collecting nilearn\n",
            "  Downloading nilearn-0.11.1-py3-none-any.whl (10.5 MB)\n",
            "                                              0.0/10.5 MB ? eta -:--:--\n",
            "                                              0.2/10.5 MB 6.9 MB/s eta 0:00:02\n",
            "     --                                       0.5/10.5 MB 6.8 MB/s eta 0:00:02\n",
            "     ---                                      0.9/10.5 MB 6.8 MB/s eta 0:00:02\n",
            "     ----                                     1.1/10.5 MB 6.3 MB/s eta 0:00:02\n",
            "     ----                                     1.3/10.5 MB 5.8 MB/s eta 0:00:02\n",
            "     -----                                    1.6/10.5 MB 5.8 MB/s eta 0:00:02\n",
            "     -------                                  1.8/10.5 MB 5.9 MB/s eta 0:00:02\n",
            "     --------                                 2.2/10.5 MB 6.0 MB/s eta 0:00:02\n",
            "     ---------                                2.6/10.5 MB 6.4 MB/s eta 0:00:02\n",
            "     -----------                              2.9/10.5 MB 6.5 MB/s eta 0:00:02\n",
            "     ------------                             3.4/10.5 MB 6.7 MB/s eta 0:00:02\n",
            "     --------------                           3.8/10.5 MB 6.9 MB/s eta 0:00:01\n",
            "     ---------------                          4.1/10.5 MB 6.9 MB/s eta 0:00:01\n",
            "     ----------------                         4.3/10.5 MB 6.7 MB/s eta 0:00:01\n",
            "     -----------------                        4.7/10.5 MB 6.8 MB/s eta 0:00:01\n",
            "     -------------------                      5.1/10.5 MB 6.9 MB/s eta 0:00:01\n",
            "     --------------------                     5.4/10.5 MB 6.9 MB/s eta 0:00:01\n",
            "     ---------------------                    5.7/10.5 MB 7.0 MB/s eta 0:00:01\n",
            "     ---------------------                    5.7/10.5 MB 7.0 MB/s eta 0:00:01\n",
            "     ------------------------                 6.3/10.5 MB 7.0 MB/s eta 0:00:01\n",
            "     -------------------------                6.7/10.5 MB 7.0 MB/s eta 0:00:01\n",
            "     --------------------------               7.0/10.5 MB 7.0 MB/s eta 0:00:01\n",
            "     ----------------------------             7.5/10.5 MB 7.1 MB/s eta 0:00:01\n",
            "     ------------------------------           7.9/10.5 MB 7.2 MB/s eta 0:00:01\n",
            "     -------------------------------          8.4/10.5 MB 7.3 MB/s eta 0:00:01\n",
            "     ---------------------------------        8.8/10.5 MB 7.4 MB/s eta 0:00:01\n",
            "     -----------------------------------      9.3/10.5 MB 7.5 MB/s eta 0:00:01\n",
            "     ------------------------------------     9.6/10.5 MB 7.5 MB/s eta 0:00:01\n",
            "     --------------------------------------   10.0/10.5 MB 7.5 MB/s eta 0:00:01\n",
            "     ---------------------------------------  10.4/10.5 MB 7.5 MB/s eta 0:00:01\n",
            "     ---------------------------------------  10.5/10.5 MB 7.7 MB/s eta 0:00:01\n",
            "     ---------------------------------------- 10.5/10.5 MB 7.4 MB/s eta 0:00:00\n",
            "Collecting joblib>=1.2.0 (from nilearn)\n",
            "  Downloading joblib-1.4.2-py3-none-any.whl (301 kB)\n",
            "                                              0.0/301.8 kB ? eta -:--:--\n",
            "     -------------------------------------- 301.8/301.8 kB 9.4 MB/s eta 0:00:00\n",
            "Collecting lxml (from nilearn)\n",
            "  Downloading lxml-5.3.0-cp311-cp311-win_amd64.whl (3.8 MB)\n",
            "                                              0.0/3.8 MB ? eta -:--:--\n",
            "     ---                                      0.3/3.8 MB 9.6 MB/s eta 0:00:01\n",
            "     -------                                  0.7/3.8 MB 10.9 MB/s eta 0:00:01\n",
            "     -----------                              1.1/3.8 MB 8.7 MB/s eta 0:00:01\n",
            "     ---------------                          1.5/3.8 MB 9.3 MB/s eta 0:00:01\n",
            "     -------------------                      1.9/3.8 MB 8.6 MB/s eta 0:00:01\n",
            "     ------------------------                 2.3/3.8 MB 8.6 MB/s eta 0:00:01\n",
            "     ---------------------------              2.7/3.8 MB 8.5 MB/s eta 0:00:01\n",
            "     --------------------------------         3.1/3.8 MB 8.7 MB/s eta 0:00:01\n",
            "     -------------------------------------    3.6/3.8 MB 9.2 MB/s eta 0:00:01\n",
            "     ---------------------------------------- 3.8/3.8 MB 9.0 MB/s eta 0:00:00\n",
            "Collecting nibabel>=5.2.0 (from nilearn)\n",
            "  Downloading nibabel-5.3.2-py3-none-any.whl (3.3 MB)\n",
            "                                              0.0/3.3 MB ? eta -:--:--\n",
            "     ----                                     0.3/3.3 MB 10.6 MB/s eta 0:00:01\n",
            "     --------                                 0.7/3.3 MB 8.7 MB/s eta 0:00:01\n",
            "     ------------                             1.0/3.3 MB 8.3 MB/s eta 0:00:01\n",
            "     -----------------                        1.5/3.3 MB 8.4 MB/s eta 0:00:01\n",
            "     ----------------------                   1.8/3.3 MB 8.2 MB/s eta 0:00:01\n",
            "     --------------------------               2.2/3.3 MB 8.2 MB/s eta 0:00:01\n",
            "     ------------------------------           2.5/3.3 MB 8.0 MB/s eta 0:00:01\n",
            "     -----------------------------------      3.0/3.3 MB 8.2 MB/s eta 0:00:01\n",
            "     ---------------------------------------  3.3/3.3 MB 8.1 MB/s eta 0:00:01\n",
            "     ---------------------------------------- 3.3/3.3 MB 7.8 MB/s eta 0:00:00\n",
            "Requirement already satisfied: numpy>=1.22.4 in c:\\users\\kadiy\\appdata\\local\\programs\\python\\python311\\lib\\site-packages (from nilearn) (1.24.3)\n",
            "Requirement already satisfied: packaging in c:\\users\\kadiy\\appdata\\roaming\\python\\python311\\site-packages (from nilearn) (23.1)\n",
            "Collecting pandas>=2.2.0 (from nilearn)\n",
            "  Downloading pandas-2.2.3-cp311-cp311-win_amd64.whl (11.6 MB)\n",
            "                                              0.0/11.6 MB ? eta -:--:--\n",
            "     -                                        0.5/11.6 MB 9.6 MB/s eta 0:00:02\n",
            "     --                                       0.8/11.6 MB 8.7 MB/s eta 0:00:02\n",
            "     ----                                     1.3/11.6 MB 9.2 MB/s eta 0:00:02\n",
            "     -----                                    1.6/11.6 MB 8.4 MB/s eta 0:00:02\n",
            "     ------                                   2.0/11.6 MB 8.3 MB/s eta 0:00:02\n",
            "     ------                                   2.0/11.6 MB 8.1 MB/s eta 0:00:02\n",
            "     ---------                                2.8/11.6 MB 8.5 MB/s eta 0:00:02\n",
            "     ----------                               3.1/11.6 MB 8.4 MB/s eta 0:00:02\n",
            "     ------------                             3.5/11.6 MB 8.3 MB/s eta 0:00:01\n",
            "     -------------                            3.9/11.6 MB 8.3 MB/s eta 0:00:01\n",
            "     --------------                           4.3/11.6 MB 8.2 MB/s eta 0:00:01\n",
            "     ----------------                         4.7/11.6 MB 8.4 MB/s eta 0:00:01\n",
            "     -----------------                        5.1/11.6 MB 8.4 MB/s eta 0:00:01\n",
            "     -------------------                      5.5/11.6 MB 8.4 MB/s eta 0:00:01\n",
            "     --------------------                     6.0/11.6 MB 8.5 MB/s eta 0:00:01\n",
            "     ----------------------                   6.4/11.6 MB 8.6 MB/s eta 0:00:01\n",
            "     ------------------------                 7.1/11.6 MB 8.7 MB/s eta 0:00:01\n",
            "     -------------------------                7.5/11.6 MB 8.8 MB/s eta 0:00:01\n",
            "     --------------------------               7.8/11.6 MB 8.8 MB/s eta 0:00:01\n",
            "     ----------------------------             8.2/11.6 MB 8.8 MB/s eta 0:00:01\n",
            "     -----------------------------            8.6/11.6 MB 8.7 MB/s eta 0:00:01\n",
            "     ------------------------------           8.8/11.6 MB 8.5 MB/s eta 0:00:01\n",
            "     -------------------------------          9.2/11.6 MB 8.5 MB/s eta 0:00:01\n",
            "     ---------------------------------        9.6/11.6 MB 8.5 MB/s eta 0:00:01\n",
            "     ----------------------------------       10.0/11.6 MB 8.6 MB/s eta 0:00:01\n",
            "     -----------------------------------      10.4/11.6 MB 8.6 MB/s eta 0:00:01\n",
            "     -------------------------------------    10.8/11.6 MB 8.5 MB/s eta 0:00:01\n",
            "     --------------------------------------   11.2/11.6 MB 8.6 MB/s eta 0:00:01\n",
            "     ---------------------------------------  11.4/11.6 MB 8.5 MB/s eta 0:00:01\n",
            "     ---------------------------------------  11.6/11.6 MB 8.4 MB/s eta 0:00:01\n",
            "     ---------------------------------------- 11.6/11.6 MB 8.0 MB/s eta 0:00:00\n",
            "Collecting requests>=2.25.0 (from nilearn)\n",
            "  Downloading requests-2.32.3-py3-none-any.whl (64 kB)\n",
            "                                              0.0/64.9 kB ? eta -:--:--\n",
            "     ---------------------------------------- 64.9/64.9 kB 3.6 MB/s eta 0:00:00\n",
            "Collecting scikit-learn>=1.4.0 (from nilearn)\n",
            "  Downloading scikit_learn-1.6.1-cp311-cp311-win_amd64.whl (11.1 MB)\n",
            "                                              0.0/11.1 MB ? eta -:--:--\n",
            "     -                                        0.3/11.1 MB 7.0 MB/s eta 0:00:02\n",
            "     --                                       0.8/11.1 MB 8.7 MB/s eta 0:00:02\n",
            "     ----                                     1.2/11.1 MB 9.8 MB/s eta 0:00:02\n",
            "     -----                                    1.6/11.1 MB 9.5 MB/s eta 0:00:02\n",
            "     -------                                  2.1/11.1 MB 9.4 MB/s eta 0:00:01\n",
            "     --------                                 2.5/11.1 MB 9.4 MB/s eta 0:00:01\n",
            "     ----------                               2.9/11.1 MB 9.4 MB/s eta 0:00:01\n",
            "     ------------                             3.3/11.1 MB 9.3 MB/s eta 0:00:01\n",
            "     -------------                            3.8/11.1 MB 9.3 MB/s eta 0:00:01\n",
            "     ---------------                          4.3/11.1 MB 9.2 MB/s eta 0:00:01\n",
            "     -----------------                        4.8/11.1 MB 9.5 MB/s eta 0:00:01\n",
            "     ------------------                       5.2/11.1 MB 9.5 MB/s eta 0:00:01\n",
            "     --------------------                     5.7/11.1 MB 9.6 MB/s eta 0:00:01\n",
            "     ----------------------                   6.2/11.1 MB 9.6 MB/s eta 0:00:01\n",
            "     -----------------------                  6.5/11.1 MB 9.4 MB/s eta 0:00:01\n",
            "     ------------------------                 6.9/11.1 MB 9.4 MB/s eta 0:00:01\n",
            "     --------------------------               7.4/11.1 MB 9.4 MB/s eta 0:00:01\n",
            "     ---------------------------              7.8/11.1 MB 9.4 MB/s eta 0:00:01\n",
            "     -----------------------------            8.1/11.1 MB 9.2 MB/s eta 0:00:01\n",
            "     ------------------------------           8.5/11.1 MB 9.2 MB/s eta 0:00:01\n",
            "     -------------------------------          8.9/11.1 MB 9.2 MB/s eta 0:00:01\n",
            "     ---------------------------------        9.3/11.1 MB 9.2 MB/s eta 0:00:01\n",
            "     -----------------------------------      9.8/11.1 MB 9.2 MB/s eta 0:00:01\n",
            "     ------------------------------------     10.2/11.1 MB 9.2 MB/s eta 0:00:01\n",
            "     -------------------------------------    10.5/11.1 MB 9.1 MB/s eta 0:00:01\n",
            "     ---------------------------------------  10.9/11.1 MB 9.0 MB/s eta 0:00:01\n",
            "     ---------------------------------------  11.1/11.1 MB 9.1 MB/s eta 0:00:01\n",
            "     ---------------------------------------- 11.1/11.1 MB 8.8 MB/s eta 0:00:00\n",
            "Collecting scipy>=1.8.0 (from nilearn)\n",
            "  Downloading scipy-1.15.1-cp311-cp311-win_amd64.whl (43.9 MB)\n",
            "                                              0.0/43.9 MB ? eta -:--:--\n",
            "                                              0.0/43.9 MB ? eta -:--:--\n",
            "                                              0.2/43.9 MB 4.1 MB/s eta 0:00:11\n",
            "                                              0.5/43.9 MB 5.1 MB/s eta 0:00:09\n",
            "                                              0.8/43.9 MB 6.0 MB/s eta 0:00:08\n",
            "     -                                        1.3/43.9 MB 7.3 MB/s eta 0:00:06\n",
            "     -                                        1.6/43.9 MB 7.2 MB/s eta 0:00:06\n",
            "     -                                        2.0/43.9 MB 7.6 MB/s eta 0:00:06\n",
            "     --                                       2.5/43.9 MB 8.0 MB/s eta 0:00:06\n",
            "     --                                       3.0/43.9 MB 8.4 MB/s eta 0:00:05\n",
            "     ---                                      3.4/43.9 MB 8.4 MB/s eta 0:00:05\n",
            "     ---                                      3.9/43.9 MB 8.6 MB/s eta 0:00:05\n",
            "     ----                                     4.4/43.9 MB 8.8 MB/s eta 0:00:05\n",
            "     ----                                     4.8/43.9 MB 8.8 MB/s eta 0:00:05\n",
            "     ----                                     5.2/43.9 MB 8.8 MB/s eta 0:00:05\n",
            "     -----                                    5.7/43.9 MB 8.9 MB/s eta 0:00:05\n",
            "     -----                                    6.2/43.9 MB 9.0 MB/s eta 0:00:05\n",
            "     ------                                   6.6/43.9 MB 9.0 MB/s eta 0:00:05\n",
            "     ------                                   7.1/43.9 MB 9.0 MB/s eta 0:00:05\n",
            "     ------                                   7.5/43.9 MB 9.0 MB/s eta 0:00:05\n",
            "     -------                                  7.8/43.9 MB 8.9 MB/s eta 0:00:05\n",
            "     -------                                  8.1/43.9 MB 8.8 MB/s eta 0:00:05\n",
            "     -------                                  8.6/43.9 MB 8.9 MB/s eta 0:00:04\n",
            "     --------                                 9.0/43.9 MB 8.8 MB/s eta 0:00:04\n",
            "     --------                                 9.4/43.9 MB 8.9 MB/s eta 0:00:04\n",
            "     --------                                 9.8/43.9 MB 8.9 MB/s eta 0:00:04\n",
            "     ---------                                10.2/43.9 MB 8.8 MB/s eta 0:00:04\n",
            "     ---------                                10.7/43.9 MB 9.2 MB/s eta 0:00:04\n",
            "     ----------                               11.2/43.9 MB 9.2 MB/s eta 0:00:04\n",
            "     ----------                               11.6/43.9 MB 9.4 MB/s eta 0:00:04\n",
            "     ----------                               12.0/43.9 MB 9.4 MB/s eta 0:00:04\n",
            "     -----------                              12.4/43.9 MB 9.4 MB/s eta 0:00:04\n",
            "     -----------                              12.8/43.9 MB 9.2 MB/s eta 0:00:04\n",
            "     ------------                             13.2/43.9 MB 9.1 MB/s eta 0:00:04\n",
            "     ------------                             13.6/43.9 MB 9.1 MB/s eta 0:00:04\n",
            "     ------------                             14.0/43.9 MB 9.1 MB/s eta 0:00:04\n",
            "     -------------                            14.4/43.9 MB 9.0 MB/s eta 0:00:04\n",
            "     -------------                            14.8/43.9 MB 9.0 MB/s eta 0:00:04\n",
            "     -------------                            15.3/43.9 MB 9.0 MB/s eta 0:00:04\n",
            "     --------------                           15.6/43.9 MB 8.8 MB/s eta 0:00:04\n",
            "     --------------                           16.0/43.9 MB 8.8 MB/s eta 0:00:04\n",
            "     --------------                           16.4/43.9 MB 8.7 MB/s eta 0:00:04\n",
            "     ---------------                          16.9/43.9 MB 8.7 MB/s eta 0:00:04\n",
            "     ---------------                          17.2/43.9 MB 8.7 MB/s eta 0:00:04\n",
            "     ----------------                         17.6/43.9 MB 8.7 MB/s eta 0:00:04\n",
            "     ----------------                         18.0/43.9 MB 8.7 MB/s eta 0:00:03\n",
            "     ----------------                         18.4/43.9 MB 8.8 MB/s eta 0:00:03\n",
            "     -----------------                        18.8/43.9 MB 8.8 MB/s eta 0:00:03\n",
            "     -----------------                        19.2/43.9 MB 8.8 MB/s eta 0:00:03\n",
            "     -----------------                        19.7/43.9 MB 8.8 MB/s eta 0:00:03\n",
            "     ------------------                       20.0/43.9 MB 8.8 MB/s eta 0:00:03\n",
            "     ------------------                       20.5/43.9 MB 8.8 MB/s eta 0:00:03\n",
            "     -------------------                      20.9/43.9 MB 8.7 MB/s eta 0:00:03\n",
            "     -------------------                      21.3/43.9 MB 8.7 MB/s eta 0:00:03\n",
            "     -------------------                      21.7/43.9 MB 8.7 MB/s eta 0:00:03\n",
            "     --------------------                     22.1/43.9 MB 8.7 MB/s eta 0:00:03\n",
            "     --------------------                     22.6/43.9 MB 8.7 MB/s eta 0:00:03\n",
            "     --------------------                     23.0/43.9 MB 8.8 MB/s eta 0:00:03\n",
            "     ---------------------                    23.5/43.9 MB 9.0 MB/s eta 0:00:03\n",
            "     ---------------------                    23.9/43.9 MB 9.0 MB/s eta 0:00:03\n",
            "     ---------------------                    23.9/43.9 MB 9.0 MB/s eta 0:00:03\n",
            "     ----------------------                   24.5/43.9 MB 8.7 MB/s eta 0:00:03\n",
            "     ----------------------                   24.9/43.9 MB 8.8 MB/s eta 0:00:03\n",
            "     -----------------------                  25.4/43.9 MB 8.8 MB/s eta 0:00:03\n",
            "     -----------------------                  25.9/43.9 MB 9.0 MB/s eta 0:00:03\n",
            "     ------------------------                 26.4/43.9 MB 9.1 MB/s eta 0:00:02\n",
            "     ------------------------                 26.9/43.9 MB 9.1 MB/s eta 0:00:02\n",
            "     ------------------------                 27.4/43.9 MB 9.2 MB/s eta 0:00:02\n",
            "     -------------------------                27.8/43.9 MB 9.2 MB/s eta 0:00:02\n",
            "     -------------------------                28.3/43.9 MB 9.4 MB/s eta 0:00:02\n",
            "     --------------------------               28.7/43.9 MB 9.4 MB/s eta 0:00:02\n",
            "     --------------------------               29.2/43.9 MB 9.5 MB/s eta 0:00:02\n",
            "     --------------------------               29.6/43.9 MB 9.4 MB/s eta 0:00:02\n",
            "     ---------------------------              30.1/43.9 MB 9.4 MB/s eta 0:00:02\n",
            "     ---------------------------              30.5/43.9 MB 9.5 MB/s eta 0:00:02\n",
            "     ----------------------------             31.0/43.9 MB 9.5 MB/s eta 0:00:02\n",
            "     ----------------------------             31.5/43.9 MB 9.6 MB/s eta 0:00:02\n",
            "     -----------------------------            31.9/43.9 MB 9.6 MB/s eta 0:00:02\n",
            "     -----------------------------            32.4/43.9 MB 9.6 MB/s eta 0:00:02\n",
            "     -----------------------------            32.9/43.9 MB 9.6 MB/s eta 0:00:02\n",
            "     ------------------------------           33.3/43.9 MB 9.6 MB/s eta 0:00:02\n",
            "     ------------------------------           33.8/43.9 MB 9.6 MB/s eta 0:00:02\n",
            "     ------------------------------          34.3/43.9 MB 10.2 MB/s eta 0:00:01\n",
            "     ------------------------------          34.8/43.9 MB 10.1 MB/s eta 0:00:01\n",
            "     -------------------------------         35.3/43.9 MB 10.1 MB/s eta 0:00:01\n",
            "     -------------------------------         35.8/43.9 MB 10.1 MB/s eta 0:00:01\n",
            "     --------------------------------        36.3/43.9 MB 10.1 MB/s eta 0:00:01\n",
            "     --------------------------------        36.7/43.9 MB 10.1 MB/s eta 0:00:01\n",
            "     ---------------------------------       37.3/43.9 MB 10.1 MB/s eta 0:00:01\n",
            "     ---------------------------------       37.6/43.9 MB 10.2 MB/s eta 0:00:01\n",
            "     ---------------------------------       38.0/43.9 MB 10.1 MB/s eta 0:00:01\n",
            "     ----------------------------------      38.4/43.9 MB 10.1 MB/s eta 0:00:01\n",
            "     ----------------------------------      38.9/43.9 MB 10.1 MB/s eta 0:00:01\n",
            "     ----------------------------------      39.4/43.9 MB 10.1 MB/s eta 0:00:01\n",
            "     -----------------------------------     39.9/43.9 MB 10.2 MB/s eta 0:00:01\n",
            "     -----------------------------------     40.4/43.9 MB 10.2 MB/s eta 0:00:01\n",
            "     ------------------------------------    41.0/43.9 MB 10.4 MB/s eta 0:00:01\n",
            "     ------------------------------------    41.5/43.9 MB 10.4 MB/s eta 0:00:01\n",
            "     -------------------------------------   42.0/43.9 MB 10.4 MB/s eta 0:00:01\n",
            "     -------------------------------------   42.5/43.9 MB 10.4 MB/s eta 0:00:01\n",
            "     --------------------------------------  43.0/43.9 MB 10.6 MB/s eta 0:00:01\n",
            "     --------------------------------------  43.5/43.9 MB 10.6 MB/s eta 0:00:01\n",
            "     --------------------------------------  43.9/43.9 MB 10.6 MB/s eta 0:00:01\n",
            "     --------------------------------------  43.9/43.9 MB 10.6 MB/s eta 0:00:01\n",
            "     --------------------------------------  43.9/43.9 MB 10.6 MB/s eta 0:00:01\n",
            "     ---------------------------------------- 43.9/43.9 MB 8.7 MB/s eta 0:00:00\n",
            "Collecting importlib-resources>=5.12 (from nibabel>=5.2.0->nilearn)\n",
            "  Downloading importlib_resources-6.5.2-py3-none-any.whl (37 kB)\n",
            "Collecting typing-extensions>=4.6 (from nibabel>=5.2.0->nilearn)\n",
            "  Downloading typing_extensions-4.12.2-py3-none-any.whl (37 kB)\n",
            "Requirement already satisfied: python-dateutil>=2.8.2 in c:\\users\\kadiy\\appdata\\roaming\\python\\python311\\site-packages (from pandas>=2.2.0->nilearn) (2.8.2)\n",
            "Requirement already satisfied: pytz>=2020.1 in c:\\users\\kadiy\\appdata\\local\\programs\\python\\python311\\lib\\site-packages (from pandas>=2.2.0->nilearn) (2023.3)\n",
            "Requirement already satisfied: tzdata>=2022.7 in c:\\users\\kadiy\\appdata\\local\\programs\\python\\python311\\lib\\site-packages (from pandas>=2.2.0->nilearn) (2023.3)\n",
            "Collecting charset-normalizer<4,>=2 (from requests>=2.25.0->nilearn)\n",
            "  Downloading charset_normalizer-3.4.1-cp311-cp311-win_amd64.whl (102 kB)\n",
            "                                              0.0/102.4 kB ? eta -:--:--\n",
            "     -------------------------------------- 102.4/102.4 kB 5.8 MB/s eta 0:00:00\n",
            "Collecting idna<4,>=2.5 (from requests>=2.25.0->nilearn)\n",
            "  Downloading idna-3.10-py3-none-any.whl (70 kB)\n",
            "                                              0.0/70.4 kB ? eta -:--:--\n",
            "     ---------------------------------------- 70.4/70.4 kB 3.8 MB/s eta 0:00:00\n",
            "Collecting urllib3<3,>=1.21.1 (from requests>=2.25.0->nilearn)\n",
            "  Downloading urllib3-2.3.0-py3-none-any.whl (128 kB)\n",
            "                                              0.0/128.4 kB ? eta -:--:--\n",
            "     -------------------------------------- 128.4/128.4 kB 7.9 MB/s eta 0:00:00\n",
            "Collecting certifi>=2017.4.17 (from requests>=2.25.0->nilearn)\n",
            "  Downloading certifi-2025.1.31-py3-none-any.whl (166 kB)\n",
            "                                              0.0/166.4 kB ? eta -:--:--\n",
            "     -------------------------------------- 166.4/166.4 kB 9.8 MB/s eta 0:00:00\n",
            "Collecting threadpoolctl>=3.1.0 (from scikit-learn>=1.4.0->nilearn)\n",
            "  Downloading threadpoolctl-3.5.0-py3-none-any.whl (18 kB)\n",
            "Requirement already satisfied: six>=1.5 in c:\\users\\kadiy\\appdata\\roaming\\python\\python311\\site-packages (from python-dateutil>=2.8.2->pandas>=2.2.0->nilearn) (1.16.0)\n",
            "Installing collected packages: urllib3, typing-extensions, threadpoolctl, scipy, lxml, joblib, importlib-resources, idna, charset-normalizer, certifi, scikit-learn, requests, pandas, nibabel, nilearn\n",
            "  Attempting uninstall: pandas\n",
            "    Found existing installation: pandas 2.0.2\n",
            "    Uninstalling pandas-2.0.2:\n",
            "      Successfully uninstalled pandas-2.0.2\n"
          ]
        },
        {
          "name": "stderr",
          "output_type": "stream",
          "text": [
            "ERROR: Could not install packages due to an OSError: [WinError 5] Access is denied: 'C:\\\\Users\\\\kadiy\\\\AppData\\\\Local\\\\Programs\\\\Python\\\\Python311\\\\Lib\\\\site-packages\\\\~andas\\\\_libs\\\\algos.cp311-win_amd64.pyd'\n",
            "Consider using the `--user` option or check the permissions.\n",
            "\n",
            "\n",
            "[notice] A new release of pip is available: 23.1.2 -> 25.0\n",
            "[notice] To update, run: python.exe -m pip install --upgrade pip\n"
          ]
        }
      ],
      "source": [
        "!pip install nilearn"
      ]
    },
    {
      "cell_type": "code",
      "execution_count": null,
      "metadata": {
        "colab": {
          "base_uri": "https://localhost:8080/"
        },
        "id": "bdtERHUSUA8r",
        "outputId": "9cb3fa08-bea7-4a0b-fb0f-61a4a08f5a3e"
      },
      "outputs": [
        {
          "name": "stdout",
          "output_type": "stream",
          "text": [
            "\n",
            "Added README.md to /kaggle/working/D\n",
            "\n",
            "\n",
            "Dataset created in /kaggle/working/D/ABIDE_pcp\n",
            "\n",
            "Downloading data from https://s3.amazonaws.com/fcp-indi/data/Projects/ABIDE_Initiative/Phenotypic_V1_0b_preprocessed1.csv ...\n"
          ]
        },
        {
          "name": "stderr",
          "output_type": "stream",
          "text": [
            " ...done. (1 seconds, 0 min)\n"
          ]
        },
        {
          "name": "stdout",
          "output_type": "stream",
          "text": [
            "Downloading data from https://s3.amazonaws.com/fcp-indi/data/Projects/ABIDE_Initiative/Outputs/cpac/nofilt_noglobal/func_preproc/Pitt_0050003_func_preproc.nii.gz ...\n"
          ]
        },
        {
          "name": "stderr",
          "output_type": "stream",
          "text": [
            "Downloaded 98279424 of 104419884 bytes (94.1%,    0.5s remaining) ...done. (10 seconds, 0 min)\n"
          ]
        },
        {
          "name": "stdout",
          "output_type": "stream",
          "text": [
            "Downloading data from https://s3.amazonaws.com/fcp-indi/data/Projects/ABIDE_Initiative/Outputs/cpac/nofilt_noglobal/func_preproc/Pitt_0050004_func_preproc.nii.gz ...\n"
          ]
        },
        {
          "name": "stderr",
          "output_type": "stream",
          "text": [
            "Downloaded 92864512 of 107986683 bytes (86.0%,    1.2s remaining) ...done. (9 seconds, 0 min)\n"
          ]
        },
        {
          "name": "stdout",
          "output_type": "stream",
          "text": [
            "Downloading data from https://s3.amazonaws.com/fcp-indi/data/Projects/ABIDE_Initiative/Outputs/cpac/nofilt_noglobal/func_preproc/Pitt_0050005_func_preproc.nii.gz ...\n"
          ]
        },
        {
          "name": "stderr",
          "output_type": "stream",
          "text": [
            "Downloaded 98164736 of 110518334 bytes (88.8%,    0.9s remaining) ...done. (9 seconds, 0 min)\n"
          ]
        },
        {
          "name": "stdout",
          "output_type": "stream",
          "text": [
            "Downloading data from https://s3.amazonaws.com/fcp-indi/data/Projects/ABIDE_Initiative/Outputs/cpac/nofilt_noglobal/func_preproc/Pitt_0050006_func_preproc.nii.gz ...\n"
          ]
        },
        {
          "name": "stderr",
          "output_type": "stream",
          "text": [
            "Downloaded 98435072 of 115167850 bytes (85.5%,    1.3s remaining) ...done. (9 seconds, 0 min)\n"
          ]
        },
        {
          "name": "stdout",
          "output_type": "stream",
          "text": [
            "Downloading data from https://s3.amazonaws.com/fcp-indi/data/Projects/ABIDE_Initiative/Outputs/cpac/nofilt_noglobal/func_preproc/Pitt_0050007_func_preproc.nii.gz ...\n"
          ]
        },
        {
          "name": "stderr",
          "output_type": "stream",
          "text": [
            "Downloaded 102899712 of 102974496 bytes (99.9%,    0.0s remaining) ...done. (11 seconds, 0 min)\n"
          ]
        },
        {
          "name": "stdout",
          "output_type": "stream",
          "text": [
            "Downloading data from https://s3.amazonaws.com/fcp-indi/data/Projects/ABIDE_Initiative/Outputs/cpac/nofilt_noglobal/func_preproc/Pitt_0050008_func_preproc.nii.gz ...\n"
          ]
        },
        {
          "name": "stderr",
          "output_type": "stream",
          "text": [
            "Downloaded 92717056 of 105723516 bytes (87.7%,    1.2s remaining) ...done. (10 seconds, 0 min)\n"
          ]
        },
        {
          "name": "stdout",
          "output_type": "stream",
          "text": [
            "Downloading data from https://s3.amazonaws.com/fcp-indi/data/Projects/ABIDE_Initiative/Outputs/cpac/nofilt_noglobal/func_preproc/Pitt_0050010_func_preproc.nii.gz ...\n"
          ]
        },
        {
          "name": "stderr",
          "output_type": "stream",
          "text": [
            "Downloaded 100892672 of 108702932 bytes (92.8%,    0.7s remaining) ...done. (10 seconds, 0 min)\n"
          ]
        },
        {
          "name": "stdout",
          "output_type": "stream",
          "text": [
            "Downloading data from https://s3.amazonaws.com/fcp-indi/data/Projects/ABIDE_Initiative/Outputs/cpac/nofilt_noglobal/func_preproc/Pitt_0050011_func_preproc.nii.gz ...\n"
          ]
        },
        {
          "name": "stderr",
          "output_type": "stream",
          "text": [
            "Downloaded 86671360 of 100532666 bytes (86.2%,    1.4s remaining) ...done. (10 seconds, 0 min)\n"
          ]
        },
        {
          "name": "stdout",
          "output_type": "stream",
          "text": [
            "Downloading data from https://s3.amazonaws.com/fcp-indi/data/Projects/ABIDE_Initiative/Outputs/cpac/nofilt_noglobal/func_preproc/Pitt_0050012_func_preproc.nii.gz ...\n"
          ]
        },
        {
          "name": "stderr",
          "output_type": "stream",
          "text": [
            "Downloaded 100851712 of 110228275 bytes (91.5%,    0.9s remaining) ...done. (11 seconds, 0 min)\n"
          ]
        },
        {
          "name": "stdout",
          "output_type": "stream",
          "text": [
            "Downloading data from https://s3.amazonaws.com/fcp-indi/data/Projects/ABIDE_Initiative/Outputs/cpac/nofilt_noglobal/func_preproc/Pitt_0050013_func_preproc.nii.gz ...\n"
          ]
        },
        {
          "name": "stderr",
          "output_type": "stream",
          "text": [
            "Downloaded 105242624 of 112533425 bytes (93.5%,    0.7s remaining) ...done. (11 seconds, 0 min)\n"
          ]
        },
        {
          "name": "stdout",
          "output_type": "stream",
          "text": [
            "Downloading data from https://s3.amazonaws.com/fcp-indi/data/Projects/ABIDE_Initiative/Outputs/cpac/nofilt_noglobal/func_preproc/Pitt_0050014_func_preproc.nii.gz ...\n"
          ]
        },
        {
          "name": "stderr",
          "output_type": "stream",
          "text": [
            "Downloaded 93798400 of 110058848 bytes (85.2%,    1.3s remaining) ...done. (9 seconds, 0 min)\n"
          ]
        },
        {
          "name": "stdout",
          "output_type": "stream",
          "text": [
            "Downloading data from https://s3.amazonaws.com/fcp-indi/data/Projects/ABIDE_Initiative/Outputs/cpac/nofilt_noglobal/func_preproc/Pitt_0050015_func_preproc.nii.gz ...\n"
          ]
        },
        {
          "name": "stderr",
          "output_type": "stream",
          "text": [
            "Downloaded 105611264 of 110376924 bytes (95.7%,    0.4s remaining) ...done. (11 seconds, 0 min)\n"
          ]
        },
        {
          "name": "stdout",
          "output_type": "stream",
          "text": [
            "Downloading data from https://s3.amazonaws.com/fcp-indi/data/Projects/ABIDE_Initiative/Outputs/cpac/nofilt_noglobal/func_preproc/Pitt_0050016_func_preproc.nii.gz ...\n"
          ]
        },
        {
          "name": "stderr",
          "output_type": "stream",
          "text": [
            "Downloaded 101179392 of 102489954 bytes (98.7%,    0.1s remaining) ...done. (10 seconds, 0 min)\n"
          ]
        },
        {
          "name": "stdout",
          "output_type": "stream",
          "text": [
            "Downloading data from https://s3.amazonaws.com/fcp-indi/data/Projects/ABIDE_Initiative/Outputs/cpac/nofilt_noglobal/func_preproc/Pitt_0050020_func_preproc.nii.gz ...\n"
          ]
        },
        {
          "name": "stderr",
          "output_type": "stream",
          "text": [
            "Downloaded 105914368 of 108195357 bytes (97.9%,    0.2s remaining) ...done. (11 seconds, 0 min)\n"
          ]
        },
        {
          "name": "stdout",
          "output_type": "stream",
          "text": [
            "Downloading data from https://s3.amazonaws.com/fcp-indi/data/Projects/ABIDE_Initiative/Outputs/cpac/nofilt_noglobal/func_preproc/Pitt_0050022_func_preproc.nii.gz ...\n"
          ]
        },
        {
          "name": "stderr",
          "output_type": "stream",
          "text": [
            "Downloaded 90906624 of 105232630 bytes (86.4%,    2.9s remaining) ...done. (20 seconds, 0 min)\n"
          ]
        },
        {
          "name": "stdout",
          "output_type": "stream",
          "text": [
            "Downloading data from https://s3.amazonaws.com/fcp-indi/data/Projects/ABIDE_Initiative/Outputs/cpac/nofilt_noglobal/func_preproc/Pitt_0050023_func_preproc.nii.gz ...\n"
          ]
        },
        {
          "name": "stderr",
          "output_type": "stream",
          "text": [
            "Downloaded 104202240 of 111013388 bytes (93.9%,    0.6s remaining) ...done. (11 seconds, 0 min)\n"
          ]
        },
        {
          "name": "stdout",
          "output_type": "stream",
          "text": [
            "Downloading data from https://s3.amazonaws.com/fcp-indi/data/Projects/ABIDE_Initiative/Outputs/cpac/nofilt_noglobal/func_preproc/Pitt_0050024_func_preproc.nii.gz ...\n"
          ]
        },
        {
          "name": "stderr",
          "output_type": "stream",
          "text": [
            "Downloaded 96739328 of 104067786 bytes (93.0%,    0.7s remaining) ...done. (10 seconds, 0 min)\n"
          ]
        },
        {
          "name": "stdout",
          "output_type": "stream",
          "text": [
            "Downloading data from https://s3.amazonaws.com/fcp-indi/data/Projects/ABIDE_Initiative/Outputs/cpac/nofilt_noglobal/func_preproc/Pitt_0050025_func_preproc.nii.gz ...\n"
          ]
        },
        {
          "name": "stderr",
          "output_type": "stream",
          "text": [
            "Downloaded 100818944 of 107633250 bytes (93.7%,    0.7s remaining) ...done. (11 seconds, 0 min)\n"
          ]
        },
        {
          "name": "stdout",
          "output_type": "stream",
          "text": [
            "Downloading data from https://s3.amazonaws.com/fcp-indi/data/Projects/ABIDE_Initiative/Outputs/cpac/nofilt_noglobal/func_preproc/Pitt_0050026_func_preproc.nii.gz ...\n"
          ]
        },
        {
          "name": "stderr",
          "output_type": "stream",
          "text": [
            "Downloaded 96526336 of 106714902 bytes (90.5%,    0.9s remaining) ...done. (10 seconds, 0 min)\n"
          ]
        },
        {
          "name": "stdout",
          "output_type": "stream",
          "text": [
            "Downloading data from https://s3.amazonaws.com/fcp-indi/data/Projects/ABIDE_Initiative/Outputs/cpac/nofilt_noglobal/func_preproc/Pitt_0050027_func_preproc.nii.gz ...\n"
          ]
        },
        {
          "name": "stderr",
          "output_type": "stream",
          "text": [
            "Downloaded 111779840 of 112515401 bytes (99.3%,    0.1s remaining) ...done. (12 seconds, 0 min)\n"
          ]
        },
        {
          "name": "stdout",
          "output_type": "stream",
          "text": [
            "Downloading data from https://s3.amazonaws.com/fcp-indi/data/Projects/ABIDE_Initiative/Outputs/cpac/nofilt_noglobal/func_preproc/Pitt_0050028_func_preproc.nii.gz ...\n"
          ]
        },
        {
          "name": "stderr",
          "output_type": "stream",
          "text": [
            "Downloaded 107454464 of 111380261 bytes (96.5%,    0.4s remaining) ...done. (11 seconds, 0 min)\n"
          ]
        },
        {
          "name": "stdout",
          "output_type": "stream",
          "text": [
            "Downloading data from https://s3.amazonaws.com/fcp-indi/data/Projects/ABIDE_Initiative/Outputs/cpac/nofilt_noglobal/func_preproc/Pitt_0050030_func_preproc.nii.gz ...\n"
          ]
        },
        {
          "name": "stderr",
          "output_type": "stream",
          "text": [
            "Downloaded 99762176 of 109481301 bytes (91.1%,    1.0s remaining) ...done. (11 seconds, 0 min)\n"
          ]
        },
        {
          "name": "stdout",
          "output_type": "stream",
          "text": [
            "Downloading data from https://s3.amazonaws.com/fcp-indi/data/Projects/ABIDE_Initiative/Outputs/cpac/nofilt_noglobal/func_preproc/Pitt_0050031_func_preproc.nii.gz ...\n"
          ]
        },
        {
          "name": "stderr",
          "output_type": "stream",
          "text": [
            "Downloaded 106176512 of 118156589 bytes (89.9%,    1.1s remaining) ...done. (11 seconds, 0 min)\n"
          ]
        },
        {
          "name": "stdout",
          "output_type": "stream",
          "text": [
            "Downloading data from https://s3.amazonaws.com/fcp-indi/data/Projects/ABIDE_Initiative/Outputs/cpac/nofilt_noglobal/func_preproc/Pitt_0050032_func_preproc.nii.gz ...\n"
          ]
        },
        {
          "name": "stderr",
          "output_type": "stream",
          "text": [
            "Downloaded 99065856 of 101609576 bytes (97.5%,    0.2s remaining) ...done. (9 seconds, 0 min)\n"
          ]
        },
        {
          "name": "stdout",
          "output_type": "stream",
          "text": [
            "Downloading data from https://s3.amazonaws.com/fcp-indi/data/Projects/ABIDE_Initiative/Outputs/cpac/nofilt_noglobal/func_preproc/Pitt_0050033_func_preproc.nii.gz ...\n"
          ]
        },
        {
          "name": "stderr",
          "output_type": "stream",
          "text": [
            "Downloaded 105152512 of 114979022 bytes (91.5%,    0.9s remaining) ...done. (11 seconds, 0 min)\n"
          ]
        },
        {
          "name": "stdout",
          "output_type": "stream",
          "text": [
            "Downloading data from https://s3.amazonaws.com/fcp-indi/data/Projects/ABIDE_Initiative/Outputs/cpac/nofilt_noglobal/func_preproc/Pitt_0050034_func_preproc.nii.gz ...\n"
          ]
        },
        {
          "name": "stderr",
          "output_type": "stream",
          "text": [
            "Downloaded 105889792 of 108536527 bytes (97.6%,    0.2s remaining) ...done. (11 seconds, 0 min)\n"
          ]
        },
        {
          "name": "stdout",
          "output_type": "stream",
          "text": [
            "Downloading data from https://s3.amazonaws.com/fcp-indi/data/Projects/ABIDE_Initiative/Outputs/cpac/nofilt_noglobal/func_preproc/Pitt_0050035_func_preproc.nii.gz ...\n"
          ]
        },
        {
          "name": "stderr",
          "output_type": "stream",
          "text": [
            "Downloaded 90628096 of 100315008 bytes (90.3%,    0.9s remaining) ...done. (10 seconds, 0 min)\n"
          ]
        },
        {
          "name": "stdout",
          "output_type": "stream",
          "text": [
            "Downloading data from https://s3.amazonaws.com/fcp-indi/data/Projects/ABIDE_Initiative/Outputs/cpac/nofilt_noglobal/func_preproc/Pitt_0050036_func_preproc.nii.gz ...\n"
          ]
        },
        {
          "name": "stderr",
          "output_type": "stream",
          "text": [
            "Downloaded 105848832 of 112518259 bytes (94.1%,    0.6s remaining) ...done. (11 seconds, 0 min)\n"
          ]
        },
        {
          "name": "stdout",
          "output_type": "stream",
          "text": [
            "Downloading data from https://s3.amazonaws.com/fcp-indi/data/Projects/ABIDE_Initiative/Outputs/cpac/nofilt_noglobal/func_preproc/Pitt_0050037_func_preproc.nii.gz ...\n"
          ]
        },
        {
          "name": "stderr",
          "output_type": "stream",
          "text": [
            "Downloaded 94642176 of 105071443 bytes (90.1%,    1.0s remaining) ...done. (10 seconds, 0 min)\n"
          ]
        },
        {
          "name": "stdout",
          "output_type": "stream",
          "text": [
            "Downloading data from https://s3.amazonaws.com/fcp-indi/data/Projects/ABIDE_Initiative/Outputs/cpac/nofilt_noglobal/func_preproc/Pitt_0050038_func_preproc.nii.gz ...\n"
          ]
        },
        {
          "name": "stderr",
          "output_type": "stream",
          "text": [
            "Downloaded 101048320 of 108382438 bytes (93.2%,    0.7s remaining) ...done. (11 seconds, 0 min)\n"
          ]
        },
        {
          "name": "stdout",
          "output_type": "stream",
          "text": [
            "Downloading data from https://s3.amazonaws.com/fcp-indi/data/Projects/ABIDE_Initiative/Outputs/cpac/nofilt_noglobal/func_preproc/Pitt_0050039_func_preproc.nii.gz ...\n"
          ]
        },
        {
          "name": "stderr",
          "output_type": "stream",
          "text": [
            "Downloaded 100073472 of 105424334 bytes (94.9%,    0.5s remaining) ...done. (11 seconds, 0 min)\n"
          ]
        },
        {
          "name": "stdout",
          "output_type": "stream",
          "text": [
            "Downloading data from https://s3.amazonaws.com/fcp-indi/data/Projects/ABIDE_Initiative/Outputs/cpac/nofilt_noglobal/func_preproc/Pitt_0050040_func_preproc.nii.gz ...\n"
          ]
        },
        {
          "name": "stderr",
          "output_type": "stream",
          "text": [
            "Downloaded 105971712 of 107697423 bytes (98.4%,    0.2s remaining) ...done. (11 seconds, 0 min)\n"
          ]
        },
        {
          "name": "stdout",
          "output_type": "stream",
          "text": [
            "Downloading data from https://s3.amazonaws.com/fcp-indi/data/Projects/ABIDE_Initiative/Outputs/cpac/nofilt_noglobal/func_preproc/Pitt_0050041_func_preproc.nii.gz ...\n"
          ]
        },
        {
          "name": "stderr",
          "output_type": "stream",
          "text": [
            "Downloaded 93413376 of 102831611 bytes (90.8%,    0.9s remaining) ...done. (10 seconds, 0 min)\n"
          ]
        },
        {
          "name": "stdout",
          "output_type": "stream",
          "text": [
            "Downloading data from https://s3.amazonaws.com/fcp-indi/data/Projects/ABIDE_Initiative/Outputs/cpac/nofilt_noglobal/func_preproc/Pitt_0050042_func_preproc.nii.gz ...\n"
          ]
        },
        {
          "name": "stderr",
          "output_type": "stream",
          "text": [
            "Downloaded 96059392 of 105868787 bytes (90.7%,    0.9s remaining) ...done. (10 seconds, 0 min)\n"
          ]
        },
        {
          "name": "stdout",
          "output_type": "stream",
          "text": [
            "Downloading data from https://s3.amazonaws.com/fcp-indi/data/Projects/ABIDE_Initiative/Outputs/cpac/nofilt_noglobal/func_preproc/Pitt_0050043_func_preproc.nii.gz ...\n"
          ]
        },
        {
          "name": "stderr",
          "output_type": "stream",
          "text": [
            "Downloaded 101711872 of 110373167 bytes (92.2%,    1.7s remaining) ...done. (21 seconds, 0 min)\n"
          ]
        },
        {
          "name": "stdout",
          "output_type": "stream",
          "text": [
            "Downloading data from https://s3.amazonaws.com/fcp-indi/data/Projects/ABIDE_Initiative/Outputs/cpac/nofilt_noglobal/func_preproc/Pitt_0050044_func_preproc.nii.gz ...\n"
          ]
        },
        {
          "name": "stderr",
          "output_type": "stream",
          "text": [
            "Downloaded 105766912 of 106676912 bytes (99.1%,    0.1s remaining) ...done. (10 seconds, 0 min)\n"
          ]
        },
        {
          "name": "stdout",
          "output_type": "stream",
          "text": [
            "Downloading data from https://s3.amazonaws.com/fcp-indi/data/Projects/ABIDE_Initiative/Outputs/cpac/nofilt_noglobal/func_preproc/Pitt_0050045_func_preproc.nii.gz ...\n"
          ]
        },
        {
          "name": "stderr",
          "output_type": "stream",
          "text": [
            "Downloaded 88604672 of 95467541 bytes (92.8%,    0.7s remaining) ...done. (10 seconds, 0 min)\n"
          ]
        },
        {
          "name": "stdout",
          "output_type": "stream",
          "text": [
            "Downloading data from https://s3.amazonaws.com/fcp-indi/data/Projects/ABIDE_Initiative/Outputs/cpac/nofilt_noglobal/func_preproc/Pitt_0050046_func_preproc.nii.gz ...\n"
          ]
        },
        {
          "name": "stderr",
          "output_type": "stream",
          "text": [
            "Downloaded 98459648 of 107811709 bytes (91.3%,    0.8s remaining) ...done. (10 seconds, 0 min)\n"
          ]
        },
        {
          "name": "stdout",
          "output_type": "stream",
          "text": [
            "Downloading data from https://s3.amazonaws.com/fcp-indi/data/Projects/ABIDE_Initiative/Outputs/cpac/nofilt_noglobal/func_preproc/Pitt_0050047_func_preproc.nii.gz ...\n"
          ]
        },
        {
          "name": "stderr",
          "output_type": "stream",
          "text": [
            "Downloaded 101556224 of 103013827 bytes (98.6%,    0.1s remaining) ...done. (11 seconds, 0 min)\n"
          ]
        },
        {
          "name": "stdout",
          "output_type": "stream",
          "text": [
            "Downloading data from https://s3.amazonaws.com/fcp-indi/data/Projects/ABIDE_Initiative/Outputs/cpac/nofilt_noglobal/func_preproc/Pitt_0050048_func_preproc.nii.gz ...\n"
          ]
        },
        {
          "name": "stderr",
          "output_type": "stream",
          "text": [
            "Downloaded 99336192 of 109340774 bytes (90.9%,    1.0s remaining) ...done. (11 seconds, 0 min)\n"
          ]
        },
        {
          "name": "stdout",
          "output_type": "stream",
          "text": [
            "Downloading data from https://s3.amazonaws.com/fcp-indi/data/Projects/ABIDE_Initiative/Outputs/cpac/nofilt_noglobal/func_preproc/Pitt_0050049_func_preproc.nii.gz ...\n"
          ]
        },
        {
          "name": "stderr",
          "output_type": "stream",
          "text": [
            "Downloaded 94404608 of 110403873 bytes (85.5%,    1.3s remaining) ...done. (9 seconds, 0 min)\n"
          ]
        },
        {
          "name": "stdout",
          "output_type": "stream",
          "text": [
            "Downloading data from https://s3.amazonaws.com/fcp-indi/data/Projects/ABIDE_Initiative/Outputs/cpac/nofilt_noglobal/func_preproc/Pitt_0050050_func_preproc.nii.gz ...\n"
          ]
        },
        {
          "name": "stderr",
          "output_type": "stream",
          "text": [
            "Downloaded 91635712 of 102741119 bytes (89.2%,    1.1s remaining) ...done. (10 seconds, 0 min)\n"
          ]
        },
        {
          "name": "stdout",
          "output_type": "stream",
          "text": [
            "Downloading data from https://s3.amazonaws.com/fcp-indi/data/Projects/ABIDE_Initiative/Outputs/cpac/nofilt_noglobal/func_preproc/Pitt_0050051_func_preproc.nii.gz ...\n"
          ]
        },
        {
          "name": "stderr",
          "output_type": "stream",
          "text": [
            "Downloaded 112115712 of 113831652 bytes (98.5%,    0.2s remaining) ...done. (11 seconds, 0 min)\n"
          ]
        },
        {
          "name": "stdout",
          "output_type": "stream",
          "text": [
            "Downloading data from https://s3.amazonaws.com/fcp-indi/data/Projects/ABIDE_Initiative/Outputs/cpac/nofilt_noglobal/func_preproc/Pitt_0050052_func_preproc.nii.gz ...\n"
          ]
        },
        {
          "name": "stderr",
          "output_type": "stream",
          "text": [
            "Downloaded 92545024 of 102054140 bytes (90.7%,    0.9s remaining) ...done. (10 seconds, 0 min)\n"
          ]
        },
        {
          "name": "stdout",
          "output_type": "stream",
          "text": [
            "Downloading data from https://s3.amazonaws.com/fcp-indi/data/Projects/ABIDE_Initiative/Outputs/cpac/nofilt_noglobal/func_preproc/Pitt_0050053_func_preproc.nii.gz ...\n"
          ]
        },
        {
          "name": "stderr",
          "output_type": "stream",
          "text": [
            "Downloaded 102563840 of 109775490 bytes (93.4%,    0.7s remaining) ...done. (11 seconds, 0 min)\n"
          ]
        },
        {
          "name": "stdout",
          "output_type": "stream",
          "text": [
            "Downloading data from https://s3.amazonaws.com/fcp-indi/data/Projects/ABIDE_Initiative/Outputs/cpac/nofilt_noglobal/func_preproc/Pitt_0050054_func_preproc.nii.gz ...\n"
          ]
        },
        {
          "name": "stderr",
          "output_type": "stream",
          "text": [
            "Downloaded 118038528 of 119693152 bytes (98.6%,    0.2s remaining) ...done. (12 seconds, 0 min)\n"
          ]
        },
        {
          "name": "stdout",
          "output_type": "stream",
          "text": [
            "Downloading data from https://s3.amazonaws.com/fcp-indi/data/Projects/ABIDE_Initiative/Outputs/cpac/nofilt_noglobal/func_preproc/Pitt_0050056_func_preproc.nii.gz ...\n"
          ]
        },
        {
          "name": "stderr",
          "output_type": "stream",
          "text": [
            "Downloaded 102203392 of 114295718 bytes (89.4%,    2.2s remaining) ...done. (20 seconds, 0 min)\n"
          ]
        },
        {
          "name": "stdout",
          "output_type": "stream",
          "text": [
            "Downloading data from https://s3.amazonaws.com/fcp-indi/data/Projects/ABIDE_Initiative/Outputs/cpac/nofilt_noglobal/func_preproc/Pitt_0050057_func_preproc.nii.gz ...\n"
          ]
        },
        {
          "name": "stderr",
          "output_type": "stream",
          "text": [
            "Downloaded 106782720 of 115673440 bytes (92.3%,    0.8s remaining) ...done. (11 seconds, 0 min)\n"
          ]
        },
        {
          "name": "stdout",
          "output_type": "stream",
          "text": [
            "Downloading data from https://s3.amazonaws.com/fcp-indi/data/Projects/ABIDE_Initiative/Outputs/cpac/nofilt_noglobal/func_preproc/Pitt_0050059_func_preproc.nii.gz ...\n"
          ]
        },
        {
          "name": "stderr",
          "output_type": "stream",
          "text": [
            "Downloaded 104734720 of 109552949 bytes (95.6%,    0.5s remaining) ...done. (11 seconds, 0 min)\n"
          ]
        },
        {
          "name": "stdout",
          "output_type": "stream",
          "text": [
            "Downloading data from https://s3.amazonaws.com/fcp-indi/data/Projects/ABIDE_Initiative/Outputs/cpac/nofilt_noglobal/func_preproc/Pitt_0050060_func_preproc.nii.gz ...\n"
          ]
        },
        {
          "name": "stderr",
          "output_type": "stream",
          "text": [
            "Downloaded 104521728 of 105507823 bytes (99.1%,    0.1s remaining) ...done. (11 seconds, 0 min)\n"
          ]
        },
        {
          "name": "stdout",
          "output_type": "stream",
          "text": [
            "Downloading data from https://s3.amazonaws.com/fcp-indi/data/Projects/ABIDE_Initiative/Outputs/cpac/nofilt_noglobal/func_preproc/Olin_0050102_func_preproc.nii.gz ...\n"
          ]
        },
        {
          "name": "stderr",
          "output_type": "stream",
          "text": [
            "Downloaded 112295936 of 122660208 bytes (91.6%,    0.9s remaining) ...done. (11 seconds, 0 min)\n"
          ]
        },
        {
          "name": "stdout",
          "output_type": "stream",
          "text": [
            "Downloading data from https://s3.amazonaws.com/fcp-indi/data/Projects/ABIDE_Initiative/Outputs/cpac/nofilt_noglobal/func_preproc/Olin_0050103_func_preproc.nii.gz ...\n"
          ]
        },
        {
          "name": "stderr",
          "output_type": "stream",
          "text": [
            "Downloaded 120414208 of 122066162 bytes (98.6%,    0.1s remaining) ...done. (12 seconds, 0 min)\n"
          ]
        },
        {
          "name": "stdout",
          "output_type": "stream",
          "text": [
            "Downloading data from https://s3.amazonaws.com/fcp-indi/data/Projects/ABIDE_Initiative/Outputs/cpac/nofilt_noglobal/func_preproc/Olin_0050104_func_preproc.nii.gz ...\n"
          ]
        },
        {
          "name": "stderr",
          "output_type": "stream",
          "text": [
            "Downloaded 112345088 of 125524859 bytes (89.5%,    1.2s remaining) ...done. (11 seconds, 0 min)\n"
          ]
        },
        {
          "name": "stdout",
          "output_type": "stream",
          "text": [
            "Downloading data from https://s3.amazonaws.com/fcp-indi/data/Projects/ABIDE_Initiative/Outputs/cpac/nofilt_noglobal/func_preproc/Olin_0050105_func_preproc.nii.gz ...\n"
          ]
        },
        {
          "name": "stderr",
          "output_type": "stream",
          "text": [
            "Downloaded 119496704 of 119530321 bytes (100.0%,    0.0s remaining) ...done. (12 seconds, 0 min)\n"
          ]
        },
        {
          "name": "stdout",
          "output_type": "stream",
          "text": [
            "Downloading data from https://s3.amazonaws.com/fcp-indi/data/Projects/ABIDE_Initiative/Outputs/cpac/nofilt_noglobal/func_preproc/Olin_0050106_func_preproc.nii.gz ...\n"
          ]
        },
        {
          "name": "stderr",
          "output_type": "stream",
          "text": [
            "Downloaded 116285440 of 128732335 bytes (90.3%,    1.2s remaining) ...done. (13 seconds, 0 min)\n"
          ]
        },
        {
          "name": "stdout",
          "output_type": "stream",
          "text": [
            "Downloading data from https://s3.amazonaws.com/fcp-indi/data/Projects/ABIDE_Initiative/Outputs/cpac/nofilt_noglobal/func_preproc/Olin_0050107_func_preproc.nii.gz ...\n"
          ]
        },
        {
          "name": "stderr",
          "output_type": "stream",
          "text": [
            "Downloaded 103022592 of 114050974 bytes (90.3%,    1.1s remaining) ...done. (12 seconds, 0 min)\n"
          ]
        },
        {
          "name": "stdout",
          "output_type": "stream",
          "text": [
            "Downloading data from https://s3.amazonaws.com/fcp-indi/data/Projects/ABIDE_Initiative/Outputs/cpac/nofilt_noglobal/func_preproc/Olin_0050109_func_preproc.nii.gz ...\n"
          ]
        },
        {
          "name": "stderr",
          "output_type": "stream",
          "text": [
            "Downloaded 110600192 of 118377207 bytes (93.4%,    0.8s remaining) ...done. (12 seconds, 0 min)\n"
          ]
        },
        {
          "name": "stdout",
          "output_type": "stream",
          "text": [
            "Downloading data from https://s3.amazonaws.com/fcp-indi/data/Projects/ABIDE_Initiative/Outputs/cpac/nofilt_noglobal/func_preproc/Olin_0050111_func_preproc.nii.gz ...\n"
          ]
        },
        {
          "name": "stderr",
          "output_type": "stream",
          "text": [
            "Downloaded 119881728 of 129287582 bytes (92.7%,    0.9s remaining) ...done. (12 seconds, 0 min)\n"
          ]
        },
        {
          "name": "stdout",
          "output_type": "stream",
          "text": [
            "Downloading data from https://s3.amazonaws.com/fcp-indi/data/Projects/ABIDE_Initiative/Outputs/cpac/nofilt_noglobal/func_preproc/Olin_0050112_func_preproc.nii.gz ...\n"
          ]
        },
        {
          "name": "stderr",
          "output_type": "stream",
          "text": [
            "Downloaded 110739456 of 120564753 bytes (91.9%,    0.9s remaining) ...done. (11 seconds, 0 min)\n"
          ]
        },
        {
          "name": "stdout",
          "output_type": "stream",
          "text": [
            "Downloading data from https://s3.amazonaws.com/fcp-indi/data/Projects/ABIDE_Initiative/Outputs/cpac/nofilt_noglobal/func_preproc/Olin_0050113_func_preproc.nii.gz ...\n"
          ]
        },
        {
          "name": "stderr",
          "output_type": "stream",
          "text": [
            "Downloaded 117809152 of 123902251 bytes (95.1%,    0.6s remaining) ...done. (12 seconds, 0 min)\n"
          ]
        },
        {
          "name": "stdout",
          "output_type": "stream",
          "text": [
            "Downloading data from https://s3.amazonaws.com/fcp-indi/data/Projects/ABIDE_Initiative/Outputs/cpac/nofilt_noglobal/func_preproc/Olin_0050114_func_preproc.nii.gz ...\n"
          ]
        },
        {
          "name": "stderr",
          "output_type": "stream",
          "text": [
            "Downloaded 116629504 of 122851217 bytes (94.9%,    0.6s remaining) ...done. (12 seconds, 0 min)\n"
          ]
        },
        {
          "name": "stdout",
          "output_type": "stream",
          "text": [
            "Downloading data from https://s3.amazonaws.com/fcp-indi/data/Projects/ABIDE_Initiative/Outputs/cpac/nofilt_noglobal/func_preproc/Olin_0050115_func_preproc.nii.gz ...\n"
          ]
        },
        {
          "name": "stderr",
          "output_type": "stream",
          "text": [
            "Downloaded 104448000 of 119903539 bytes (87.1%,    1.3s remaining) ...done. (10 seconds, 0 min)\n"
          ]
        },
        {
          "name": "stdout",
          "output_type": "stream",
          "text": [
            "Downloading data from https://s3.amazonaws.com/fcp-indi/data/Projects/ABIDE_Initiative/Outputs/cpac/nofilt_noglobal/func_preproc/Olin_0050116_func_preproc.nii.gz ...\n"
          ]
        },
        {
          "name": "stderr",
          "output_type": "stream",
          "text": [
            "Downloaded 114180096 of 124953879 bytes (91.4%,    1.0s remaining) ...done. (13 seconds, 0 min)\n"
          ]
        },
        {
          "name": "stdout",
          "output_type": "stream",
          "text": [
            "Downloading data from https://s3.amazonaws.com/fcp-indi/data/Projects/ABIDE_Initiative/Outputs/cpac/nofilt_noglobal/func_preproc/Olin_0050117_func_preproc.nii.gz ...\n"
          ]
        },
        {
          "name": "stderr",
          "output_type": "stream",
          "text": [
            "Downloaded 112525312 of 118668066 bytes (94.8%,    0.5s remaining) ...done. (11 seconds, 0 min)\n"
          ]
        },
        {
          "name": "stdout",
          "output_type": "stream",
          "text": [
            "Downloading data from https://s3.amazonaws.com/fcp-indi/data/Projects/ABIDE_Initiative/Outputs/cpac/nofilt_noglobal/func_preproc/Olin_0050118_func_preproc.nii.gz ...\n"
          ]
        },
        {
          "name": "stderr",
          "output_type": "stream",
          "text": [
            "Downloaded 115228672 of 121318546 bytes (95.0%,    0.6s remaining) ...done. (12 seconds, 0 min)\n"
          ]
        },
        {
          "name": "stdout",
          "output_type": "stream",
          "text": [
            "Downloading data from https://s3.amazonaws.com/fcp-indi/data/Projects/ABIDE_Initiative/Outputs/cpac/nofilt_noglobal/func_preproc/Olin_0050119_func_preproc.nii.gz ...\n"
          ]
        },
        {
          "name": "stderr",
          "output_type": "stream",
          "text": [
            "Downloaded 112533504 of 113306058 bytes (99.3%,    0.1s remaining) ...done. (11 seconds, 0 min)\n"
          ]
        },
        {
          "name": "stdout",
          "output_type": "stream",
          "text": [
            "Downloading data from https://s3.amazonaws.com/fcp-indi/data/Projects/ABIDE_Initiative/Outputs/cpac/nofilt_noglobal/func_preproc/Olin_0050121_func_preproc.nii.gz ...\n"
          ]
        },
        {
          "name": "stderr",
          "output_type": "stream",
          "text": [
            "Downloaded 117399552 of 120938259 bytes (97.1%,    0.3s remaining) ...done. (11 seconds, 0 min)\n"
          ]
        },
        {
          "name": "stdout",
          "output_type": "stream",
          "text": [
            "Downloading data from https://s3.amazonaws.com/fcp-indi/data/Projects/ABIDE_Initiative/Outputs/cpac/nofilt_noglobal/func_preproc/Olin_0050123_func_preproc.nii.gz ...\n"
          ]
        },
        {
          "name": "stderr",
          "output_type": "stream",
          "text": [
            "Downloaded 113573888 of 122574265 bytes (92.7%,    0.8s remaining) ...done. (11 seconds, 0 min)\n"
          ]
        },
        {
          "name": "stdout",
          "output_type": "stream",
          "text": [
            "Downloading data from https://s3.amazonaws.com/fcp-indi/data/Projects/ABIDE_Initiative/Outputs/cpac/nofilt_noglobal/func_preproc/Olin_0050124_func_preproc.nii.gz ...\n"
          ]
        },
        {
          "name": "stderr",
          "output_type": "stream",
          "text": [
            "Downloaded 119529472 of 122383426 bytes (97.7%,    0.3s remaining) ...done. (12 seconds, 0 min)\n"
          ]
        },
        {
          "name": "stdout",
          "output_type": "stream",
          "text": [
            "Downloading data from https://s3.amazonaws.com/fcp-indi/data/Projects/ABIDE_Initiative/Outputs/cpac/nofilt_noglobal/func_preproc/Olin_0050125_func_preproc.nii.gz ...\n"
          ]
        },
        {
          "name": "stderr",
          "output_type": "stream",
          "text": [
            "Downloaded 116072448 of 119210228 bytes (97.4%,    0.3s remaining) ...done. (13 seconds, 0 min)\n"
          ]
        },
        {
          "name": "stdout",
          "output_type": "stream",
          "text": [
            "Downloading data from https://s3.amazonaws.com/fcp-indi/data/Projects/ABIDE_Initiative/Outputs/cpac/nofilt_noglobal/func_preproc/Olin_0050127_func_preproc.nii.gz ...\n"
          ]
        },
        {
          "name": "stderr",
          "output_type": "stream",
          "text": [
            "Downloaded 112246784 of 116086868 bytes (96.7%,    0.3s remaining) ...done. (11 seconds, 0 min)\n"
          ]
        },
        {
          "name": "stdout",
          "output_type": "stream",
          "text": [
            "Downloading data from https://s3.amazonaws.com/fcp-indi/data/Projects/ABIDE_Initiative/Outputs/cpac/nofilt_noglobal/func_preproc/Olin_0050128_func_preproc.nii.gz ...\n"
          ]
        },
        {
          "name": "stderr",
          "output_type": "stream",
          "text": [
            "Downloaded 109969408 of 122156869 bytes (90.0%,    1.1s remaining) ...done. (11 seconds, 0 min)\n"
          ]
        },
        {
          "name": "stdout",
          "output_type": "stream",
          "text": [
            "Downloading data from https://s3.amazonaws.com/fcp-indi/data/Projects/ABIDE_Initiative/Outputs/cpac/nofilt_noglobal/func_preproc/Olin_0050129_func_preproc.nii.gz ...\n"
          ]
        },
        {
          "name": "stderr",
          "output_type": "stream",
          "text": [
            "Downloaded 122322944 of 125357066 bytes (97.6%,    0.3s remaining) ...done. (12 seconds, 0 min)\n"
          ]
        },
        {
          "name": "stdout",
          "output_type": "stream",
          "text": [
            "Downloading data from https://s3.amazonaws.com/fcp-indi/data/Projects/ABIDE_Initiative/Outputs/cpac/nofilt_noglobal/func_preproc/Olin_0050130_func_preproc.nii.gz ...\n"
          ]
        },
        {
          "name": "stderr",
          "output_type": "stream",
          "text": [
            "Downloaded 106201088 of 118740494 bytes (89.4%,    1.0s remaining) ...done. (10 seconds, 0 min)\n"
          ]
        },
        {
          "name": "stdout",
          "output_type": "stream",
          "text": [
            "Downloading data from https://s3.amazonaws.com/fcp-indi/data/Projects/ABIDE_Initiative/Outputs/cpac/nofilt_noglobal/func_preproc/Olin_0050131_func_preproc.nii.gz ...\n"
          ]
        },
        {
          "name": "stderr",
          "output_type": "stream",
          "text": [
            "Downloaded 112590848 of 117185869 bytes (96.1%,    0.4s remaining) ...done. (10 seconds, 0 min)\n"
          ]
        },
        {
          "name": "stdout",
          "output_type": "stream",
          "text": [
            "Downloading data from https://s3.amazonaws.com/fcp-indi/data/Projects/ABIDE_Initiative/Outputs/cpac/nofilt_noglobal/func_preproc/Olin_0050132_func_preproc.nii.gz ...\n"
          ]
        },
        {
          "name": "stderr",
          "output_type": "stream",
          "text": [
            "Downloaded 109961216 of 121608785 bytes (90.4%,    0.9s remaining) ...done. (10 seconds, 0 min)\n"
          ]
        },
        {
          "name": "stdout",
          "output_type": "stream",
          "text": [
            "Downloading data from https://s3.amazonaws.com/fcp-indi/data/Projects/ABIDE_Initiative/Outputs/cpac/nofilt_noglobal/func_preproc/Olin_0050134_func_preproc.nii.gz ...\n"
          ]
        },
        {
          "name": "stderr",
          "output_type": "stream",
          "text": [
            "Downloaded 115597312 of 116464120 bytes (99.3%,    0.1s remaining) ...done. (12 seconds, 0 min)\n"
          ]
        },
        {
          "name": "stdout",
          "output_type": "stream",
          "text": [
            "Downloading data from https://s3.amazonaws.com/fcp-indi/data/Projects/ABIDE_Initiative/Outputs/cpac/nofilt_noglobal/func_preproc/Olin_0050135_func_preproc.nii.gz ...\n"
          ]
        },
        {
          "name": "stderr",
          "output_type": "stream",
          "text": [
            "Downloaded 109928448 of 123786681 bytes (88.8%,    1.2s remaining) ...done. (11 seconds, 0 min)\n"
          ]
        },
        {
          "name": "stdout",
          "output_type": "stream",
          "text": [
            "Downloading data from https://s3.amazonaws.com/fcp-indi/data/Projects/ABIDE_Initiative/Outputs/cpac/nofilt_noglobal/func_preproc/OHSU_0050142_func_preproc.nii.gz ...\n"
          ]
        },
        {
          "name": "stderr",
          "output_type": "stream",
          "text": [
            "Downloaded 41156608 of 47213495 bytes (87.2%,    0.6s remaining) ...done. (6 seconds, 0 min)\n"
          ]
        },
        {
          "name": "stdout",
          "output_type": "stream",
          "text": [
            "Downloading data from https://s3.amazonaws.com/fcp-indi/data/Projects/ABIDE_Initiative/Outputs/cpac/nofilt_noglobal/func_preproc/OHSU_0050143_func_preproc.nii.gz ...\n"
          ]
        },
        {
          "name": "stderr",
          "output_type": "stream",
          "text": [
            "Downloaded 43024384 of 45661369 bytes (94.2%,    0.3s remaining) ...done. (5 seconds, 0 min)\n"
          ]
        },
        {
          "name": "stdout",
          "output_type": "stream",
          "text": [
            "Downloading data from https://s3.amazonaws.com/fcp-indi/data/Projects/ABIDE_Initiative/Outputs/cpac/nofilt_noglobal/func_preproc/OHSU_0050144_func_preproc.nii.gz ...\n"
          ]
        },
        {
          "name": "stderr",
          "output_type": "stream",
          "text": [
            "Downloaded 40665088 of 48199382 bytes (84.4%,    0.8s remaining) ...done. (6 seconds, 0 min)\n"
          ]
        },
        {
          "name": "stdout",
          "output_type": "stream",
          "text": [
            "Downloading data from https://s3.amazonaws.com/fcp-indi/data/Projects/ABIDE_Initiative/Outputs/cpac/nofilt_noglobal/func_preproc/OHSU_0050145_func_preproc.nii.gz ...\n"
          ]
        },
        {
          "name": "stderr",
          "output_type": "stream",
          "text": [
            "Downloaded 38494208 of 49613319 bytes (77.6%,    1.3s remaining) ...done. (6 seconds, 0 min)\n"
          ]
        },
        {
          "name": "stdout",
          "output_type": "stream",
          "text": [
            "Downloading data from https://s3.amazonaws.com/fcp-indi/data/Projects/ABIDE_Initiative/Outputs/cpac/nofilt_noglobal/func_preproc/OHSU_0050146_func_preproc.nii.gz ...\n"
          ]
        },
        {
          "name": "stderr",
          "output_type": "stream",
          "text": [
            "Downloaded 39059456 of 50577093 bytes (77.2%,    1.3s remaining) ...done. (6 seconds, 0 min)\n"
          ]
        },
        {
          "name": "stdout",
          "output_type": "stream",
          "text": [
            "Downloading data from https://s3.amazonaws.com/fcp-indi/data/Projects/ABIDE_Initiative/Outputs/cpac/nofilt_noglobal/func_preproc/OHSU_0050147_func_preproc.nii.gz ...\n"
          ]
        },
        {
          "name": "stderr",
          "output_type": "stream",
          "text": [
            "Downloaded 47333376 of 49448699 bytes (95.7%,    0.2s remaining) ...done. (6 seconds, 0 min)\n"
          ]
        },
        {
          "name": "stdout",
          "output_type": "stream",
          "text": [
            "Downloading data from https://s3.amazonaws.com/fcp-indi/data/Projects/ABIDE_Initiative/Outputs/cpac/nofilt_noglobal/func_preproc/OHSU_0050148_func_preproc.nii.gz ...\n"
          ]
        },
        {
          "name": "stderr",
          "output_type": "stream",
          "text": [
            "Downloaded 40656896 of 48511473 bytes (83.8%,    0.8s remaining) ...done. (6 seconds, 0 min)\n"
          ]
        },
        {
          "name": "stdout",
          "output_type": "stream",
          "text": [
            "Downloading data from https://s3.amazonaws.com/fcp-indi/data/Projects/ABIDE_Initiative/Outputs/cpac/nofilt_noglobal/func_preproc/OHSU_0050149_func_preproc.nii.gz ...\n"
          ]
        },
        {
          "name": "stderr",
          "output_type": "stream",
          "text": [
            "Downloaded 39993344 of 46588883 bytes (85.8%,    0.7s remaining) ...done. (6 seconds, 0 min)\n"
          ]
        },
        {
          "name": "stdout",
          "output_type": "stream",
          "text": [
            "Downloading data from https://s3.amazonaws.com/fcp-indi/data/Projects/ABIDE_Initiative/Outputs/cpac/nofilt_noglobal/func_preproc/OHSU_0050150_func_preproc.nii.gz ...\n"
          ]
        },
        {
          "name": "stderr",
          "output_type": "stream",
          "text": [
            "Downloaded 38641664 of 49642517 bytes (77.8%,    1.2s remaining) ...done. (6 seconds, 0 min)\n"
          ]
        },
        {
          "name": "stdout",
          "output_type": "stream",
          "text": [
            "Downloading data from https://s3.amazonaws.com/fcp-indi/data/Projects/ABIDE_Initiative/Outputs/cpac/nofilt_noglobal/func_preproc/OHSU_0050152_func_preproc.nii.gz ...\n"
          ]
        },
        {
          "name": "stderr",
          "output_type": "stream",
          "text": [
            "Downloaded 38199296 of 47760083 bytes (80.0%,    1.1s remaining) ...done. (6 seconds, 0 min)\n"
          ]
        },
        {
          "name": "stdout",
          "output_type": "stream",
          "text": [
            "Downloading data from https://s3.amazonaws.com/fcp-indi/data/Projects/ABIDE_Initiative/Outputs/cpac/nofilt_noglobal/func_preproc/OHSU_0050153_func_preproc.nii.gz ...\n"
          ]
        },
        {
          "name": "stderr",
          "output_type": "stream",
          "text": [
            "Downloaded 38920192 of 49940089 bytes (77.9%,    1.2s remaining) ...done. (6 seconds, 0 min)\n"
          ]
        },
        {
          "name": "stdout",
          "output_type": "stream",
          "text": [
            "Downloading data from https://s3.amazonaws.com/fcp-indi/data/Projects/ABIDE_Initiative/Outputs/cpac/nofilt_noglobal/func_preproc/OHSU_0050156_func_preproc.nii.gz ...\n"
          ]
        },
        {
          "name": "stderr",
          "output_type": "stream",
          "text": [
            "Downloaded 39550976 of 45604757 bytes (86.7%,    0.7s remaining) ...done. (6 seconds, 0 min)\n"
          ]
        },
        {
          "name": "stdout",
          "output_type": "stream",
          "text": [
            "Downloading data from https://s3.amazonaws.com/fcp-indi/data/Projects/ABIDE_Initiative/Outputs/cpac/nofilt_noglobal/func_preproc/OHSU_0050157_func_preproc.nii.gz ...\n"
          ]
        },
        {
          "name": "stderr",
          "output_type": "stream",
          "text": [
            "Downloaded 39165952 of 48202845 bytes (81.3%,    1.0s remaining) ...done. (6 seconds, 0 min)\n"
          ]
        },
        {
          "name": "stdout",
          "output_type": "stream",
          "text": [
            "Downloading data from https://s3.amazonaws.com/fcp-indi/data/Projects/ABIDE_Initiative/Outputs/cpac/nofilt_noglobal/func_preproc/OHSU_0050158_func_preproc.nii.gz ...\n"
          ]
        },
        {
          "name": "stderr",
          "output_type": "stream",
          "text": [
            "Downloaded 40878080 of 48390941 bytes (84.5%,    0.8s remaining) ...done. (6 seconds, 0 min)\n"
          ]
        },
        {
          "name": "stdout",
          "output_type": "stream",
          "text": [
            "Downloading data from https://s3.amazonaws.com/fcp-indi/data/Projects/ABIDE_Initiative/Outputs/cpac/nofilt_noglobal/func_preproc/OHSU_0050159_func_preproc.nii.gz ...\n"
          ]
        },
        {
          "name": "stderr",
          "output_type": "stream",
          "text": [
            "Downloaded 40435712 of 48377928 bytes (83.6%,    0.9s remaining) ...done. (6 seconds, 0 min)\n"
          ]
        },
        {
          "name": "stdout",
          "output_type": "stream",
          "text": [
            "Downloading data from https://s3.amazonaws.com/fcp-indi/data/Projects/ABIDE_Initiative/Outputs/cpac/nofilt_noglobal/func_preproc/OHSU_0050160_func_preproc.nii.gz ...\n"
          ]
        },
        {
          "name": "stderr",
          "output_type": "stream",
          "text": [
            "Downloaded 39403520 of 48219077 bytes (81.7%,    1.0s remaining) ...done. (6 seconds, 0 min)\n"
          ]
        },
        {
          "name": "stdout",
          "output_type": "stream",
          "text": [
            "Downloading data from https://s3.amazonaws.com/fcp-indi/data/Projects/ABIDE_Initiative/Outputs/cpac/nofilt_noglobal/func_preproc/OHSU_0050161_func_preproc.nii.gz ...\n"
          ]
        },
        {
          "name": "stderr",
          "output_type": "stream",
          "text": [
            "Downloaded 39886848 of 47925361 bytes (83.2%,    0.9s remaining) ...done. (6 seconds, 0 min)\n"
          ]
        },
        {
          "name": "stdout",
          "output_type": "stream",
          "text": [
            "Downloading data from https://s3.amazonaws.com/fcp-indi/data/Projects/ABIDE_Initiative/Outputs/cpac/nofilt_noglobal/func_preproc/OHSU_0050162_func_preproc.nii.gz ...\n"
          ]
        },
        {
          "name": "stderr",
          "output_type": "stream",
          "text": [
            "Downloaded 37642240 of 46953991 bytes (80.2%,    1.1s remaining) ...done. (6 seconds, 0 min)\n"
          ]
        },
        {
          "name": "stdout",
          "output_type": "stream",
          "text": [
            "Downloading data from https://s3.amazonaws.com/fcp-indi/data/Projects/ABIDE_Initiative/Outputs/cpac/nofilt_noglobal/func_preproc/OHSU_0050163_func_preproc.nii.gz ...\n"
          ]
        },
        {
          "name": "stderr",
          "output_type": "stream",
          "text": [
            "Downloaded 38150144 of 47918543 bytes (79.6%,    1.1s remaining) ...done. (6 seconds, 0 min)\n"
          ]
        },
        {
          "name": "stdout",
          "output_type": "stream",
          "text": [
            "Downloading data from https://s3.amazonaws.com/fcp-indi/data/Projects/ABIDE_Initiative/Outputs/cpac/nofilt_noglobal/func_preproc/OHSU_0050164_func_preproc.nii.gz ...\n"
          ]
        },
        {
          "name": "stderr",
          "output_type": "stream",
          "text": [
            "Downloaded 37511168 of 49707872 bytes (75.5%,    1.4s remaining) ...done. (6 seconds, 0 min)\n"
          ]
        },
        {
          "name": "stdout",
          "output_type": "stream",
          "text": [
            "Downloading data from https://s3.amazonaws.com/fcp-indi/data/Projects/ABIDE_Initiative/Outputs/cpac/nofilt_noglobal/func_preproc/OHSU_0050167_func_preproc.nii.gz ...\n"
          ]
        },
        {
          "name": "stderr",
          "output_type": "stream",
          "text": [
            "Downloaded 38281216 of 49440455 bytes (77.4%,    1.3s remaining) ...done. (6 seconds, 0 min)\n"
          ]
        },
        {
          "name": "stdout",
          "output_type": "stream",
          "text": [
            "Downloading data from https://s3.amazonaws.com/fcp-indi/data/Projects/ABIDE_Initiative/Outputs/cpac/nofilt_noglobal/func_preproc/OHSU_0050168_func_preproc.nii.gz ...\n"
          ]
        },
        {
          "name": "stderr",
          "output_type": "stream",
          "text": [
            "Downloaded 39026688 of 48948252 bytes (79.7%,    1.1s remaining) ...done. (6 seconds, 0 min)\n"
          ]
        },
        {
          "name": "stdout",
          "output_type": "stream",
          "text": [
            "Downloading data from https://s3.amazonaws.com/fcp-indi/data/Projects/ABIDE_Initiative/Outputs/cpac/nofilt_noglobal/func_preproc/OHSU_0050169_func_preproc.nii.gz ...\n"
          ]
        },
        {
          "name": "stderr",
          "output_type": "stream",
          "text": [
            "Downloaded 40673280 of 48581667 bytes (83.7%,    0.8s remaining) ...done. (6 seconds, 0 min)\n"
          ]
        },
        {
          "name": "stdout",
          "output_type": "stream",
          "text": [
            "Downloading data from https://s3.amazonaws.com/fcp-indi/data/Projects/ABIDE_Initiative/Outputs/cpac/nofilt_noglobal/func_preproc/OHSU_0050170_func_preproc.nii.gz ...\n"
          ]
        },
        {
          "name": "stderr",
          "output_type": "stream",
          "text": [
            "Downloaded 39501824 of 48028723 bytes (82.2%,    0.9s remaining) ...done. (6 seconds, 0 min)\n"
          ]
        },
        {
          "name": "stdout",
          "output_type": "stream",
          "text": [
            "Downloading data from https://s3.amazonaws.com/fcp-indi/data/Projects/ABIDE_Initiative/Outputs/cpac/nofilt_noglobal/func_preproc/OHSU_0050171_func_preproc.nii.gz ...\n"
          ]
        },
        {
          "name": "stderr",
          "output_type": "stream",
          "text": [
            "Downloaded 39542784 of 48926488 bytes (80.8%,    1.0s remaining) ...done. (6 seconds, 0 min)\n"
          ]
        },
        {
          "name": "stdout",
          "output_type": "stream",
          "text": [
            "Downloading data from https://s3.amazonaws.com/fcp-indi/data/Projects/ABIDE_Initiative/Outputs/cpac/nofilt_noglobal/func_preproc/SDSU_0050182_func_preproc.nii.gz ...\n"
          ]
        },
        {
          "name": "stderr",
          "output_type": "stream",
          "text": [
            "Downloaded 99835904 of 103307732 bytes (96.6%,    0.3s remaining) ...done. (11 seconds, 0 min)\n"
          ]
        },
        {
          "name": "stdout",
          "output_type": "stream",
          "text": [
            "Downloading data from https://s3.amazonaws.com/fcp-indi/data/Projects/ABIDE_Initiative/Outputs/cpac/nofilt_noglobal/func_preproc/SDSU_0050183_func_preproc.nii.gz ...\n"
          ]
        },
        {
          "name": "stderr",
          "output_type": "stream",
          "text": [
            "Downloaded 101941248 of 104869475 bytes (97.2%,    0.3s remaining) ...done. (11 seconds, 0 min)\n"
          ]
        },
        {
          "name": "stdout",
          "output_type": "stream",
          "text": [
            "Downloading data from https://s3.amazonaws.com/fcp-indi/data/Projects/ABIDE_Initiative/Outputs/cpac/nofilt_noglobal/func_preproc/SDSU_0050184_func_preproc.nii.gz ...\n"
          ]
        },
        {
          "name": "stderr",
          "output_type": "stream",
          "text": [
            "Downloaded 88023040 of 95474541 bytes (92.2%,    0.7s remaining) ...done. (10 seconds, 0 min)\n"
          ]
        },
        {
          "name": "stdout",
          "output_type": "stream",
          "text": [
            "Downloading data from https://s3.amazonaws.com/fcp-indi/data/Projects/ABIDE_Initiative/Outputs/cpac/nofilt_noglobal/func_preproc/SDSU_0050186_func_preproc.nii.gz ...\n"
          ]
        },
        {
          "name": "stderr",
          "output_type": "stream",
          "text": [
            "Downloaded 102490112 of 107870342 bytes (95.0%,    0.5s remaining) ...done. (11 seconds, 0 min)\n"
          ]
        },
        {
          "name": "stdout",
          "output_type": "stream",
          "text": [
            "Downloading data from https://s3.amazonaws.com/fcp-indi/data/Projects/ABIDE_Initiative/Outputs/cpac/nofilt_noglobal/func_preproc/SDSU_0050187_func_preproc.nii.gz ...\n"
          ]
        },
        {
          "name": "stderr",
          "output_type": "stream",
          "text": [
            "Downloaded 101597184 of 103306942 bytes (98.3%,    0.2s remaining) ...done. (11 seconds, 0 min)\n"
          ]
        },
        {
          "name": "stdout",
          "output_type": "stream",
          "text": [
            "Downloading data from https://s3.amazonaws.com/fcp-indi/data/Projects/ABIDE_Initiative/Outputs/cpac/nofilt_noglobal/func_preproc/SDSU_0050188_func_preproc.nii.gz ...\n"
          ]
        },
        {
          "name": "stderr",
          "output_type": "stream",
          "text": [
            "Downloaded 90865664 of 102761508 bytes (88.4%,    1.1s remaining) ...done. (10 seconds, 0 min)\n"
          ]
        },
        {
          "name": "stdout",
          "output_type": "stream",
          "text": [
            "Downloading data from https://s3.amazonaws.com/fcp-indi/data/Projects/ABIDE_Initiative/Outputs/cpac/nofilt_noglobal/func_preproc/SDSU_0050189_func_preproc.nii.gz ...\n"
          ]
        },
        {
          "name": "stderr",
          "output_type": "stream",
          "text": [
            "Downloaded 90439680 of 101015070 bytes (89.5%,    1.0s remaining) ...done. (10 seconds, 0 min)\n"
          ]
        },
        {
          "name": "stdout",
          "output_type": "stream",
          "text": [
            "Downloading data from https://s3.amazonaws.com/fcp-indi/data/Projects/ABIDE_Initiative/Outputs/cpac/nofilt_noglobal/func_preproc/SDSU_0050190_func_preproc.nii.gz ...\n"
          ]
        },
        {
          "name": "stderr",
          "output_type": "stream",
          "text": [
            "Downloaded 85139456 of 97961086 bytes (86.9%,    1.1s remaining) ...done. (9 seconds, 0 min)\n"
          ]
        },
        {
          "name": "stdout",
          "output_type": "stream",
          "text": [
            "Downloading data from https://s3.amazonaws.com/fcp-indi/data/Projects/ABIDE_Initiative/Outputs/cpac/nofilt_noglobal/func_preproc/SDSU_0050193_func_preproc.nii.gz ...\n"
          ]
        },
        {
          "name": "stderr",
          "output_type": "stream",
          "text": [
            "Downloaded 100720640 of 102625489 bytes (98.1%,    0.2s remaining) ...done. (10 seconds, 0 min)\n"
          ]
        },
        {
          "name": "stdout",
          "output_type": "stream",
          "text": [
            "Downloading data from https://s3.amazonaws.com/fcp-indi/data/Projects/ABIDE_Initiative/Outputs/cpac/nofilt_noglobal/func_preproc/SDSU_0050194_func_preproc.nii.gz ...\n"
          ]
        },
        {
          "name": "stderr",
          "output_type": "stream",
          "text": [
            "Downloaded 99573760 of 105533255 bytes (94.4%,    0.6s remaining) ...done. (11 seconds, 0 min)\n"
          ]
        },
        {
          "name": "stdout",
          "output_type": "stream",
          "text": [
            "Downloading data from https://s3.amazonaws.com/fcp-indi/data/Projects/ABIDE_Initiative/Outputs/cpac/nofilt_noglobal/func_preproc/SDSU_0050195_func_preproc.nii.gz ...\n"
          ]
        },
        {
          "name": "stderr",
          "output_type": "stream",
          "text": [
            "Downloaded 99418112 of 107072040 bytes (92.9%,    0.8s remaining) ...done. (11 seconds, 0 min)\n"
          ]
        },
        {
          "name": "stdout",
          "output_type": "stream",
          "text": [
            "Downloading data from https://s3.amazonaws.com/fcp-indi/data/Projects/ABIDE_Initiative/Outputs/cpac/nofilt_noglobal/func_preproc/SDSU_0050196_func_preproc.nii.gz ...\n"
          ]
        },
        {
          "name": "stderr",
          "output_type": "stream",
          "text": [
            "Downloaded 97992704 of 106884892 bytes (91.7%,    0.8s remaining) ...done. (10 seconds, 0 min)\n"
          ]
        },
        {
          "name": "stdout",
          "output_type": "stream",
          "text": [
            "Downloading data from https://s3.amazonaws.com/fcp-indi/data/Projects/ABIDE_Initiative/Outputs/cpac/nofilt_noglobal/func_preproc/SDSU_0050198_func_preproc.nii.gz ...\n"
          ]
        },
        {
          "name": "stderr",
          "output_type": "stream",
          "text": [
            "Downloaded 99573760 of 100240888 bytes (99.3%,    0.1s remaining) ...done. (10 seconds, 0 min)\n"
          ]
        },
        {
          "name": "stdout",
          "output_type": "stream",
          "text": [
            "Downloading data from https://s3.amazonaws.com/fcp-indi/data/Projects/ABIDE_Initiative/Outputs/cpac/nofilt_noglobal/func_preproc/SDSU_0050199_func_preproc.nii.gz ...\n"
          ]
        },
        {
          "name": "stderr",
          "output_type": "stream",
          "text": [
            "Downloaded 99418112 of 100130834 bytes (99.3%,    0.1s remaining) ...done. (11 seconds, 0 min)\n"
          ]
        },
        {
          "name": "stdout",
          "output_type": "stream",
          "text": [
            "Downloading data from https://s3.amazonaws.com/fcp-indi/data/Projects/ABIDE_Initiative/Outputs/cpac/nofilt_noglobal/func_preproc/SDSU_0050200_func_preproc.nii.gz ...\n"
          ]
        },
        {
          "name": "stderr",
          "output_type": "stream",
          "text": [
            "Downloaded 94347264 of 102821793 bytes (91.8%,    0.8s remaining) ...done. (10 seconds, 0 min)\n"
          ]
        },
        {
          "name": "stdout",
          "output_type": "stream",
          "text": [
            "Downloading data from https://s3.amazonaws.com/fcp-indi/data/Projects/ABIDE_Initiative/Outputs/cpac/nofilt_noglobal/func_preproc/SDSU_0050201_func_preproc.nii.gz ...\n"
          ]
        },
        {
          "name": "stderr",
          "output_type": "stream",
          "text": [
            "Downloaded 101605376 of 106424505 bytes (95.5%,    0.5s remaining) ...done. (11 seconds, 0 min)\n"
          ]
        },
        {
          "name": "stdout",
          "output_type": "stream",
          "text": [
            "Downloading data from https://s3.amazonaws.com/fcp-indi/data/Projects/ABIDE_Initiative/Outputs/cpac/nofilt_noglobal/func_preproc/SDSU_0050202_func_preproc.nii.gz ...\n"
          ]
        },
        {
          "name": "stderr",
          "output_type": "stream",
          "text": [
            "Downloaded 102727680 of 104764204 bytes (98.1%,    0.2s remaining) ...done. (11 seconds, 0 min)\n"
          ]
        },
        {
          "name": "stdout",
          "output_type": "stream",
          "text": [
            "Downloading data from https://s3.amazonaws.com/fcp-indi/data/Projects/ABIDE_Initiative/Outputs/cpac/nofilt_noglobal/func_preproc/SDSU_0050203_func_preproc.nii.gz ...\n"
          ]
        },
        {
          "name": "stderr",
          "output_type": "stream",
          "text": [
            "Downloaded 89899008 of 101762563 bytes (88.3%,    1.1s remaining) ...done. (10 seconds, 0 min)\n"
          ]
        },
        {
          "name": "stdout",
          "output_type": "stream",
          "text": [
            "Downloading data from https://s3.amazonaws.com/fcp-indi/data/Projects/ABIDE_Initiative/Outputs/cpac/nofilt_noglobal/func_preproc/SDSU_0050204_func_preproc.nii.gz ...\n"
          ]
        },
        {
          "name": "stderr",
          "output_type": "stream",
          "text": [
            "Downloaded 93184000 of 103476731 bytes (90.1%,    1.0s remaining) ...done. (10 seconds, 0 min)\n"
          ]
        },
        {
          "name": "stdout",
          "output_type": "stream",
          "text": [
            "Downloading data from https://s3.amazonaws.com/fcp-indi/data/Projects/ABIDE_Initiative/Outputs/cpac/nofilt_noglobal/func_preproc/SDSU_0050205_func_preproc.nii.gz ...\n"
          ]
        },
        {
          "name": "stderr",
          "output_type": "stream",
          "text": [
            "Downloaded 88907776 of 99319344 bytes (89.5%,    1.0s remaining) ...done. (10 seconds, 0 min)\n"
          ]
        },
        {
          "name": "stdout",
          "output_type": "stream",
          "text": [
            "Downloading data from https://s3.amazonaws.com/fcp-indi/data/Projects/ABIDE_Initiative/Outputs/cpac/nofilt_noglobal/func_preproc/SDSU_0050206_func_preproc.nii.gz ...\n"
          ]
        },
        {
          "name": "stderr",
          "output_type": "stream",
          "text": [
            "Downloaded 101097472 of 106144149 bytes (95.2%,    0.5s remaining) ...done. (11 seconds, 0 min)\n"
          ]
        },
        {
          "name": "stdout",
          "output_type": "stream",
          "text": [
            "Downloading data from https://s3.amazonaws.com/fcp-indi/data/Projects/ABIDE_Initiative/Outputs/cpac/nofilt_noglobal/func_preproc/SDSU_0050208_func_preproc.nii.gz ...\n"
          ]
        },
        {
          "name": "stderr",
          "output_type": "stream",
          "text": [
            "Downloaded 94068736 of 98283071 bytes (95.7%,    0.4s remaining) ...done. (10 seconds, 0 min)\n"
          ]
        },
        {
          "name": "stdout",
          "output_type": "stream",
          "text": [
            "Downloading data from https://s3.amazonaws.com/fcp-indi/data/Projects/ABIDE_Initiative/Outputs/cpac/nofilt_noglobal/func_preproc/SDSU_0050210_func_preproc.nii.gz ...\n"
          ]
        },
        {
          "name": "stderr",
          "output_type": "stream",
          "text": [
            "Downloaded 91537408 of 96666269 bytes (94.7%,    0.5s remaining) ...done. (10 seconds, 0 min)\n"
          ]
        },
        {
          "name": "stdout",
          "output_type": "stream",
          "text": [
            "Downloading data from https://s3.amazonaws.com/fcp-indi/data/Projects/ABIDE_Initiative/Outputs/cpac/nofilt_noglobal/func_preproc/SDSU_0050213_func_preproc.nii.gz ...\n"
          ]
        },
        {
          "name": "stderr",
          "output_type": "stream",
          "text": [
            "Downloaded 105201664 of 109179568 bytes (96.4%,    0.4s remaining) ...done. (11 seconds, 0 min)\n"
          ]
        },
        {
          "name": "stdout",
          "output_type": "stream",
          "text": [
            "Downloading data from https://s3.amazonaws.com/fcp-indi/data/Projects/ABIDE_Initiative/Outputs/cpac/nofilt_noglobal/func_preproc/SDSU_0050214_func_preproc.nii.gz ...\n"
          ]
        },
        {
          "name": "stderr",
          "output_type": "stream",
          "text": [
            "Downloaded 91619328 of 104315489 bytes (87.8%,    1.2s remaining) ...done. (10 seconds, 0 min)\n"
          ]
        },
        {
          "name": "stdout",
          "output_type": "stream",
          "text": [
            "Downloading data from https://s3.amazonaws.com/fcp-indi/data/Projects/ABIDE_Initiative/Outputs/cpac/nofilt_noglobal/func_preproc/SDSU_0050215_func_preproc.nii.gz ...\n"
          ]
        },
        {
          "name": "stderr",
          "output_type": "stream",
          "text": [
            "Downloaded 100442112 of 100755881 bytes (99.7%,    0.0s remaining) ...done. (11 seconds, 0 min)\n"
          ]
        },
        {
          "name": "stdout",
          "output_type": "stream",
          "text": [
            "Downloading data from https://s3.amazonaws.com/fcp-indi/data/Projects/ABIDE_Initiative/Outputs/cpac/nofilt_noglobal/func_preproc/SDSU_0050217_func_preproc.nii.gz ...\n"
          ]
        },
        {
          "name": "stderr",
          "output_type": "stream",
          "text": [
            "Downloaded 103473152 of 104049488 bytes (99.4%,    0.1s remaining) ...done. (11 seconds, 0 min)\n"
          ]
        },
        {
          "name": "stdout",
          "output_type": "stream",
          "text": [
            "Downloading data from https://s3.amazonaws.com/fcp-indi/data/Projects/ABIDE_Initiative/Outputs/cpac/nofilt_noglobal/func_preproc/Trinity_0050232_func_preproc.nii.gz ...\n"
          ]
        },
        {
          "name": "stderr",
          "output_type": "stream",
          "text": [
            "Downloaded 81158144 of 88100076 bytes (92.1%,    0.7s remaining) ...done. (9 seconds, 0 min)\n"
          ]
        },
        {
          "name": "stdout",
          "output_type": "stream",
          "text": [
            "Downloading data from https://s3.amazonaws.com/fcp-indi/data/Projects/ABIDE_Initiative/Outputs/cpac/nofilt_noglobal/func_preproc/Trinity_0050233_func_preproc.nii.gz ...\n"
          ]
        },
        {
          "name": "stderr",
          "output_type": "stream",
          "text": [
            "Downloaded 77692928 of 82149656 bytes (94.6%,    0.4s remaining) ...done. (9 seconds, 0 min)\n"
          ]
        },
        {
          "name": "stdout",
          "output_type": "stream",
          "text": [
            "Downloading data from https://s3.amazonaws.com/fcp-indi/data/Projects/ABIDE_Initiative/Outputs/cpac/nofilt_noglobal/func_preproc/Trinity_0050234_func_preproc.nii.gz ...\n"
          ]
        },
        {
          "name": "stderr",
          "output_type": "stream",
          "text": [
            "Downloaded 81403904 of 81739638 bytes (99.6%,    0.0s remaining) ...done. (8 seconds, 0 min)\n"
          ]
        },
        {
          "name": "stdout",
          "output_type": "stream",
          "text": [
            "Downloading data from https://s3.amazonaws.com/fcp-indi/data/Projects/ABIDE_Initiative/Outputs/cpac/nofilt_noglobal/func_preproc/Trinity_0050236_func_preproc.nii.gz ...\n"
          ]
        },
        {
          "name": "stderr",
          "output_type": "stream",
          "text": [
            "Downloaded 70148096 of 79578720 bytes (88.1%,    0.9s remaining) ...done. (8 seconds, 0 min)\n"
          ]
        },
        {
          "name": "stdout",
          "output_type": "stream",
          "text": [
            "Downloading data from https://s3.amazonaws.com/fcp-indi/data/Projects/ABIDE_Initiative/Outputs/cpac/nofilt_noglobal/func_preproc/Trinity_0050237_func_preproc.nii.gz ...\n"
          ]
        },
        {
          "name": "stderr",
          "output_type": "stream",
          "text": [
            "Downloaded 77488128 of 79167312 bytes (97.9%,    0.2s remaining) ...done. (8 seconds, 0 min)\n"
          ]
        },
        {
          "name": "stdout",
          "output_type": "stream",
          "text": [
            "Downloading data from https://s3.amazonaws.com/fcp-indi/data/Projects/ABIDE_Initiative/Outputs/cpac/nofilt_noglobal/func_preproc/Trinity_0050239_func_preproc.nii.gz ...\n"
          ]
        },
        {
          "name": "stderr",
          "output_type": "stream",
          "text": [
            "Downloaded 84189184 of 85134814 bytes (98.9%,    0.1s remaining) ...done. (8 seconds, 0 min)\n"
          ]
        },
        {
          "name": "stdout",
          "output_type": "stream",
          "text": [
            "Downloading data from https://s3.amazonaws.com/fcp-indi/data/Projects/ABIDE_Initiative/Outputs/cpac/nofilt_noglobal/func_preproc/Trinity_0050240_func_preproc.nii.gz ...\n"
          ]
        },
        {
          "name": "stderr",
          "output_type": "stream",
          "text": [
            "Downloaded 80748544 of 84685546 bytes (95.4%,    0.4s remaining) ...done. (9 seconds, 0 min)\n"
          ]
        },
        {
          "name": "stdout",
          "output_type": "stream",
          "text": [
            "Downloading data from https://s3.amazonaws.com/fcp-indi/data/Projects/ABIDE_Initiative/Outputs/cpac/nofilt_noglobal/func_preproc/Trinity_0050241_func_preproc.nii.gz ...\n"
          ]
        },
        {
          "name": "stderr",
          "output_type": "stream",
          "text": [
            "Downloaded 77463552 of 86433443 bytes (89.6%,    0.9s remaining) ...done. (9 seconds, 0 min)\n"
          ]
        },
        {
          "name": "stdout",
          "output_type": "stream",
          "text": [
            "Downloading data from https://s3.amazonaws.com/fcp-indi/data/Projects/ABIDE_Initiative/Outputs/cpac/nofilt_noglobal/func_preproc/Trinity_0050243_func_preproc.nii.gz ...\n"
          ]
        },
        {
          "name": "stderr",
          "output_type": "stream",
          "text": [
            "Downloaded 88539136 of 89827896 bytes (98.6%,    0.1s remaining) ...done. (10 seconds, 0 min)\n"
          ]
        },
        {
          "name": "stdout",
          "output_type": "stream",
          "text": [
            "Downloading data from https://s3.amazonaws.com/fcp-indi/data/Projects/ABIDE_Initiative/Outputs/cpac/nofilt_noglobal/func_preproc/Trinity_0050245_func_preproc.nii.gz ...\n"
          ]
        },
        {
          "name": "stderr",
          "output_type": "stream",
          "text": [
            "Downloaded 67977216 of 82403522 bytes (82.5%,    1.4s remaining) ...done. (8 seconds, 0 min)\n"
          ]
        },
        {
          "name": "stdout",
          "output_type": "stream",
          "text": [
            "Downloading data from https://s3.amazonaws.com/fcp-indi/data/Projects/ABIDE_Initiative/Outputs/cpac/nofilt_noglobal/func_preproc/Trinity_0050247_func_preproc.nii.gz ...\n"
          ]
        },
        {
          "name": "stderr",
          "output_type": "stream",
          "text": [
            "Downloaded 77561856 of 89196011 bytes (87.0%,    1.1s remaining) ...done. (9 seconds, 0 min)\n"
          ]
        },
        {
          "name": "stdout",
          "output_type": "stream",
          "text": [
            "Downloading data from https://s3.amazonaws.com/fcp-indi/data/Projects/ABIDE_Initiative/Outputs/cpac/nofilt_noglobal/func_preproc/Trinity_0050248_func_preproc.nii.gz ...\n"
          ]
        },
        {
          "name": "stderr",
          "output_type": "stream",
          "text": [
            "Downloaded 73449472 of 86734034 bytes (84.7%,    1.2s remaining) ...done. (8 seconds, 0 min)\n"
          ]
        },
        {
          "name": "stdout",
          "output_type": "stream",
          "text": [
            "Downloading data from https://s3.amazonaws.com/fcp-indi/data/Projects/ABIDE_Initiative/Outputs/cpac/nofilt_noglobal/func_preproc/Trinity_0050249_func_preproc.nii.gz ...\n"
          ]
        },
        {
          "name": "stderr",
          "output_type": "stream",
          "text": [
            "Downloaded 79716352 of 85240741 bytes (93.5%,    0.5s remaining) ...done. (9 seconds, 0 min)\n"
          ]
        },
        {
          "name": "stdout",
          "output_type": "stream",
          "text": [
            "Downloading data from https://s3.amazonaws.com/fcp-indi/data/Projects/ABIDE_Initiative/Outputs/cpac/nofilt_noglobal/func_preproc/Trinity_0050250_func_preproc.nii.gz ...\n"
          ]
        },
        {
          "name": "stderr",
          "output_type": "stream",
          "text": [
            "Downloaded 77037568 of 89255889 bytes (86.3%,    1.0s remaining) ...done. (8 seconds, 0 min)\n"
          ]
        },
        {
          "name": "stdout",
          "output_type": "stream",
          "text": [
            "Downloading data from https://s3.amazonaws.com/fcp-indi/data/Projects/ABIDE_Initiative/Outputs/cpac/nofilt_noglobal/func_preproc/Trinity_0050251_func_preproc.nii.gz ...\n"
          ]
        },
        {
          "name": "stderr",
          "output_type": "stream",
          "text": [
            "Downloaded 82993152 of 89696906 bytes (92.5%,    0.6s remaining) ...done. (9 seconds, 0 min)\n"
          ]
        },
        {
          "name": "stdout",
          "output_type": "stream",
          "text": [
            "Downloading data from https://s3.amazonaws.com/fcp-indi/data/Projects/ABIDE_Initiative/Outputs/cpac/nofilt_noglobal/func_preproc/Trinity_0050252_func_preproc.nii.gz ...\n"
          ]
        },
        {
          "name": "stderr",
          "output_type": "stream",
          "text": [
            "Downloaded 78053376 of 88226898 bytes (88.5%,    0.9s remaining) ...done. (8 seconds, 0 min)\n"
          ]
        },
        {
          "name": "stdout",
          "output_type": "stream",
          "text": [
            "Downloading data from https://s3.amazonaws.com/fcp-indi/data/Projects/ABIDE_Initiative/Outputs/cpac/nofilt_noglobal/func_preproc/Trinity_0050253_func_preproc.nii.gz ...\n"
          ]
        },
        {
          "name": "stderr",
          "output_type": "stream",
          "text": [
            "Downloaded 75735040 of 85619700 bytes (88.5%,    1.0s remaining) ...done. (9 seconds, 0 min)\n"
          ]
        },
        {
          "name": "stdout",
          "output_type": "stream",
          "text": [
            "Downloading data from https://s3.amazonaws.com/fcp-indi/data/Projects/ABIDE_Initiative/Outputs/cpac/nofilt_noglobal/func_preproc/Trinity_0050254_func_preproc.nii.gz ...\n"
          ]
        },
        {
          "name": "stderr",
          "output_type": "stream",
          "text": [
            "Downloaded 80175104 of 85749288 bytes (93.5%,    0.5s remaining) ...done. (9 seconds, 0 min)\n"
          ]
        },
        {
          "name": "stdout",
          "output_type": "stream",
          "text": [
            "Downloading data from https://s3.amazonaws.com/fcp-indi/data/Projects/ABIDE_Initiative/Outputs/cpac/nofilt_noglobal/func_preproc/Trinity_0050255_func_preproc.nii.gz ...\n"
          ]
        },
        {
          "name": "stderr",
          "output_type": "stream",
          "text": [
            "Downloaded 79241216 of 80406871 bytes (98.6%,    0.1s remaining) ...done. (8 seconds, 0 min)\n"
          ]
        },
        {
          "name": "stdout",
          "output_type": "stream",
          "text": [
            "Downloading data from https://s3.amazonaws.com/fcp-indi/data/Projects/ABIDE_Initiative/Outputs/cpac/nofilt_noglobal/func_preproc/Trinity_0050257_func_preproc.nii.gz ...\n"
          ]
        },
        {
          "name": "stderr",
          "output_type": "stream",
          "text": [
            "Downloaded 77438976 of 86334444 bytes (89.7%,    0.7s remaining) ...done. (8 seconds, 0 min)\n"
          ]
        },
        {
          "name": "stdout",
          "output_type": "stream",
          "text": [
            "Downloading data from https://s3.amazonaws.com/fcp-indi/data/Projects/ABIDE_Initiative/Outputs/cpac/nofilt_noglobal/func_preproc/Trinity_0050259_func_preproc.nii.gz ...\n"
          ]
        },
        {
          "name": "stderr",
          "output_type": "stream",
          "text": [
            "Downloaded 81068032 of 82453566 bytes (98.3%,    0.1s remaining) ...done. (8 seconds, 0 min)\n"
          ]
        },
        {
          "name": "stdout",
          "output_type": "stream",
          "text": [
            "Downloading data from https://s3.amazonaws.com/fcp-indi/data/Projects/ABIDE_Initiative/Outputs/cpac/nofilt_noglobal/func_preproc/Trinity_0050260_func_preproc.nii.gz ...\n"
          ]
        },
        {
          "name": "stderr",
          "output_type": "stream",
          "text": [
            "Downloaded 74670080 of 81189491 bytes (92.0%,    0.7s remaining) ...done. (9 seconds, 0 min)\n"
          ]
        },
        {
          "name": "stdout",
          "output_type": "stream",
          "text": [
            "Downloading data from https://s3.amazonaws.com/fcp-indi/data/Projects/ABIDE_Initiative/Outputs/cpac/nofilt_noglobal/func_preproc/Trinity_0050261_func_preproc.nii.gz ...\n"
          ]
        },
        {
          "name": "stderr",
          "output_type": "stream",
          "text": [
            "Downloaded 76537856 of 80788761 bytes (94.7%,    0.4s remaining) ...done. (9 seconds, 0 min)\n"
          ]
        },
        {
          "name": "stdout",
          "output_type": "stream",
          "text": [
            "Downloading data from https://s3.amazonaws.com/fcp-indi/data/Projects/ABIDE_Initiative/Outputs/cpac/nofilt_noglobal/func_preproc/Trinity_0050262_func_preproc.nii.gz ...\n"
          ]
        },
        {
          "name": "stderr",
          "output_type": "stream",
          "text": [
            "Downloaded 86695936 of 88438528 bytes (98.0%,    0.2s remaining) ...done. (8 seconds, 0 min)\n"
          ]
        },
        {
          "name": "stdout",
          "output_type": "stream",
          "text": [
            "Downloading data from https://s3.amazonaws.com/fcp-indi/data/Projects/ABIDE_Initiative/Outputs/cpac/nofilt_noglobal/func_preproc/Trinity_0050263_func_preproc.nii.gz ...\n"
          ]
        },
        {
          "name": "stderr",
          "output_type": "stream",
          "text": [
            "Downloaded 77242368 of 82657156 bytes (93.4%,    0.5s remaining) ...done. (8 seconds, 0 min)\n"
          ]
        },
        {
          "name": "stdout",
          "output_type": "stream",
          "text": [
            "Downloading data from https://s3.amazonaws.com/fcp-indi/data/Projects/ABIDE_Initiative/Outputs/cpac/nofilt_noglobal/func_preproc/Trinity_0050264_func_preproc.nii.gz ...\n"
          ]
        },
        {
          "name": "stderr",
          "output_type": "stream",
          "text": [
            "Downloaded 81453056 of 82083586 bytes (99.2%,    0.1s remaining) ...done. (8 seconds, 0 min)\n"
          ]
        },
        {
          "name": "stdout",
          "output_type": "stream",
          "text": [
            "Downloading data from https://s3.amazonaws.com/fcp-indi/data/Projects/ABIDE_Initiative/Outputs/cpac/nofilt_noglobal/func_preproc/Trinity_0050265_func_preproc.nii.gz ...\n"
          ]
        },
        {
          "name": "stderr",
          "output_type": "stream",
          "text": [
            "Downloaded 80363520 of 88311033 bytes (91.0%,    0.6s remaining) ...done. (8 seconds, 0 min)\n"
          ]
        },
        {
          "name": "stdout",
          "output_type": "stream",
          "text": [
            "Downloading data from https://s3.amazonaws.com/fcp-indi/data/Projects/ABIDE_Initiative/Outputs/cpac/nofilt_noglobal/func_preproc/Trinity_0050266_func_preproc.nii.gz ...\n"
          ]
        },
        {
          "name": "stderr",
          "output_type": "stream",
          "text": [
            "Downloaded 79052800 of 84832785 bytes (93.2%,    0.5s remaining) ...done. (8 seconds, 0 min)\n"
          ]
        },
        {
          "name": "stdout",
          "output_type": "stream",
          "text": [
            "Downloading data from https://s3.amazonaws.com/fcp-indi/data/Projects/ABIDE_Initiative/Outputs/cpac/nofilt_noglobal/func_preproc/Trinity_0050267_func_preproc.nii.gz ...\n"
          ]
        },
        {
          "name": "stderr",
          "output_type": "stream",
          "text": [
            "Downloaded 75612160 of 83958604 bytes (90.1%,    0.7s remaining) ...done. (8 seconds, 0 min)\n"
          ]
        },
        {
          "name": "stdout",
          "output_type": "stream",
          "text": [
            "Downloading data from https://s3.amazonaws.com/fcp-indi/data/Projects/ABIDE_Initiative/Outputs/cpac/nofilt_noglobal/func_preproc/Trinity_0050268_func_preproc.nii.gz ...\n"
          ]
        },
        {
          "name": "stderr",
          "output_type": "stream",
          "text": [
            "Downloaded 71122944 of 85078204 bytes (83.6%,    1.3s remaining) ...done. (8 seconds, 0 min)\n"
          ]
        },
        {
          "name": "stdout",
          "output_type": "stream",
          "text": [
            "Downloading data from https://s3.amazonaws.com/fcp-indi/data/Projects/ABIDE_Initiative/Outputs/cpac/nofilt_noglobal/func_preproc/Trinity_0050269_func_preproc.nii.gz ...\n"
          ]
        },
        {
          "name": "stderr",
          "output_type": "stream",
          "text": [
            "Downloaded 75644928 of 85316744 bytes (88.7%,    1.0s remaining) ...done. (9 seconds, 0 min)\n"
          ]
        },
        {
          "name": "stdout",
          "output_type": "stream",
          "text": [
            "Downloading data from https://s3.amazonaws.com/fcp-indi/data/Projects/ABIDE_Initiative/Outputs/cpac/nofilt_noglobal/func_preproc/Trinity_0050270_func_preproc.nii.gz ...\n"
          ]
        },
        {
          "name": "stderr",
          "output_type": "stream",
          "text": [
            "Downloaded 79347712 of 83650716 bytes (94.9%,    0.4s remaining) ...done. (9 seconds, 0 min)\n"
          ]
        },
        {
          "name": "stdout",
          "output_type": "stream",
          "text": [
            "Downloading data from https://s3.amazonaws.com/fcp-indi/data/Projects/ABIDE_Initiative/Outputs/cpac/nofilt_noglobal/func_preproc/Trinity_0050271_func_preproc.nii.gz ...\n"
          ]
        },
        {
          "name": "stderr",
          "output_type": "stream",
          "text": [
            "Downloaded 70565888 of 84223335 bytes (83.8%,    1.3s remaining) ...done. (8 seconds, 0 min)\n"
          ]
        },
        {
          "name": "stdout",
          "output_type": "stream",
          "text": [
            "Downloading data from https://s3.amazonaws.com/fcp-indi/data/Projects/ABIDE_Initiative/Outputs/cpac/nofilt_noglobal/func_preproc/UM_1_0050272_func_preproc.nii.gz ...\n"
          ]
        },
        {
          "name": "stderr",
          "output_type": "stream",
          "text": [
            "Downloaded 192176128 of 204073805 bytes (94.2%,    1.0s remaining) ...done. (18 seconds, 0 min)\n"
          ]
        },
        {
          "name": "stdout",
          "output_type": "stream",
          "text": [
            "Downloading data from https://s3.amazonaws.com/fcp-indi/data/Projects/ABIDE_Initiative/Outputs/cpac/nofilt_noglobal/func_preproc/UM_1_0050273_func_preproc.nii.gz ...\n"
          ]
        },
        {
          "name": "stderr",
          "output_type": "stream",
          "text": [
            "Downloaded 159465472 of 173382781 bytes (92.0%,    1.2s remaining) ...done. (16 seconds, 0 min)\n"
          ]
        },
        {
          "name": "stdout",
          "output_type": "stream",
          "text": [
            "Downloading data from https://s3.amazonaws.com/fcp-indi/data/Projects/ABIDE_Initiative/Outputs/cpac/nofilt_noglobal/func_preproc/UM_1_0050274_func_preproc.nii.gz ...\n"
          ]
        },
        {
          "name": "stderr",
          "output_type": "stream",
          "text": [
            "Downloaded 166961152 of 170223641 bytes (98.1%,    0.3s remaining) ...done. (16 seconds, 0 min)\n"
          ]
        },
        {
          "name": "stdout",
          "output_type": "stream",
          "text": [
            "Downloading data from https://s3.amazonaws.com/fcp-indi/data/Projects/ABIDE_Initiative/Outputs/cpac/nofilt_noglobal/func_preproc/UM_1_0050275_func_preproc.nii.gz ...\n"
          ]
        },
        {
          "name": "stderr",
          "output_type": "stream",
          "text": [
            "Downloaded 165625856 of 178755670 bytes (92.7%,    0.9s remaining) ...done. (14 seconds, 0 min)\n"
          ]
        },
        {
          "name": "stdout",
          "output_type": "stream",
          "text": [
            "Downloading data from https://s3.amazonaws.com/fcp-indi/data/Projects/ABIDE_Initiative/Outputs/cpac/nofilt_noglobal/func_preproc/UM_1_0050276_func_preproc.nii.gz ...\n"
          ]
        },
        {
          "name": "stderr",
          "output_type": "stream",
          "text": [
            "Downloaded 175325184 of 176860851 bytes (99.1%,    0.1s remaining) ...done. (16 seconds, 0 min)\n"
          ]
        },
        {
          "name": "stdout",
          "output_type": "stream",
          "text": [
            "Downloading data from https://s3.amazonaws.com/fcp-indi/data/Projects/ABIDE_Initiative/Outputs/cpac/nofilt_noglobal/func_preproc/UM_1_0050278_func_preproc.nii.gz ...\n"
          ]
        },
        {
          "name": "stderr",
          "output_type": "stream",
          "text": [
            "Downloaded 180207616 of 180574638 bytes (99.8%,    0.0s remaining) ...done. (18 seconds, 0 min)\n"
          ]
        },
        {
          "name": "stdout",
          "output_type": "stream",
          "text": [
            "Downloading data from https://s3.amazonaws.com/fcp-indi/data/Projects/ABIDE_Initiative/Outputs/cpac/nofilt_noglobal/func_preproc/UM_1_0050282_func_preproc.nii.gz ...\n"
          ]
        },
        {
          "name": "stderr",
          "output_type": "stream",
          "text": [
            "Downloaded 164823040 of 168785580 bytes (97.7%,    0.4s remaining) ...done. (16 seconds, 0 min)\n"
          ]
        },
        {
          "name": "stdout",
          "output_type": "stream",
          "text": [
            "Downloading data from https://s3.amazonaws.com/fcp-indi/data/Projects/ABIDE_Initiative/Outputs/cpac/nofilt_noglobal/func_preproc/UM_1_0050284_func_preproc.nii.gz ...\n"
          ]
        },
        {
          "name": "stderr",
          "output_type": "stream",
          "text": [
            "Downloaded 181575680 of 190222690 bytes (95.5%,    0.8s remaining) ...done. (18 seconds, 0 min)\n"
          ]
        },
        {
          "name": "stdout",
          "output_type": "stream",
          "text": [
            "Downloading data from https://s3.amazonaws.com/fcp-indi/data/Projects/ABIDE_Initiative/Outputs/cpac/nofilt_noglobal/func_preproc/UM_1_0050285_func_preproc.nii.gz ...\n"
          ]
        },
        {
          "name": "stderr",
          "output_type": "stream",
          "text": [
            "Downloaded 171876352 of 178264954 bytes (96.4%,    0.5s remaining) ...done. (15 seconds, 0 min)\n"
          ]
        },
        {
          "name": "stdout",
          "output_type": "stream",
          "text": [
            "Downloading data from https://s3.amazonaws.com/fcp-indi/data/Projects/ABIDE_Initiative/Outputs/cpac/nofilt_noglobal/func_preproc/UM_1_0050287_func_preproc.nii.gz ...\n"
          ]
        },
        {
          "name": "stderr",
          "output_type": "stream",
          "text": [
            "Downloaded 167034880 of 167834099 bytes (99.5%,    0.1s remaining) ...done. (16 seconds, 0 min)\n"
          ]
        },
        {
          "name": "stdout",
          "output_type": "stream",
          "text": [
            "Downloading data from https://s3.amazonaws.com/fcp-indi/data/Projects/ABIDE_Initiative/Outputs/cpac/nofilt_noglobal/func_preproc/UM_1_0050289_func_preproc.nii.gz ...\n"
          ]
        },
        {
          "name": "stderr",
          "output_type": "stream",
          "text": [
            "Downloaded 171474944 of 186119228 bytes (92.1%,    1.2s remaining) ...done. (16 seconds, 0 min)\n"
          ]
        },
        {
          "name": "stdout",
          "output_type": "stream",
          "text": [
            "Downloading data from https://s3.amazonaws.com/fcp-indi/data/Projects/ABIDE_Initiative/Outputs/cpac/nofilt_noglobal/func_preproc/UM_1_0050290_func_preproc.nii.gz ...\n"
          ]
        },
        {
          "name": "stderr",
          "output_type": "stream",
          "text": [
            "Downloaded 175874048 of 178023482 bytes (98.8%,    0.2s remaining) ...done. (17 seconds, 0 min)\n"
          ]
        },
        {
          "name": "stdout",
          "output_type": "stream",
          "text": [
            "Downloading data from https://s3.amazonaws.com/fcp-indi/data/Projects/ABIDE_Initiative/Outputs/cpac/nofilt_noglobal/func_preproc/UM_1_0050291_func_preproc.nii.gz ...\n"
          ]
        },
        {
          "name": "stderr",
          "output_type": "stream",
          "text": [
            "Downloaded 161366016 of 169555833 bytes (95.2%,    0.8s remaining) ...done. (17 seconds, 0 min)\n"
          ]
        },
        {
          "name": "stdout",
          "output_type": "stream",
          "text": [
            "Downloading data from https://s3.amazonaws.com/fcp-indi/data/Projects/ABIDE_Initiative/Outputs/cpac/nofilt_noglobal/func_preproc/UM_1_0050292_func_preproc.nii.gz ...\n"
          ]
        },
        {
          "name": "stderr",
          "output_type": "stream",
          "text": [
            "Downloaded 169287680 of 175713626 bytes (96.3%,    0.5s remaining) ...done. (14 seconds, 0 min)\n"
          ]
        },
        {
          "name": "stdout",
          "output_type": "stream",
          "text": [
            "Downloading data from https://s3.amazonaws.com/fcp-indi/data/Projects/ABIDE_Initiative/Outputs/cpac/nofilt_noglobal/func_preproc/UM_1_0050293_func_preproc.nii.gz ...\n"
          ]
        },
        {
          "name": "stderr",
          "output_type": "stream",
          "text": [
            "Downloaded 175095808 of 178961772 bytes (97.8%,    0.4s remaining) ...done. (17 seconds, 0 min)\n"
          ]
        },
        {
          "name": "stdout",
          "output_type": "stream",
          "text": [
            "Downloading data from https://s3.amazonaws.com/fcp-indi/data/Projects/ABIDE_Initiative/Outputs/cpac/nofilt_noglobal/func_preproc/UM_1_0050294_func_preproc.nii.gz ...\n"
          ]
        },
        {
          "name": "stderr",
          "output_type": "stream",
          "text": [
            "Downloaded 184410112 of 185573106 bytes (99.4%,    0.1s remaining) ...done. (17 seconds, 0 min)\n"
          ]
        },
        {
          "name": "stdout",
          "output_type": "stream",
          "text": [
            "Downloading data from https://s3.amazonaws.com/fcp-indi/data/Projects/ABIDE_Initiative/Outputs/cpac/nofilt_noglobal/func_preproc/UM_1_0050295_func_preproc.nii.gz ...\n"
          ]
        },
        {
          "name": "stderr",
          "output_type": "stream",
          "text": [
            "Downloaded 157622272 of 172936675 bytes (91.1%,    1.3s remaining) ...done. (15 seconds, 0 min)\n"
          ]
        },
        {
          "name": "stdout",
          "output_type": "stream",
          "text": [
            "Downloading data from https://s3.amazonaws.com/fcp-indi/data/Projects/ABIDE_Initiative/Outputs/cpac/nofilt_noglobal/func_preproc/UM_1_0050297_func_preproc.nii.gz ...\n"
          ]
        },
        {
          "name": "stderr",
          "output_type": "stream",
          "text": [
            "Downloaded 165150720 of 175332801 bytes (94.2%,    0.9s remaining) ...done. (17 seconds, 0 min)\n"
          ]
        },
        {
          "name": "stdout",
          "output_type": "stream",
          "text": [
            "Downloading data from https://s3.amazonaws.com/fcp-indi/data/Projects/ABIDE_Initiative/Outputs/cpac/nofilt_noglobal/func_preproc/UM_1_0050298_func_preproc.nii.gz ...\n"
          ]
        },
        {
          "name": "stderr",
          "output_type": "stream",
          "text": [
            "Downloaded 170434560 of 180845447 bytes (94.2%,    0.9s remaining) ...done. (16 seconds, 0 min)\n"
          ]
        },
        {
          "name": "stdout",
          "output_type": "stream",
          "text": [
            "Downloading data from https://s3.amazonaws.com/fcp-indi/data/Projects/ABIDE_Initiative/Outputs/cpac/nofilt_noglobal/func_preproc/UM_1_0050300_func_preproc.nii.gz ...\n"
          ]
        },
        {
          "name": "stderr",
          "output_type": "stream",
          "text": [
            "Downloaded 184680448 of 191049237 bytes (96.7%,    0.5s remaining) ...done. (15 seconds, 0 min)\n"
          ]
        },
        {
          "name": "stdout",
          "output_type": "stream",
          "text": [
            "Downloading data from https://s3.amazonaws.com/fcp-indi/data/Projects/ABIDE_Initiative/Outputs/cpac/nofilt_noglobal/func_preproc/UM_1_0050301_func_preproc.nii.gz ...\n"
          ]
        },
        {
          "name": "stderr",
          "output_type": "stream",
          "text": [
            "Downloaded 167329792 of 175033265 bytes (95.6%,    0.7s remaining) ...done. (17 seconds, 0 min)\n"
          ]
        },
        {
          "name": "stdout",
          "output_type": "stream",
          "text": [
            "Downloading data from https://s3.amazonaws.com/fcp-indi/data/Projects/ABIDE_Initiative/Outputs/cpac/nofilt_noglobal/func_preproc/UM_1_0050302_func_preproc.nii.gz ...\n"
          ]
        },
        {
          "name": "stderr",
          "output_type": "stream",
          "text": [
            "Downloaded 174309376 of 183210908 bytes (95.1%,    0.7s remaining) ...done. (15 seconds, 0 min)\n"
          ]
        },
        {
          "name": "stdout",
          "output_type": "stream",
          "text": [
            "Downloading data from https://s3.amazonaws.com/fcp-indi/data/Projects/ABIDE_Initiative/Outputs/cpac/nofilt_noglobal/func_preproc/UM_1_0050304_func_preproc.nii.gz ...\n"
          ]
        },
        {
          "name": "stderr",
          "output_type": "stream",
          "text": [
            "Downloaded 170991616 of 183517814 bytes (93.2%,    1.1s remaining) ...done. (17 seconds, 0 min)\n"
          ]
        },
        {
          "name": "stdout",
          "output_type": "stream",
          "text": [
            "Downloading data from https://s3.amazonaws.com/fcp-indi/data/Projects/ABIDE_Initiative/Outputs/cpac/nofilt_noglobal/func_preproc/UM_1_0050308_func_preproc.nii.gz ...\n"
          ]
        },
        {
          "name": "stderr",
          "output_type": "stream",
          "text": [
            "Downloaded 190390272 of 193110768 bytes (98.6%,    0.2s remaining) ...done. (17 seconds, 0 min)\n"
          ]
        },
        {
          "name": "stdout",
          "output_type": "stream",
          "text": [
            "Downloading data from https://s3.amazonaws.com/fcp-indi/data/Projects/ABIDE_Initiative/Outputs/cpac/nofilt_noglobal/func_preproc/UM_1_0050310_func_preproc.nii.gz ...\n"
          ]
        },
        {
          "name": "stderr",
          "output_type": "stream",
          "text": [
            "Downloaded 167985152 of 181419865 bytes (92.6%,    1.0s remaining) ...done. (15 seconds, 0 min)\n"
          ]
        },
        {
          "name": "stdout",
          "output_type": "stream",
          "text": [
            "Downloading data from https://s3.amazonaws.com/fcp-indi/data/Projects/ABIDE_Initiative/Outputs/cpac/nofilt_noglobal/func_preproc/UM_1_0050312_func_preproc.nii.gz ...\n"
          ]
        },
        {
          "name": "stderr",
          "output_type": "stream",
          "text": [
            "Downloaded 170770432 of 186111162 bytes (91.8%,    1.3s remaining) ...done. (16 seconds, 0 min)\n"
          ]
        },
        {
          "name": "stdout",
          "output_type": "stream",
          "text": [
            "Downloading data from https://s3.amazonaws.com/fcp-indi/data/Projects/ABIDE_Initiative/Outputs/cpac/nofilt_noglobal/func_preproc/UM_1_0050314_func_preproc.nii.gz ...\n"
          ]
        },
        {
          "name": "stderr",
          "output_type": "stream",
          "text": [
            "Downloaded 164077568 of 171247565 bytes (95.8%,    0.7s remaining) ...done. (17 seconds, 0 min)\n"
          ]
        },
        {
          "name": "stdout",
          "output_type": "stream",
          "text": [
            "Downloading data from https://s3.amazonaws.com/fcp-indi/data/Projects/ABIDE_Initiative/Outputs/cpac/nofilt_noglobal/func_preproc/UM_1_0050315_func_preproc.nii.gz ...\n"
          ]
        },
        {
          "name": "stderr",
          "output_type": "stream",
          "text": [
            "Downloaded 160555008 of 171921893 bytes (93.4%,    1.0s remaining) ...done. (16 seconds, 0 min)\n"
          ]
        },
        {
          "name": "stdout",
          "output_type": "stream",
          "text": [
            "Downloading data from https://s3.amazonaws.com/fcp-indi/data/Projects/ABIDE_Initiative/Outputs/cpac/nofilt_noglobal/func_preproc/UM_1_0050318_func_preproc.nii.gz ...\n"
          ]
        },
        {
          "name": "stderr",
          "output_type": "stream",
          "text": [
            "Downloaded 164405248 of 180173552 bytes (91.2%,    1.4s remaining) ...done. (16 seconds, 0 min)\n"
          ]
        },
        {
          "name": "stdout",
          "output_type": "stream",
          "text": [
            "Downloading data from https://s3.amazonaws.com/fcp-indi/data/Projects/ABIDE_Initiative/Outputs/cpac/nofilt_noglobal/func_preproc/UM_1_0050319_func_preproc.nii.gz ...\n"
          ]
        },
        {
          "name": "stderr",
          "output_type": "stream",
          "text": [
            "Downloaded 171892736 of 172996955 bytes (99.4%,    0.1s remaining) ...done. (16 seconds, 0 min)\n"
          ]
        },
        {
          "name": "stdout",
          "output_type": "stream",
          "text": [
            "Downloading data from https://s3.amazonaws.com/fcp-indi/data/Projects/ABIDE_Initiative/Outputs/cpac/nofilt_noglobal/func_preproc/UM_1_0050320_func_preproc.nii.gz ...\n"
          ]
        },
        {
          "name": "stderr",
          "output_type": "stream",
          "text": [
            "Downloaded 163823616 of 176194779 bytes (93.0%,    1.1s remaining) ...done. (16 seconds, 0 min)\n"
          ]
        },
        {
          "name": "stdout",
          "output_type": "stream",
          "text": [
            "Downloading data from https://s3.amazonaws.com/fcp-indi/data/Projects/ABIDE_Initiative/Outputs/cpac/nofilt_noglobal/func_preproc/UM_1_0050321_func_preproc.nii.gz ...\n"
          ]
        },
        {
          "name": "stderr",
          "output_type": "stream",
          "text": [
            "Downloaded 159727616 of 163068163 bytes (98.0%,    0.2s remaining) ...done. (13 seconds, 0 min)\n"
          ]
        },
        {
          "name": "stdout",
          "output_type": "stream",
          "text": [
            "Downloading data from https://s3.amazonaws.com/fcp-indi/data/Projects/ABIDE_Initiative/Outputs/cpac/nofilt_noglobal/func_preproc/UM_1_0050324_func_preproc.nii.gz ...\n"
          ]
        },
        {
          "name": "stderr",
          "output_type": "stream",
          "text": [
            "Downloaded 173129728 of 173242576 bytes (99.9%,    0.0s remaining) ...done. (16 seconds, 0 min)\n"
          ]
        },
        {
          "name": "stdout",
          "output_type": "stream",
          "text": [
            "Downloading data from https://s3.amazonaws.com/fcp-indi/data/Projects/ABIDE_Initiative/Outputs/cpac/nofilt_noglobal/func_preproc/UM_1_0050325_func_preproc.nii.gz ...\n"
          ]
        },
        {
          "name": "stderr",
          "output_type": "stream",
          "text": [
            "Downloaded 174432256 of 183055905 bytes (95.3%,    0.8s remaining) ...done. (18 seconds, 0 min)\n"
          ]
        },
        {
          "name": "stdout",
          "output_type": "stream",
          "text": [
            "Downloading data from https://s3.amazonaws.com/fcp-indi/data/Projects/ABIDE_Initiative/Outputs/cpac/nofilt_noglobal/func_preproc/UM_1_0050327_func_preproc.nii.gz ...\n"
          ]
        },
        {
          "name": "stderr",
          "output_type": "stream",
          "text": [
            "Downloaded 172367872 of 183734194 bytes (93.8%,    1.0s remaining) ...done. (17 seconds, 0 min)\n"
          ]
        },
        {
          "name": "stdout",
          "output_type": "stream",
          "text": [
            "Downloading data from https://s3.amazonaws.com/fcp-indi/data/Projects/ABIDE_Initiative/Outputs/cpac/nofilt_noglobal/func_preproc/UM_1_0050329_func_preproc.nii.gz ...\n"
          ]
        },
        {
          "name": "stderr",
          "output_type": "stream",
          "text": [
            "Downloaded 165085184 of 168430232 bytes (98.0%,    0.3s remaining) ...done. (16 seconds, 0 min)\n"
          ]
        },
        {
          "name": "stdout",
          "output_type": "stream",
          "text": [
            "Downloading data from https://s3.amazonaws.com/fcp-indi/data/Projects/ABIDE_Initiative/Outputs/cpac/nofilt_noglobal/func_preproc/UM_1_0050330_func_preproc.nii.gz ...\n"
          ]
        },
        {
          "name": "stderr",
          "output_type": "stream",
          "text": [
            "Downloaded 161177600 of 176080760 bytes (91.5%,    1.2s remaining) ...done. (15 seconds, 0 min)\n"
          ]
        }
      ],
      "source": [
        "from nilearn import datasets\n",
        "#CHANGE PATH (data_dir) TO WERE YOU WANT TO STORE THE DATA\n",
        "abide = datasets.fetch_abide_pcp(data_dir=\"/kaggle/working/D\",\n",
        "                                n_subjects=200,\n",
        "                                pipeline=\"cpac\",\n",
        "                                quality_checked=True,\n",
        "                                )"
      ]
    },
    {
      "cell_type": "markdown",
      "metadata": {
        "id": "SdtrTjsgUA8r"
      },
      "source": [
        "## Extracting the functional connectivity data\n",
        "\n",
        "As basis for training the classifier we will use the functional connectivity matrix."
      ]
    },
    {
      "cell_type": "code",
      "execution_count": null,
      "metadata": {
        "colab": {
          "base_uri": "https://localhost:8080/"
        },
        "id": "VrZR-uM_UA8r",
        "outputId": "c8a168f9-7168-41ff-ad5d-eed9f7a8e780"
      },
      "outputs": [
        {
          "data": {
            "text/plain": [
              "200"
            ]
          },
          "execution_count": 4,
          "metadata": {},
          "output_type": "execute_result"
        }
      ],
      "source": [
        "len(abide.func_preproc)"
      ]
    },
    {
      "cell_type": "code",
      "execution_count": null,
      "metadata": {
        "colab": {
          "base_uri": "https://localhost:8080/",
          "height": 139
        },
        "id": "lcFG3YhnUA8s",
        "outputId": "63e70db5-615b-48ac-a370-89842863cc2a"
      },
      "outputs": [
        {
          "data": {
            "application/vnd.google.colaboratory.intrinsic+json": {
              "type": "string"
            },
            "text/plain": [
              "\".. _abide_dataset:\\n\\nABIDE PCP dataset\\n=================\\n\\nAccess\\n------\\nSee :func:`nilearn.datasets.fetch_abide_pcp`.\\n\\nNotes\\n-----\\nThe Autism Brain Imaging Data Exchange (ABIDE) dataset provides previously\\ncollected resting state functional magnetic resonance imaging datasets\\nfrom 539 individuals with ASD and 573 typical controls for the purpose\\nof data sharing in the broader scientific community. This grass-root\\ninitiative involved 16 international sites, sharing 20 samples yielding\\n1112 datasets composed of both MRI data and an extensive array of\\nphenotypic information common across nearly all sites (see below).\\n\\nNote that this is the preprocessed version of ABIDE provided by the\\npreprocess connectome projects (PCP).\\n\\nSee :footcite:t:`Nielsen2013`.\\n\\nContent\\n-------\\n    :'phenotypic': Behavioral information.\\n\\nReferences\\n----------\\n\\n.. footbibliography::\\n\\nFor more information about this dataset's structure:\\n\\nhttp://preprocessed-connectomes-project.github.io\\n\\nhttp://www.childmind.org/en/healthy-brain-network/abide/\\n\\nLicense\\n-------\\nConsistent with the policies of the 1000 Functional Connectomes\\nProject, data usage is unrestricted for non-commercial research purposes.\\n\""
            ]
          },
          "execution_count": 5,
          "metadata": {},
          "output_type": "execute_result"
        }
      ],
      "source": [
        "abide.description\n"
      ]
    },
    {
      "cell_type": "code",
      "execution_count": null,
      "metadata": {
        "colab": {
          "base_uri": "https://localhost:8080/",
          "height": 35
        },
        "id": "OqkSFW3hUA8s",
        "outputId": "e3213e6e-952c-4e89-c48c-52f5145c0bf0"
      },
      "outputs": [
        {
          "data": {
            "application/vnd.google.colaboratory.intrinsic+json": {
              "type": "string"
            },
            "text/plain": [
              "'/kaggle/working/D/ABIDE_pcp/cpac/nofilt_noglobal/Pitt_0050003_func_preproc.nii.gz'"
            ]
          },
          "execution_count": 6,
          "metadata": {},
          "output_type": "execute_result"
        }
      ],
      "source": [
        "abide.func_preproc[0]"
      ]
    },
    {
      "cell_type": "markdown",
      "metadata": {
        "id": "o_ZpV5MyUA8s"
      },
      "source": [
        "We need to decide which parcellation to use. (https://mniopenresearch.org/articles/1-3)."
      ]
    },
    {
      "cell_type": "code",
      "execution_count": null,
      "metadata": {
        "colab": {
          "base_uri": "https://localhost:8080/"
        },
        "id": "-XsAtjjgUA8s",
        "outputId": "c1b5b4fc-c06c-420e-c372-2ee98c011978"
      },
      "outputs": [
        {
          "name": "stdout",
          "output_type": "stream",
          "text": [
            "\n",
            "Added README.md to /root/nilearn_data\n",
            "\n",
            "\n",
            "Dataset created in /root/nilearn_data/basc_multiscale_2015\n",
            "\n",
            "Downloading data from https://ndownloader.figshare.com/files/1861819 ...\n"
          ]
        },
        {
          "name": "stderr",
          "output_type": "stream",
          "text": [
            " ...done. (3 seconds, 0 min)\n",
            "Extracting data from /root/nilearn_data/basc_multiscale_2015/53337d5c408465aa257d35f81c13413b/1861819..... done.\n"
          ]
        }
      ],
      "source": [
        "parcellations=datasets.fetch_atlas_basc_multiscale_2015(data_dir=None, url=None, resume=True, verbose=1, resolution=None, version='sym')\n",
        "\n",
        "atlas_filename = parcellations.scale064"
      ]
    },
    {
      "cell_type": "code",
      "execution_count": null,
      "metadata": {
        "colab": {
          "base_uri": "https://localhost:8080/",
          "height": 35
        },
        "id": "127TZ7hjUA8s",
        "outputId": "afbb60c0-10d3-4c70-c341-99a26d663bdf"
      },
      "outputs": [
        {
          "data": {
            "application/vnd.google.colaboratory.intrinsic+json": {
              "type": "string"
            },
            "text/plain": [
              "'/root/nilearn_data/basc_multiscale_2015/template_cambridge_basc_multiscale_nii_sym/template_cambridge_basc_multiscale_sym_scale064.nii.gz'"
            ]
          },
          "execution_count": 8,
          "metadata": {},
          "output_type": "execute_result"
        }
      ],
      "source": [
        "atlas_filename"
      ]
    },
    {
      "cell_type": "markdown",
      "metadata": {
        "id": "GQ62FaGaUA8s"
      },
      "source": []
    },
    {
      "cell_type": "markdown",
      "metadata": {
        "id": "7PlIi5ttUA8t"
      },
      "source": [
        "This is what the atlas looks like:"
      ]
    },
    {
      "cell_type": "code",
      "execution_count": null,
      "metadata": {
        "colab": {
          "base_uri": "https://localhost:8080/",
          "height": 404
        },
        "id": "mO-AQIT2UA8t",
        "outputId": "392bf293-e1a8-4129-fe5c-06c9be6abd41"
      },
      "outputs": [
        {
          "data": {
            "text/plain": [
              "<nilearn.plotting.displays._slicers.OrthoSlicer at 0x7be78e5ff370>"
            ]
          },
          "execution_count": 9,
          "metadata": {},
          "output_type": "execute_result"
        },
        {
          "data": {
            "image/png": "[encoded data removed]",
            "text/plain": [
              "<Figure size 660x350 with 4 Axes>"
            ]
          },
          "metadata": {},
          "output_type": "display_data"
        }
      ],
      "source": [
        "from nilearn import plotting\n",
        "\n",
        "plotting.plot_roi(atlas_filename, draw_cross=False)"
      ]
    },
    {
      "cell_type": "markdown",
      "metadata": {
        "id": "SSp2EuLsUA8t"
      },
      "source": [
        "We'll store the filenames of the functional scans in a list that we can later loop over. To test the functions, we will only use the first image in our data set."
      ]
    },
    {
      "cell_type": "code",
      "execution_count": null,
      "metadata": {
        "colab": {
          "base_uri": "https://localhost:8080/",
          "height": 35
        },
        "id": "nbhDdHL7UA8t",
        "outputId": "ac5d613a-eec7-4989-d032-09fd49aff3bd"
      },
      "outputs": [
        {
          "data": {
            "application/vnd.google.colaboratory.intrinsic+json": {
              "type": "string"
            },
            "text/plain": [
              "'/kaggle/working/D/ABIDE_pcp/cpac/nofilt_noglobal/Pitt_0050003_func_preproc.nii.gz'"
            ]
          },
          "execution_count": 10,
          "metadata": {},
          "output_type": "execute_result"
        }
      ],
      "source": [
        "fmri_filenames = abide.func_preproc[0]\n",
        "fmri_filenames"
      ]
    },
    {
      "cell_type": "code",
      "execution_count": null,
      "metadata": {
        "colab": {
          "base_uri": "https://localhost:8080/",
          "height": 404
        },
        "id": "j1EqVtN-UA8t",
        "outputId": "3c77590f-a4b3-41d0-d526-e01073f8c0c9"
      },
      "outputs": [
        {
          "data": {
            "text/plain": [
              "<nilearn.plotting.displays._slicers.OrthoSlicer at 0x7be78dba5c60>"
            ]
          },
          "execution_count": 11,
          "metadata": {},
          "output_type": "execute_result"
        },
        {
          "data": {
            "image/png": "[encoded data removed]",
            "text/plain": [
              "<Figure size 730x350 with 5 Axes>"
            ]
          },
          "metadata": {},
          "output_type": "display_data"
        }
      ],
      "source": [
        "from nilearn import plotting\n",
        "from nilearn import image\n",
        "first_Img = image.index_img(fmri_filenames, 1)\n",
        "plotting.plot_stat_map(first_Img, threshold = 'auto')"
      ]
    },
    {
      "cell_type": "markdown",
      "metadata": {
        "id": "6TmhnjmAUA8t"
      },
      "source": [
        "Using NiftiLabelsMasker we will create a mask on our functional images with the labels of the chosen atlas and extract the time series in each ROI. Because the data is already preprocessed, we do not need to regress out any confounds."
      ]
    },
    {
      "cell_type": "code",
      "execution_count": null,
      "metadata": {
        "colab": {
          "base_uri": "https://localhost:8080/"
        },
        "id": "91VR1ey0UA8t",
        "outputId": "dfe687c3-ea9e-414d-c8a3-45272517a68f"
      },
      "outputs": [
        {
          "name": "stdout",
          "output_type": "stream",
          "text": [
            "[NiftiLabelsMasker.wrapped] loading data from /root/nilearn_data/basc_multiscale_2015/template_cambridge_basc_multiscale_nii_sym/template_cambridge_basc_multiscale_sym_scale064.nii.gz\n",
            "Resampling labels\n",
            "________________________________________________________________________________\n",
            "[Memory] Calling nilearn.maskers.base_masker._filter_and_extract...\n",
            "_filter_and_extract('/kaggle/working/D/ABIDE_pcp/cpac/nofilt_noglobal/Pitt_0050003_func_preproc.nii.gz', \n",
            "<nilearn.maskers.nifti_labels_masker._ExtractionFunctor object at 0x7be78e5fcfa0>, \n",
            "{ 'background_label': 0,\n",
            "  'clean_kwargs': {},\n",
            "  'detrend': False,\n",
            "  'dtype': None,\n",
            "  'high_pass': None,\n",
            "  'high_variance_confounds': False,\n",
            "  'keep_masked_labels': True,\n",
            "  'labels': None,\n",
            "  'labels_img': '/root/nilearn_data/basc_multiscale_2015/template_cambridge_basc_multiscale_nii_sym/template_cambridge_basc_multiscale_sym_scale064.nii.gz',\n",
            "  'low_pass': None,\n",
            "  'mask_img': None,\n",
            "  'reports': True,\n",
            "  'smoothing_fwhm': None,\n",
            "  'standardize': True,\n",
            "  'standardize_confounds': True,\n",
            "  'strategy': 'mean',\n",
            "  't_r': None,\n",
            "  'target_affine': None,\n",
            "  'target_shape': None}, confounds=None, sample_mask=None, dtype=None, memory=Memory(location=nilearn_cache/joblib), memory_level=1, verbose=1)\n",
            "[NiftiLabelsMasker.transform_single_imgs] Loading data from /kaggle/working/D/ABIDE_pcp/cpac/nofilt_noglobal/Pitt_0050003_func_preproc.nii.gz\n",
            "[NiftiLabelsMasker.transform_single_imgs] Extracting region signals\n",
            "[NiftiLabelsMasker.transform_single_imgs] Cleaning extracted signals\n",
            "______________________________________________filter_and_extract - 15.8s, 0.3min\n"
          ]
        },
        {
          "data": {
            "text/plain": [
              "array([[ 0.34946893,  0.21255069,  0.32162783, ...,  0.04455612,\n",
              "        -0.74631306, -0.74398049],\n",
              "       [ 1.25591628,  1.68573687,  1.23214702, ...,  1.99766476,\n",
              "         2.28793563,  1.3609068 ],\n",
              "       [ 0.79581354,  0.44042242, -0.64273411, ...,  1.16094275,\n",
              "         1.29602784, -0.12425872],\n",
              "       ...,\n",
              "       [-1.22488812, -1.44788828, -1.02308577, ..., -1.50944423,\n",
              "        -1.40493041, -1.35589217],\n",
              "       [ 0.15812634, -1.17902071, -0.2163547 , ..., -0.22004795,\n",
              "         0.20060848, -1.18520845],\n",
              "       [ 0.91473484,  1.32615049,  0.51178034, ...,  0.96631393,\n",
              "         0.59919195,  0.367358  ]])"
            ]
          },
          "execution_count": 12,
          "metadata": {},
          "output_type": "execute_result"
        }
      ],
      "source": [
        "from nilearn.input_data import NiftiLabelsMasker\n",
        "\n",
        "masker = NiftiLabelsMasker(labels_img=atlas_filename,\n",
        "                           standardize=True,\n",
        "                           memory='nilearn_cache',\n",
        "                           verbose=1)\n",
        "\n",
        "time_series = masker.fit_transform(fmri_filenames)\n",
        "time_series"
      ]
    },
    {
      "cell_type": "markdown",
      "metadata": {
        "id": "KrTqvJSdUA8t"
      },
      "source": [
        "The correlation matrix of the ROIs is computed."
      ]
    },
    {
      "cell_type": "code",
      "execution_count": null,
      "metadata": {
        "colab": {
          "base_uri": "https://localhost:8080/"
        },
        "id": "HTV2aveaUA8u",
        "outputId": "efb0c719-985a-4093-a2a3-e58f8a137a6f"
      },
      "outputs": [
        {
          "data": {
            "text/plain": [
              "(64, 64)"
            ]
          },
          "execution_count": 13,
          "metadata": {},
          "output_type": "execute_result"
        }
      ],
      "source": [
        "from nilearn.connectome import ConnectivityMeasure\n",
        "\n",
        "correlation_measure = ConnectivityMeasure(kind='correlation')\n",
        "correlation_matrix = correlation_measure.fit_transform([time_series])[0]\n",
        "correlation_matrix.shape"
      ]
    },
    {
      "cell_type": "code",
      "execution_count": null,
      "metadata": {
        "colab": {
          "base_uri": "https://localhost:8080/",
          "height": 824
        },
        "id": "3DQLRoToFUMZ",
        "outputId": "1e3bea13-6224-4530-ff54-49f4457c7b6a"
      },
      "outputs": [
        {
          "data": {
            "text/plain": [
              "<matplotlib.image.AxesImage at 0x7be78d964160>"
            ]
          },
          "execution_count": 14,
          "metadata": {},
          "output_type": "execute_result"
        },
        {
          "data": {
            "image/png": "[encoded data removed]",
            "text/plain": [
              "<Figure size 1000x800 with 2 Axes>"
            ]
          },
          "metadata": {},
          "output_type": "display_data"
        }
      ],
      "source": [
        "import numpy as np\n",
        "\n",
        "np.fill_diagonal(correlation_matrix, 0)\n",
        "\n",
        "plotting.plot_matrix(correlation_matrix, figure=(10, 8),\n",
        "                     labels=range(time_series.shape[-1]),\n",
        "                     vmax=0.8, vmin=-0.8, reorder=False)"
      ]
    },
    {
      "cell_type": "markdown",
      "metadata": {
        "id": "YYBZYjA_UA8u"
      },
      "source": [
        "All right, this seems to work! Now let's combine this in a for loop."
      ]
    },
    {
      "cell_type": "code",
      "execution_count": null,
      "metadata": {
        "colab": {
          "base_uri": "https://localhost:8080/"
        },
        "id": "BdGYHUlEUA8u",
        "outputId": "f1bb7958-fddc-43c9-aee4-40b40692581d"
      },
      "outputs": [
        {
          "data": {
            "text/plain": [
              "['/kaggle/working/D/ABIDE_pcp/cpac/nofilt_noglobal/Pitt_0050003_func_preproc.nii.gz',\n",
              " '/kaggle/working/D/ABIDE_pcp/cpac/nofilt_noglobal/Pitt_0050004_func_preproc.nii.gz',\n",
              " '/kaggle/working/D/ABIDE_pcp/cpac/nofilt_noglobal/Pitt_0050005_func_preproc.nii.gz',\n",
              " '/kaggle/working/D/ABIDE_pcp/cpac/nofilt_noglobal/Pitt_0050006_func_preproc.nii.gz',\n",
              " '/kaggle/working/D/ABIDE_pcp/cpac/nofilt_noglobal/Pitt_0050007_func_preproc.nii.gz',\n",
              " '/kaggle/working/D/ABIDE_pcp/cpac/nofilt_noglobal/Pitt_0050008_func_preproc.nii.gz',\n",
              " '/kaggle/working/D/ABIDE_pcp/cpac/nofilt_noglobal/Pitt_0050010_func_preproc.nii.gz',\n",
              " '/kaggle/working/D/ABIDE_pcp/cpac/nofilt_noglobal/Pitt_0050011_func_preproc.nii.gz',\n",
              " '/kaggle/working/D/ABIDE_pcp/cpac/nofilt_noglobal/Pitt_0050012_func_preproc.nii.gz',\n",
              " '/kaggle/working/D/ABIDE_pcp/cpac/nofilt_noglobal/Pitt_0050013_func_preproc.nii.gz',\n",
              " '/kaggle/working/D/ABIDE_pcp/cpac/nofilt_noglobal/Pitt_0050014_func_preproc.nii.gz',\n",
              " '/kaggle/working/D/ABIDE_pcp/cpac/nofilt_noglobal/Pitt_0050015_func_preproc.nii.gz',\n",
              " '/kaggle/working/D/ABIDE_pcp/cpac/nofilt_noglobal/Pitt_0050016_func_preproc.nii.gz',\n",
              " '/kaggle/working/D/ABIDE_pcp/cpac/nofilt_noglobal/Pitt_0050020_func_preproc.nii.gz',\n",
              " '/kaggle/working/D/ABIDE_pcp/cpac/nofilt_noglobal/Pitt_0050022_func_preproc.nii.gz',\n",
              " '/kaggle/working/D/ABIDE_pcp/cpac/nofilt_noglobal/Pitt_0050023_func_preproc.nii.gz',\n",
              " '/kaggle/working/D/ABIDE_pcp/cpac/nofilt_noglobal/Pitt_0050024_func_preproc.nii.gz',\n",
              " '/kaggle/working/D/ABIDE_pcp/cpac/nofilt_noglobal/Pitt_0050025_func_preproc.nii.gz',\n",
              " '/kaggle/working/D/ABIDE_pcp/cpac/nofilt_noglobal/Pitt_0050026_func_preproc.nii.gz',\n",
              " '/kaggle/working/D/ABIDE_pcp/cpac/nofilt_noglobal/Pitt_0050027_func_preproc.nii.gz',\n",
              " '/kaggle/working/D/ABIDE_pcp/cpac/nofilt_noglobal/Pitt_0050028_func_preproc.nii.gz',\n",
              " '/kaggle/working/D/ABIDE_pcp/cpac/nofilt_noglobal/Pitt_0050030_func_preproc.nii.gz',\n",
              " '/kaggle/working/D/ABIDE_pcp/cpac/nofilt_noglobal/Pitt_0050031_func_preproc.nii.gz',\n",
              " '/kaggle/working/D/ABIDE_pcp/cpac/nofilt_noglobal/Pitt_0050032_func_preproc.nii.gz',\n",
              " '/kaggle/working/D/ABIDE_pcp/cpac/nofilt_noglobal/Pitt_0050033_func_preproc.nii.gz',\n",
              " '/kaggle/working/D/ABIDE_pcp/cpac/nofilt_noglobal/Pitt_0050034_func_preproc.nii.gz',\n",
              " '/kaggle/working/D/ABIDE_pcp/cpac/nofilt_noglobal/Pitt_0050035_func_preproc.nii.gz',\n",
              " '/kaggle/working/D/ABIDE_pcp/cpac/nofilt_noglobal/Pitt_0050036_func_preproc.nii.gz',\n",
              " '/kaggle/working/D/ABIDE_pcp/cpac/nofilt_noglobal/Pitt_0050037_func_preproc.nii.gz',\n",
              " '/kaggle/working/D/ABIDE_pcp/cpac/nofilt_noglobal/Pitt_0050038_func_preproc.nii.gz',\n",
              " '/kaggle/working/D/ABIDE_pcp/cpac/nofilt_noglobal/Pitt_0050039_func_preproc.nii.gz',\n",
              " '/kaggle/working/D/ABIDE_pcp/cpac/nofilt_noglobal/Pitt_0050040_func_preproc.nii.gz',\n",
              " '/kaggle/working/D/ABIDE_pcp/cpac/nofilt_noglobal/Pitt_0050041_func_preproc.nii.gz',\n",
              " '/kaggle/working/D/ABIDE_pcp/cpac/nofilt_noglobal/Pitt_0050042_func_preproc.nii.gz',\n",
              " '/kaggle/working/D/ABIDE_pcp/cpac/nofilt_noglobal/Pitt_0050043_func_preproc.nii.gz',\n",
              " '/kaggle/working/D/ABIDE_pcp/cpac/nofilt_noglobal/Pitt_0050044_func_preproc.nii.gz',\n",
              " '/kaggle/working/D/ABIDE_pcp/cpac/nofilt_noglobal/Pitt_0050045_func_preproc.nii.gz',\n",
              " '/kaggle/working/D/ABIDE_pcp/cpac/nofilt_noglobal/Pitt_0050046_func_preproc.nii.gz',\n",
              " '/kaggle/working/D/ABIDE_pcp/cpac/nofilt_noglobal/Pitt_0050047_func_preproc.nii.gz',\n",
              " '/kaggle/working/D/ABIDE_pcp/cpac/nofilt_noglobal/Pitt_0050048_func_preproc.nii.gz',\n",
              " '/kaggle/working/D/ABIDE_pcp/cpac/nofilt_noglobal/Pitt_0050049_func_preproc.nii.gz',\n",
              " '/kaggle/working/D/ABIDE_pcp/cpac/nofilt_noglobal/Pitt_0050050_func_preproc.nii.gz',\n",
              " '/kaggle/working/D/ABIDE_pcp/cpac/nofilt_noglobal/Pitt_0050051_func_preproc.nii.gz',\n",
              " '/kaggle/working/D/ABIDE_pcp/cpac/nofilt_noglobal/Pitt_0050052_func_preproc.nii.gz',\n",
              " '/kaggle/working/D/ABIDE_pcp/cpac/nofilt_noglobal/Pitt_0050053_func_preproc.nii.gz',\n",
              " '/kaggle/working/D/ABIDE_pcp/cpac/nofilt_noglobal/Pitt_0050054_func_preproc.nii.gz',\n",
              " '/kaggle/working/D/ABIDE_pcp/cpac/nofilt_noglobal/Pitt_0050056_func_preproc.nii.gz',\n",
              " '/kaggle/working/D/ABIDE_pcp/cpac/nofilt_noglobal/Pitt_0050057_func_preproc.nii.gz',\n",
              " '/kaggle/working/D/ABIDE_pcp/cpac/nofilt_noglobal/Pitt_0050059_func_preproc.nii.gz',\n",
              " '/kaggle/working/D/ABIDE_pcp/cpac/nofilt_noglobal/Pitt_0050060_func_preproc.nii.gz',\n",
              " '/kaggle/working/D/ABIDE_pcp/cpac/nofilt_noglobal/Olin_0050102_func_preproc.nii.gz',\n",
              " '/kaggle/working/D/ABIDE_pcp/cpac/nofilt_noglobal/Olin_0050103_func_preproc.nii.gz',\n",
              " '/kaggle/working/D/ABIDE_pcp/cpac/nofilt_noglobal/Olin_0050104_func_preproc.nii.gz',\n",
              " '/kaggle/working/D/ABIDE_pcp/cpac/nofilt_noglobal/Olin_0050105_func_preproc.nii.gz',\n",
              " '/kaggle/working/D/ABIDE_pcp/cpac/nofilt_noglobal/Olin_0050106_func_preproc.nii.gz',\n",
              " '/kaggle/working/D/ABIDE_pcp/cpac/nofilt_noglobal/Olin_0050107_func_preproc.nii.gz',\n",
              " '/kaggle/working/D/ABIDE_pcp/cpac/nofilt_noglobal/Olin_0050109_func_preproc.nii.gz',\n",
              " '/kaggle/working/D/ABIDE_pcp/cpac/nofilt_noglobal/Olin_0050111_func_preproc.nii.gz',\n",
              " '/kaggle/working/D/ABIDE_pcp/cpac/nofilt_noglobal/Olin_0050112_func_preproc.nii.gz',\n",
              " '/kaggle/working/D/ABIDE_pcp/cpac/nofilt_noglobal/Olin_0050113_func_preproc.nii.gz',\n",
              " '/kaggle/working/D/ABIDE_pcp/cpac/nofilt_noglobal/Olin_0050114_func_preproc.nii.gz',\n",
              " '/kaggle/working/D/ABIDE_pcp/cpac/nofilt_noglobal/Olin_0050115_func_preproc.nii.gz',\n",
              " '/kaggle/working/D/ABIDE_pcp/cpac/nofilt_noglobal/Olin_0050116_func_preproc.nii.gz',\n",
              " '/kaggle/working/D/ABIDE_pcp/cpac/nofilt_noglobal/Olin_0050117_func_preproc.nii.gz',\n",
              " '/kaggle/working/D/ABIDE_pcp/cpac/nofilt_noglobal/Olin_0050118_func_preproc.nii.gz',\n",
              " '/kaggle/working/D/ABIDE_pcp/cpac/nofilt_noglobal/Olin_0050119_func_preproc.nii.gz',\n",
              " '/kaggle/working/D/ABIDE_pcp/cpac/nofilt_noglobal/Olin_0050121_func_preproc.nii.gz',\n",
              " '/kaggle/working/D/ABIDE_pcp/cpac/nofilt_noglobal/Olin_0050123_func_preproc.nii.gz',\n",
              " '/kaggle/working/D/ABIDE_pcp/cpac/nofilt_noglobal/Olin_0050124_func_preproc.nii.gz',\n",
              " '/kaggle/working/D/ABIDE_pcp/cpac/nofilt_noglobal/Olin_0050125_func_preproc.nii.gz',\n",
              " '/kaggle/working/D/ABIDE_pcp/cpac/nofilt_noglobal/Olin_0050127_func_preproc.nii.gz',\n",
              " '/kaggle/working/D/ABIDE_pcp/cpac/nofilt_noglobal/Olin_0050128_func_preproc.nii.gz',\n",
              " '/kaggle/working/D/ABIDE_pcp/cpac/nofilt_noglobal/Olin_0050129_func_preproc.nii.gz',\n",
              " '/kaggle/working/D/ABIDE_pcp/cpac/nofilt_noglobal/Olin_0050130_func_preproc.nii.gz',\n",
              " '/kaggle/working/D/ABIDE_pcp/cpac/nofilt_noglobal/Olin_0050131_func_preproc.nii.gz',\n",
              " '/kaggle/working/D/ABIDE_pcp/cpac/nofilt_noglobal/Olin_0050132_func_preproc.nii.gz',\n",
              " '/kaggle/working/D/ABIDE_pcp/cpac/nofilt_noglobal/Olin_0050134_func_preproc.nii.gz',\n",
              " '/kaggle/working/D/ABIDE_pcp/cpac/nofilt_noglobal/Olin_0050135_func_preproc.nii.gz',\n",
              " '/kaggle/working/D/ABIDE_pcp/cpac/nofilt_noglobal/OHSU_0050142_func_preproc.nii.gz',\n",
              " '/kaggle/working/D/ABIDE_pcp/cpac/nofilt_noglobal/OHSU_0050143_func_preproc.nii.gz',\n",
              " '/kaggle/working/D/ABIDE_pcp/cpac/nofilt_noglobal/OHSU_0050144_func_preproc.nii.gz',\n",
              " '/kaggle/working/D/ABIDE_pcp/cpac/nofilt_noglobal/OHSU_0050145_func_preproc.nii.gz',\n",
              " '/kaggle/working/D/ABIDE_pcp/cpac/nofilt_noglobal/OHSU_0050146_func_preproc.nii.gz',\n",
              " '/kaggle/working/D/ABIDE_pcp/cpac/nofilt_noglobal/OHSU_0050147_func_preproc.nii.gz',\n",
              " '/kaggle/working/D/ABIDE_pcp/cpac/nofilt_noglobal/OHSU_0050148_func_preproc.nii.gz',\n",
              " '/kaggle/working/D/ABIDE_pcp/cpac/nofilt_noglobal/OHSU_0050149_func_preproc.nii.gz',\n",
              " '/kaggle/working/D/ABIDE_pcp/cpac/nofilt_noglobal/OHSU_0050150_func_preproc.nii.gz',\n",
              " '/kaggle/working/D/ABIDE_pcp/cpac/nofilt_noglobal/OHSU_0050152_func_preproc.nii.gz',\n",
              " '/kaggle/working/D/ABIDE_pcp/cpac/nofilt_noglobal/OHSU_0050153_func_preproc.nii.gz',\n",
              " '/kaggle/working/D/ABIDE_pcp/cpac/nofilt_noglobal/OHSU_0050156_func_preproc.nii.gz',\n",
              " '/kaggle/working/D/ABIDE_pcp/cpac/nofilt_noglobal/OHSU_0050157_func_preproc.nii.gz',\n",
              " '/kaggle/working/D/ABIDE_pcp/cpac/nofilt_noglobal/OHSU_0050158_func_preproc.nii.gz',\n",
              " '/kaggle/working/D/ABIDE_pcp/cpac/nofilt_noglobal/OHSU_0050159_func_preproc.nii.gz',\n",
              " '/kaggle/working/D/ABIDE_pcp/cpac/nofilt_noglobal/OHSU_0050160_func_preproc.nii.gz',\n",
              " '/kaggle/working/D/ABIDE_pcp/cpac/nofilt_noglobal/OHSU_0050161_func_preproc.nii.gz',\n",
              " '/kaggle/working/D/ABIDE_pcp/cpac/nofilt_noglobal/OHSU_0050162_func_preproc.nii.gz',\n",
              " '/kaggle/working/D/ABIDE_pcp/cpac/nofilt_noglobal/OHSU_0050163_func_preproc.nii.gz',\n",
              " '/kaggle/working/D/ABIDE_pcp/cpac/nofilt_noglobal/OHSU_0050164_func_preproc.nii.gz',\n",
              " '/kaggle/working/D/ABIDE_pcp/cpac/nofilt_noglobal/OHSU_0050167_func_preproc.nii.gz',\n",
              " '/kaggle/working/D/ABIDE_pcp/cpac/nofilt_noglobal/OHSU_0050168_func_preproc.nii.gz',\n",
              " '/kaggle/working/D/ABIDE_pcp/cpac/nofilt_noglobal/OHSU_0050169_func_preproc.nii.gz',\n",
              " '/kaggle/working/D/ABIDE_pcp/cpac/nofilt_noglobal/OHSU_0050170_func_preproc.nii.gz',\n",
              " '/kaggle/working/D/ABIDE_pcp/cpac/nofilt_noglobal/OHSU_0050171_func_preproc.nii.gz',\n",
              " '/kaggle/working/D/ABIDE_pcp/cpac/nofilt_noglobal/SDSU_0050182_func_preproc.nii.gz',\n",
              " '/kaggle/working/D/ABIDE_pcp/cpac/nofilt_noglobal/SDSU_0050183_func_preproc.nii.gz',\n",
              " '/kaggle/working/D/ABIDE_pcp/cpac/nofilt_noglobal/SDSU_0050184_func_preproc.nii.gz',\n",
              " '/kaggle/working/D/ABIDE_pcp/cpac/nofilt_noglobal/SDSU_0050186_func_preproc.nii.gz',\n",
              " '/kaggle/working/D/ABIDE_pcp/cpac/nofilt_noglobal/SDSU_0050187_func_preproc.nii.gz',\n",
              " '/kaggle/working/D/ABIDE_pcp/cpac/nofilt_noglobal/SDSU_0050188_func_preproc.nii.gz',\n",
              " '/kaggle/working/D/ABIDE_pcp/cpac/nofilt_noglobal/SDSU_0050189_func_preproc.nii.gz',\n",
              " '/kaggle/working/D/ABIDE_pcp/cpac/nofilt_noglobal/SDSU_0050190_func_preproc.nii.gz',\n",
              " '/kaggle/working/D/ABIDE_pcp/cpac/nofilt_noglobal/SDSU_0050193_func_preproc.nii.gz',\n",
              " '/kaggle/working/D/ABIDE_pcp/cpac/nofilt_noglobal/SDSU_0050194_func_preproc.nii.gz',\n",
              " '/kaggle/working/D/ABIDE_pcp/cpac/nofilt_noglobal/SDSU_0050195_func_preproc.nii.gz',\n",
              " '/kaggle/working/D/ABIDE_pcp/cpac/nofilt_noglobal/SDSU_0050196_func_preproc.nii.gz',\n",
              " '/kaggle/working/D/ABIDE_pcp/cpac/nofilt_noglobal/SDSU_0050198_func_preproc.nii.gz',\n",
              " '/kaggle/working/D/ABIDE_pcp/cpac/nofilt_noglobal/SDSU_0050199_func_preproc.nii.gz',\n",
              " '/kaggle/working/D/ABIDE_pcp/cpac/nofilt_noglobal/SDSU_0050200_func_preproc.nii.gz',\n",
              " '/kaggle/working/D/ABIDE_pcp/cpac/nofilt_noglobal/SDSU_0050201_func_preproc.nii.gz',\n",
              " '/kaggle/working/D/ABIDE_pcp/cpac/nofilt_noglobal/SDSU_0050202_func_preproc.nii.gz',\n",
              " '/kaggle/working/D/ABIDE_pcp/cpac/nofilt_noglobal/SDSU_0050203_func_preproc.nii.gz',\n",
              " '/kaggle/working/D/ABIDE_pcp/cpac/nofilt_noglobal/SDSU_0050204_func_preproc.nii.gz',\n",
              " '/kaggle/working/D/ABIDE_pcp/cpac/nofilt_noglobal/SDSU_0050205_func_preproc.nii.gz',\n",
              " '/kaggle/working/D/ABIDE_pcp/cpac/nofilt_noglobal/SDSU_0050206_func_preproc.nii.gz',\n",
              " '/kaggle/working/D/ABIDE_pcp/cpac/nofilt_noglobal/SDSU_0050208_func_preproc.nii.gz',\n",
              " '/kaggle/working/D/ABIDE_pcp/cpac/nofilt_noglobal/SDSU_0050210_func_preproc.nii.gz',\n",
              " '/kaggle/working/D/ABIDE_pcp/cpac/nofilt_noglobal/SDSU_0050213_func_preproc.nii.gz',\n",
              " '/kaggle/working/D/ABIDE_pcp/cpac/nofilt_noglobal/SDSU_0050214_func_preproc.nii.gz',\n",
              " '/kaggle/working/D/ABIDE_pcp/cpac/nofilt_noglobal/SDSU_0050215_func_preproc.nii.gz',\n",
              " '/kaggle/working/D/ABIDE_pcp/cpac/nofilt_noglobal/SDSU_0050217_func_preproc.nii.gz',\n",
              " '/kaggle/working/D/ABIDE_pcp/cpac/nofilt_noglobal/Trinity_0050232_func_preproc.nii.gz',\n",
              " '/kaggle/working/D/ABIDE_pcp/cpac/nofilt_noglobal/Trinity_0050233_func_preproc.nii.gz',\n",
              " '/kaggle/working/D/ABIDE_pcp/cpac/nofilt_noglobal/Trinity_0050234_func_preproc.nii.gz',\n",
              " '/kaggle/working/D/ABIDE_pcp/cpac/nofilt_noglobal/Trinity_0050236_func_preproc.nii.gz',\n",
              " '/kaggle/working/D/ABIDE_pcp/cpac/nofilt_noglobal/Trinity_0050237_func_preproc.nii.gz',\n",
              " '/kaggle/working/D/ABIDE_pcp/cpac/nofilt_noglobal/Trinity_0050239_func_preproc.nii.gz',\n",
              " '/kaggle/working/D/ABIDE_pcp/cpac/nofilt_noglobal/Trinity_0050240_func_preproc.nii.gz',\n",
              " '/kaggle/working/D/ABIDE_pcp/cpac/nofilt_noglobal/Trinity_0050241_func_preproc.nii.gz',\n",
              " '/kaggle/working/D/ABIDE_pcp/cpac/nofilt_noglobal/Trinity_0050243_func_preproc.nii.gz',\n",
              " '/kaggle/working/D/ABIDE_pcp/cpac/nofilt_noglobal/Trinity_0050245_func_preproc.nii.gz',\n",
              " '/kaggle/working/D/ABIDE_pcp/cpac/nofilt_noglobal/Trinity_0050247_func_preproc.nii.gz',\n",
              " '/kaggle/working/D/ABIDE_pcp/cpac/nofilt_noglobal/Trinity_0050248_func_preproc.nii.gz',\n",
              " '/kaggle/working/D/ABIDE_pcp/cpac/nofilt_noglobal/Trinity_0050249_func_preproc.nii.gz',\n",
              " '/kaggle/working/D/ABIDE_pcp/cpac/nofilt_noglobal/Trinity_0050250_func_preproc.nii.gz',\n",
              " '/kaggle/working/D/ABIDE_pcp/cpac/nofilt_noglobal/Trinity_0050251_func_preproc.nii.gz',\n",
              " '/kaggle/working/D/ABIDE_pcp/cpac/nofilt_noglobal/Trinity_0050252_func_preproc.nii.gz',\n",
              " '/kaggle/working/D/ABIDE_pcp/cpac/nofilt_noglobal/Trinity_0050253_func_preproc.nii.gz',\n",
              " '/kaggle/working/D/ABIDE_pcp/cpac/nofilt_noglobal/Trinity_0050254_func_preproc.nii.gz',\n",
              " '/kaggle/working/D/ABIDE_pcp/cpac/nofilt_noglobal/Trinity_0050255_func_preproc.nii.gz',\n",
              " '/kaggle/working/D/ABIDE_pcp/cpac/nofilt_noglobal/Trinity_0050257_func_preproc.nii.gz',\n",
              " '/kaggle/working/D/ABIDE_pcp/cpac/nofilt_noglobal/Trinity_0050259_func_preproc.nii.gz',\n",
              " '/kaggle/working/D/ABIDE_pcp/cpac/nofilt_noglobal/Trinity_0050260_func_preproc.nii.gz',\n",
              " '/kaggle/working/D/ABIDE_pcp/cpac/nofilt_noglobal/Trinity_0050261_func_preproc.nii.gz',\n",
              " '/kaggle/working/D/ABIDE_pcp/cpac/nofilt_noglobal/Trinity_0050262_func_preproc.nii.gz',\n",
              " '/kaggle/working/D/ABIDE_pcp/cpac/nofilt_noglobal/Trinity_0050263_func_preproc.nii.gz',\n",
              " '/kaggle/working/D/ABIDE_pcp/cpac/nofilt_noglobal/Trinity_0050264_func_preproc.nii.gz',\n",
              " '/kaggle/working/D/ABIDE_pcp/cpac/nofilt_noglobal/Trinity_0050265_func_preproc.nii.gz',\n",
              " '/kaggle/working/D/ABIDE_pcp/cpac/nofilt_noglobal/Trinity_0050266_func_preproc.nii.gz',\n",
              " '/kaggle/working/D/ABIDE_pcp/cpac/nofilt_noglobal/Trinity_0050267_func_preproc.nii.gz',\n",
              " '/kaggle/working/D/ABIDE_pcp/cpac/nofilt_noglobal/Trinity_0050268_func_preproc.nii.gz',\n",
              " '/kaggle/working/D/ABIDE_pcp/cpac/nofilt_noglobal/Trinity_0050269_func_preproc.nii.gz',\n",
              " '/kaggle/working/D/ABIDE_pcp/cpac/nofilt_noglobal/Trinity_0050270_func_preproc.nii.gz',\n",
              " '/kaggle/working/D/ABIDE_pcp/cpac/nofilt_noglobal/Trinity_0050271_func_preproc.nii.gz',\n",
              " '/kaggle/working/D/ABIDE_pcp/cpac/nofilt_noglobal/UM_1_0050272_func_preproc.nii.gz',\n",
              " '/kaggle/working/D/ABIDE_pcp/cpac/nofilt_noglobal/UM_1_0050273_func_preproc.nii.gz',\n",
              " '/kaggle/working/D/ABIDE_pcp/cpac/nofilt_noglobal/UM_1_0050274_func_preproc.nii.gz',\n",
              " '/kaggle/working/D/ABIDE_pcp/cpac/nofilt_noglobal/UM_1_0050275_func_preproc.nii.gz',\n",
              " '/kaggle/working/D/ABIDE_pcp/cpac/nofilt_noglobal/UM_1_0050276_func_preproc.nii.gz',\n",
              " '/kaggle/working/D/ABIDE_pcp/cpac/nofilt_noglobal/UM_1_0050278_func_preproc.nii.gz',\n",
              " '/kaggle/working/D/ABIDE_pcp/cpac/nofilt_noglobal/UM_1_0050282_func_preproc.nii.gz',\n",
              " '/kaggle/working/D/ABIDE_pcp/cpac/nofilt_noglobal/UM_1_0050284_func_preproc.nii.gz',\n",
              " '/kaggle/working/D/ABIDE_pcp/cpac/nofilt_noglobal/UM_1_0050285_func_preproc.nii.gz',\n",
              " '/kaggle/working/D/ABIDE_pcp/cpac/nofilt_noglobal/UM_1_0050287_func_preproc.nii.gz',\n",
              " '/kaggle/working/D/ABIDE_pcp/cpac/nofilt_noglobal/UM_1_0050289_func_preproc.nii.gz',\n",
              " '/kaggle/working/D/ABIDE_pcp/cpac/nofilt_noglobal/UM_1_0050290_func_preproc.nii.gz',\n",
              " '/kaggle/working/D/ABIDE_pcp/cpac/nofilt_noglobal/UM_1_0050291_func_preproc.nii.gz',\n",
              " '/kaggle/working/D/ABIDE_pcp/cpac/nofilt_noglobal/UM_1_0050292_func_preproc.nii.gz',\n",
              " '/kaggle/working/D/ABIDE_pcp/cpac/nofilt_noglobal/UM_1_0050293_func_preproc.nii.gz',\n",
              " '/kaggle/working/D/ABIDE_pcp/cpac/nofilt_noglobal/UM_1_0050294_func_preproc.nii.gz',\n",
              " '/kaggle/working/D/ABIDE_pcp/cpac/nofilt_noglobal/UM_1_0050295_func_preproc.nii.gz',\n",
              " '/kaggle/working/D/ABIDE_pcp/cpac/nofilt_noglobal/UM_1_0050297_func_preproc.nii.gz',\n",
              " '/kaggle/working/D/ABIDE_pcp/cpac/nofilt_noglobal/UM_1_0050298_func_preproc.nii.gz',\n",
              " '/kaggle/working/D/ABIDE_pcp/cpac/nofilt_noglobal/UM_1_0050300_func_preproc.nii.gz',\n",
              " '/kaggle/working/D/ABIDE_pcp/cpac/nofilt_noglobal/UM_1_0050301_func_preproc.nii.gz',\n",
              " '/kaggle/working/D/ABIDE_pcp/cpac/nofilt_noglobal/UM_1_0050302_func_preproc.nii.gz',\n",
              " '/kaggle/working/D/ABIDE_pcp/cpac/nofilt_noglobal/UM_1_0050304_func_preproc.nii.gz',\n",
              " '/kaggle/working/D/ABIDE_pcp/cpac/nofilt_noglobal/UM_1_0050308_func_preproc.nii.gz',\n",
              " '/kaggle/working/D/ABIDE_pcp/cpac/nofilt_noglobal/UM_1_0050310_func_preproc.nii.gz',\n",
              " '/kaggle/working/D/ABIDE_pcp/cpac/nofilt_noglobal/UM_1_0050312_func_preproc.nii.gz',\n",
              " '/kaggle/working/D/ABIDE_pcp/cpac/nofilt_noglobal/UM_1_0050314_func_preproc.nii.gz',\n",
              " '/kaggle/working/D/ABIDE_pcp/cpac/nofilt_noglobal/UM_1_0050315_func_preproc.nii.gz',\n",
              " '/kaggle/working/D/ABIDE_pcp/cpac/nofilt_noglobal/UM_1_0050318_func_preproc.nii.gz',\n",
              " '/kaggle/working/D/ABIDE_pcp/cpac/nofilt_noglobal/UM_1_0050319_func_preproc.nii.gz',\n",
              " '/kaggle/working/D/ABIDE_pcp/cpac/nofilt_noglobal/UM_1_0050320_func_preproc.nii.gz',\n",
              " '/kaggle/working/D/ABIDE_pcp/cpac/nofilt_noglobal/UM_1_0050321_func_preproc.nii.gz',\n",
              " '/kaggle/working/D/ABIDE_pcp/cpac/nofilt_noglobal/UM_1_0050324_func_preproc.nii.gz',\n",
              " '/kaggle/working/D/ABIDE_pcp/cpac/nofilt_noglobal/UM_1_0050325_func_preproc.nii.gz',\n",
              " '/kaggle/working/D/ABIDE_pcp/cpac/nofilt_noglobal/UM_1_0050327_func_preproc.nii.gz',\n",
              " '/kaggle/working/D/ABIDE_pcp/cpac/nofilt_noglobal/UM_1_0050329_func_preproc.nii.gz',\n",
              " '/kaggle/working/D/ABIDE_pcp/cpac/nofilt_noglobal/UM_1_0050330_func_preproc.nii.gz']"
            ]
          },
          "execution_count": 15,
          "metadata": {},
          "output_type": "execute_result"
        }
      ],
      "source": [
        "fmri_filenames = abide.func_preproc\n",
        "fmri_filenames"
      ]
    },
    {
      "cell_type": "code",
      "execution_count": null,
      "metadata": {
        "colab": {
          "base_uri": "https://localhost:8080/"
        },
        "id": "N3kZ87ofUA8u",
        "outputId": "5a168dc8-433a-496a-fe3c-497cac48ac2b"
      },
      "outputs": [
        {
          "name": "stdout",
          "output_type": "stream",
          "text": [
            "finished 1 of 200\n",
            "finished 2 of 200\n",
            "finished 3 of 200\n",
            "finished 4 of 200\n",
            "finished 5 of 200\n",
            "finished 6 of 200\n",
            "finished 7 of 200\n",
            "finished 8 of 200\n",
            "finished 9 of 200\n",
            "finished 10 of 200\n",
            "finished 11 of 200\n",
            "finished 12 of 200\n",
            "finished 13 of 200\n",
            "finished 14 of 200\n",
            "finished 15 of 200\n",
            "finished 16 of 200\n",
            "finished 17 of 200\n",
            "finished 18 of 200\n",
            "finished 19 of 200\n",
            "finished 20 of 200\n",
            "finished 21 of 200\n",
            "finished 22 of 200\n",
            "finished 23 of 200\n",
            "finished 24 of 200\n",
            "finished 25 of 200\n",
            "finished 26 of 200\n",
            "finished 27 of 200\n",
            "finished 28 of 200\n",
            "finished 29 of 200\n",
            "finished 30 of 200\n",
            "finished 31 of 200\n",
            "finished 32 of 200\n",
            "finished 33 of 200\n",
            "finished 34 of 200\n",
            "finished 35 of 200\n",
            "finished 36 of 200\n",
            "finished 37 of 200\n",
            "finished 38 of 200\n",
            "finished 39 of 200\n",
            "finished 40 of 200\n",
            "finished 41 of 200\n",
            "finished 42 of 200\n",
            "finished 43 of 200\n",
            "finished 44 of 200\n",
            "finished 45 of 200\n",
            "finished 46 of 200\n",
            "finished 47 of 200\n",
            "finished 48 of 200\n",
            "finished 49 of 200\n",
            "finished 50 of 200\n",
            "finished 51 of 200\n",
            "finished 52 of 200\n",
            "finished 53 of 200\n",
            "finished 54 of 200\n",
            "finished 55 of 200\n",
            "finished 56 of 200\n",
            "finished 57 of 200\n",
            "finished 58 of 200\n",
            "finished 59 of 200\n",
            "finished 60 of 200\n",
            "finished 61 of 200\n",
            "finished 62 of 200\n",
            "finished 63 of 200\n",
            "finished 64 of 200\n",
            "finished 65 of 200\n",
            "finished 66 of 200\n",
            "finished 67 of 200\n",
            "finished 68 of 200\n",
            "finished 69 of 200\n",
            "finished 70 of 200\n",
            "finished 71 of 200\n",
            "finished 72 of 200\n",
            "finished 73 of 200\n",
            "finished 74 of 200\n",
            "finished 75 of 200\n",
            "finished 76 of 200\n",
            "finished 77 of 200\n",
            "finished 78 of 200\n",
            "finished 79 of 200\n",
            "finished 80 of 200\n",
            "finished 81 of 200\n",
            "finished 82 of 200\n",
            "finished 83 of 200\n",
            "finished 84 of 200\n",
            "finished 85 of 200\n",
            "finished 86 of 200\n",
            "finished 87 of 200\n",
            "finished 88 of 200\n",
            "finished 89 of 200\n",
            "finished 90 of 200\n",
            "finished 91 of 200\n",
            "finished 92 of 200\n",
            "finished 93 of 200\n",
            "finished 94 of 200\n",
            "finished 95 of 200\n",
            "finished 96 of 200\n",
            "finished 97 of 200\n",
            "finished 98 of 200\n",
            "finished 99 of 200\n",
            "finished 100 of 200\n",
            "finished 101 of 200\n",
            "finished 102 of 200\n",
            "finished 103 of 200\n",
            "finished 104 of 200\n",
            "finished 105 of 200\n",
            "finished 106 of 200\n",
            "finished 107 of 200\n",
            "finished 108 of 200\n",
            "finished 109 of 200\n",
            "finished 110 of 200\n",
            "finished 111 of 200\n",
            "finished 112 of 200\n",
            "finished 113 of 200\n",
            "finished 114 of 200\n",
            "finished 115 of 200\n",
            "finished 116 of 200\n",
            "finished 117 of 200\n",
            "finished 118 of 200\n",
            "finished 119 of 200\n",
            "finished 120 of 200\n",
            "finished 121 of 200\n",
            "finished 122 of 200\n",
            "finished 123 of 200\n",
            "finished 124 of 200\n",
            "finished 125 of 200\n",
            "finished 126 of 200\n",
            "finished 127 of 200\n",
            "finished 128 of 200\n",
            "finished 129 of 200\n",
            "finished 130 of 200\n",
            "finished 131 of 200\n",
            "finished 132 of 200\n",
            "finished 133 of 200\n",
            "finished 134 of 200\n",
            "finished 135 of 200\n",
            "finished 136 of 200\n",
            "finished 137 of 200\n",
            "finished 138 of 200\n",
            "finished 139 of 200\n",
            "finished 140 of 200\n",
            "finished 141 of 200\n",
            "finished 142 of 200\n",
            "finished 143 of 200\n",
            "finished 144 of 200\n",
            "finished 145 of 200\n",
            "finished 146 of 200\n",
            "finished 147 of 200\n",
            "finished 148 of 200\n",
            "finished 149 of 200\n",
            "finished 150 of 200\n",
            "finished 151 of 200\n",
            "finished 152 of 200\n",
            "finished 153 of 200\n",
            "finished 154 of 200\n",
            "finished 155 of 200\n",
            "finished 156 of 200\n",
            "finished 157 of 200\n",
            "finished 158 of 200\n",
            "finished 159 of 200\n",
            "finished 160 of 200\n",
            "finished 161 of 200\n",
            "finished 162 of 200\n",
            "finished 163 of 200\n",
            "finished 164 of 200\n",
            "finished 165 of 200\n",
            "finished 166 of 200\n",
            "finished 167 of 200\n",
            "finished 168 of 200\n",
            "finished 169 of 200\n",
            "finished 170 of 200\n",
            "finished 171 of 200\n",
            "finished 172 of 200\n",
            "finished 173 of 200\n",
            "finished 174 of 200\n",
            "finished 175 of 200\n",
            "finished 176 of 200\n",
            "finished 177 of 200\n",
            "finished 178 of 200\n",
            "finished 179 of 200\n",
            "finished 180 of 200\n",
            "finished 181 of 200\n",
            "finished 182 of 200\n",
            "finished 183 of 200\n",
            "finished 184 of 200\n",
            "finished 185 of 200\n",
            "finished 186 of 200\n",
            "finished 187 of 200\n",
            "finished 188 of 200\n",
            "finished 189 of 200\n",
            "finished 190 of 200\n",
            "finished 191 of 200\n",
            "finished 192 of 200\n",
            "finished 193 of 200\n",
            "finished 194 of 200\n",
            "finished 195 of 200\n",
            "finished 196 of 200\n",
            "finished 197 of 200\n",
            "finished 198 of 200\n",
            "finished 199 of 200\n",
            "finished 200 of 200\n"
          ]
        }
      ],
      "source": [
        "from nilearn.input_data import NiftiLabelsMasker\n",
        "from nilearn.connectome import ConnectivityMeasure\n",
        "\n",
        "# make list of filenames\n",
        "fmri_filenames = abide.func_preproc\n",
        "\n",
        "# load atlas\n",
        "multiscale = datasets.fetch_atlas_basc_multiscale_2015()\n",
        "atlas_filename = multiscale.scale064\n",
        "\n",
        "# initialize masker object\n",
        "masker = NiftiLabelsMasker(labels_img=atlas_filename,\n",
        "                           standardize=True,\n",
        "                           memory='nilearn_cache',\n",
        "                           verbose=0)\n",
        "\n",
        "# initialize correlation measure\n",
        "correlation_measure = ConnectivityMeasure(kind='correlation', vectorize=True,\n",
        "                                         discard_diagonal=True)\n",
        "\n",
        "all_features = [] # here is where we will put the data (a container)\n",
        "\n",
        "for i,sub in enumerate(fmri_filenames):\n",
        "    # extract the timeseries from the ROIs in the atlas\n",
        "    time_series = masker.fit_transform(sub)\n",
        "    # create a region x region correlation matrix\n",
        "    correlation_matrix = correlation_measure.fit_transform([time_series])[0]\n",
        "    # add to our container\n",
        "    all_features.append(correlation_matrix)\n",
        "    # keep track of status\n",
        "    print('finished %s of %s'%(i+1,len(fmri_filenames)))"
      ]
    },
    {
      "cell_type": "markdown",
      "metadata": {
        "id": "t8QJdkq9UA8u"
      },
      "source": [
        "Let us save this data to our data directory."
      ]
    },
    {
      "cell_type": "code",
      "execution_count": null,
      "metadata": {
        "id": "zbppUYWEUA8u"
      },
      "outputs": [],
      "source": [
        "import numpy as np\n",
        "\n",
        "np.savez_compressed('/mnt/ABIDE_BASC064_features', a = all_features)"
      ]
    },
    {
      "cell_type": "markdown",
      "metadata": {
        "id": "T3u0_3XoUA8u"
      },
      "source": [
        "We can load them again like this:"
      ]
    },
    {
      "cell_type": "code",
      "execution_count": null,
      "metadata": {
        "colab": {
          "base_uri": "https://localhost:8080/"
        },
        "id": "wrlEgfveUA8v",
        "outputId": "9d87202e-4f27-446b-97d6-cdc2c9e627a6"
      },
      "outputs": [
        {
          "data": {
            "text/plain": [
              "(200, 2016)"
            ]
          },
          "execution_count": 18,
          "metadata": {},
          "output_type": "execute_result"
        }
      ],
      "source": [
        "feat_file = '/mnt/ABIDE_BASC064_features.npz'\n",
        "X_features = np.load(feat_file)['a']\n",
        "\n",
        "X_features.shape"
      ]
    },
    {
      "cell_type": "code",
      "execution_count": null,
      "metadata": {
        "colab": {
          "base_uri": "https://localhost:8080/"
        },
        "id": "GziDejUZUA8v",
        "outputId": "c9c1c9b0-7c48-43be-ebda-fbe58aff8ee1"
      },
      "outputs": [
        {
          "name": "stdout",
          "output_type": "stream",
          "text": [
            "(2016,)\n"
          ]
        }
      ],
      "source": [
        "print(X_features[0].shape)"
      ]
    },
    {
      "cell_type": "markdown",
      "metadata": {
        "id": "Oq7--alVUA8v"
      },
      "source": [
        "## Get target variable Y\n",
        "\n",
        "Accompanying the data set is a csv file containing the phenotypic data. According to the Phenotypic Data Legend which can be downloaded [here](http://fcon_1000.projects.nitrc.org/indi/abide/abide_I.html), the column DX_GROUP has the information about the diagnostic group each participant is in. It is coded as:\n",
        "\n",
        "- 1 = Autism\n",
        "- 2 = Control\n",
        "\n",
        "Let's import the csv."
      ]
    },
    {
      "cell_type": "code",
      "execution_count": null,
      "metadata": {
        "id": "QCl5RHkFUA8v"
      },
      "outputs": [],
      "source": [
        "import pandas as pd\n",
        "phenotypic = pd.read_csv(\"/kaggle/working/D/ABIDE_pcp/Phenotypic_V1_0b_preprocessed1.csv\")"
      ]
    },
    {
      "cell_type": "code",
      "execution_count": null,
      "metadata": {
        "colab": {
          "base_uri": "https://localhost:8080/",
          "height": 495
        },
        "id": "6YxfQdgpjfW4",
        "outputId": "be39ba82-d577-4e10-e068-e7eaf333962d"
      },
      "outputs": [
        {
          "data": {
            "application/vnd.google.colaboratory.intrinsic+json": {
              "type": "dataframe",
              "variable_name": "phenotypic"
            },
            "text/html": [
              "\n",
              "  <div id=\"df-234d1898-87fb-4d80-ad55-812b68ec3008\" class=\"colab-df-container\">\n",
              "    <div>\n",
              "<style scoped>\n",
              "    .dataframe tbody tr th:only-of-type {\n",
              "        vertical-align: middle;\n",
              "    }\n",
              "\n",
              "    .dataframe tbody tr th {\n",
              "        vertical-align: top;\n",
              "    }\n",
              "\n",
              "    .dataframe thead th {\n",
              "        text-align: right;\n",
              "    }\n",
              "</style>\n",
              "<table border=\"1\" class=\"dataframe\">\n",
              "  <thead>\n",
              "    <tr style=\"text-align: right;\">\n",
              "      <th></th>\n",
              "      <th>Unnamed: 0.1</th>\n",
              "      <th>Unnamed: 0</th>\n",
              "      <th>SUB_ID</th>\n",
              "      <th>X</th>\n",
              "      <th>subject</th>\n",
              "      <th>SITE_ID</th>\n",
              "      <th>FILE_ID</th>\n",
              "      <th>DX_GROUP</th>\n",
              "      <th>DSM_IV_TR</th>\n",
              "      <th>AGE_AT_SCAN</th>\n",
              "      <th>...</th>\n",
              "      <th>qc_notes_rater_1</th>\n",
              "      <th>qc_anat_rater_2</th>\n",
              "      <th>qc_anat_notes_rater_2</th>\n",
              "      <th>qc_func_rater_2</th>\n",
              "      <th>qc_func_notes_rater_2</th>\n",
              "      <th>qc_anat_rater_3</th>\n",
              "      <th>qc_anat_notes_rater_3</th>\n",
              "      <th>qc_func_rater_3</th>\n",
              "      <th>qc_func_notes_rater_3</th>\n",
              "      <th>SUB_IN_SMP</th>\n",
              "    </tr>\n",
              "  </thead>\n",
              "  <tbody>\n",
              "    <tr>\n",
              "      <th>0</th>\n",
              "      <td>0</td>\n",
              "      <td>1</td>\n",
              "      <td>50002</td>\n",
              "      <td>1</td>\n",
              "      <td>50002</td>\n",
              "      <td>PITT</td>\n",
              "      <td>no_filename</td>\n",
              "      <td>1</td>\n",
              "      <td>1</td>\n",
              "      <td>16.77</td>\n",
              "      <td>...</td>\n",
              "      <td>NaN</td>\n",
              "      <td>OK</td>\n",
              "      <td>NaN</td>\n",
              "      <td>fail</td>\n",
              "      <td>ic-parietal-cerebellum</td>\n",
              "      <td>OK</td>\n",
              "      <td>NaN</td>\n",
              "      <td>fail</td>\n",
              "      <td>ERROR #24</td>\n",
              "      <td>1</td>\n",
              "    </tr>\n",
              "    <tr>\n",
              "      <th>1</th>\n",
              "      <td>1</td>\n",
              "      <td>2</td>\n",
              "      <td>50003</td>\n",
              "      <td>2</td>\n",
              "      <td>50003</td>\n",
              "      <td>PITT</td>\n",
              "      <td>Pitt_0050003</td>\n",
              "      <td>1</td>\n",
              "      <td>1</td>\n",
              "      <td>24.45</td>\n",
              "      <td>...</td>\n",
              "      <td>NaN</td>\n",
              "      <td>OK</td>\n",
              "      <td>NaN</td>\n",
              "      <td>OK</td>\n",
              "      <td>NaN</td>\n",
              "      <td>OK</td>\n",
              "      <td>NaN</td>\n",
              "      <td>OK</td>\n",
              "      <td>NaN</td>\n",
              "      <td>1</td>\n",
              "    </tr>\n",
              "    <tr>\n",
              "      <th>2</th>\n",
              "      <td>2</td>\n",
              "      <td>3</td>\n",
              "      <td>50004</td>\n",
              "      <td>3</td>\n",
              "      <td>50004</td>\n",
              "      <td>PITT</td>\n",
              "      <td>Pitt_0050004</td>\n",
              "      <td>1</td>\n",
              "      <td>1</td>\n",
              "      <td>19.09</td>\n",
              "      <td>...</td>\n",
              "      <td>NaN</td>\n",
              "      <td>OK</td>\n",
              "      <td>NaN</td>\n",
              "      <td>OK</td>\n",
              "      <td>NaN</td>\n",
              "      <td>OK</td>\n",
              "      <td>NaN</td>\n",
              "      <td>OK</td>\n",
              "      <td>NaN</td>\n",
              "      <td>1</td>\n",
              "    </tr>\n",
              "    <tr>\n",
              "      <th>3</th>\n",
              "      <td>3</td>\n",
              "      <td>4</td>\n",
              "      <td>50005</td>\n",
              "      <td>4</td>\n",
              "      <td>50005</td>\n",
              "      <td>PITT</td>\n",
              "      <td>Pitt_0050005</td>\n",
              "      <td>1</td>\n",
              "      <td>1</td>\n",
              "      <td>13.73</td>\n",
              "      <td>...</td>\n",
              "      <td>NaN</td>\n",
              "      <td>OK</td>\n",
              "      <td>NaN</td>\n",
              "      <td>maybe</td>\n",
              "      <td>ic-parietal-cerebellum</td>\n",
              "      <td>OK</td>\n",
              "      <td>NaN</td>\n",
              "      <td>OK</td>\n",
              "      <td>NaN</td>\n",
              "      <td>0</td>\n",
              "    </tr>\n",
              "    <tr>\n",
              "      <th>4</th>\n",
              "      <td>4</td>\n",
              "      <td>5</td>\n",
              "      <td>50006</td>\n",
              "      <td>5</td>\n",
              "      <td>50006</td>\n",
              "      <td>PITT</td>\n",
              "      <td>Pitt_0050006</td>\n",
              "      <td>1</td>\n",
              "      <td>1</td>\n",
              "      <td>13.37</td>\n",
              "      <td>...</td>\n",
              "      <td>NaN</td>\n",
              "      <td>OK</td>\n",
              "      <td>NaN</td>\n",
              "      <td>maybe</td>\n",
              "      <td>ic-parietal slight</td>\n",
              "      <td>OK</td>\n",
              "      <td>NaN</td>\n",
              "      <td>OK</td>\n",
              "      <td>NaN</td>\n",
              "      <td>1</td>\n",
              "    </tr>\n",
              "    <tr>\n",
              "      <th>...</th>\n",
              "      <td>...</td>\n",
              "      <td>...</td>\n",
              "      <td>...</td>\n",
              "      <td>...</td>\n",
              "      <td>...</td>\n",
              "      <td>...</td>\n",
              "      <td>...</td>\n",
              "      <td>...</td>\n",
              "      <td>...</td>\n",
              "      <td>...</td>\n",
              "      <td>...</td>\n",
              "      <td>...</td>\n",
              "      <td>...</td>\n",
              "      <td>...</td>\n",
              "      <td>...</td>\n",
              "      <td>...</td>\n",
              "      <td>...</td>\n",
              "      <td>...</td>\n",
              "      <td>...</td>\n",
              "      <td>...</td>\n",
              "      <td>...</td>\n",
              "    </tr>\n",
              "    <tr>\n",
              "      <th>1107</th>\n",
              "      <td>1107</td>\n",
              "      <td>1108</td>\n",
              "      <td>51583</td>\n",
              "      <td>1108</td>\n",
              "      <td>51583</td>\n",
              "      <td>SBL</td>\n",
              "      <td>SBL_0051583</td>\n",
              "      <td>1</td>\n",
              "      <td>2</td>\n",
              "      <td>35.00</td>\n",
              "      <td>...</td>\n",
              "      <td>NaN</td>\n",
              "      <td>OK</td>\n",
              "      <td>NaN</td>\n",
              "      <td>OK</td>\n",
              "      <td>ic-cerebellum-temporal_lobe</td>\n",
              "      <td>OK</td>\n",
              "      <td>NaN</td>\n",
              "      <td>OK</td>\n",
              "      <td>NaN</td>\n",
              "      <td>0</td>\n",
              "    </tr>\n",
              "    <tr>\n",
              "      <th>1108</th>\n",
              "      <td>1108</td>\n",
              "      <td>1109</td>\n",
              "      <td>51584</td>\n",
              "      <td>1109</td>\n",
              "      <td>51584</td>\n",
              "      <td>SBL</td>\n",
              "      <td>SBL_0051584</td>\n",
              "      <td>1</td>\n",
              "      <td>2</td>\n",
              "      <td>49.00</td>\n",
              "      <td>...</td>\n",
              "      <td>NaN</td>\n",
              "      <td>OK</td>\n",
              "      <td>NaN</td>\n",
              "      <td>maybe</td>\n",
              "      <td>vmpfc dropout</td>\n",
              "      <td>OK</td>\n",
              "      <td>NaN</td>\n",
              "      <td>OK</td>\n",
              "      <td>NaN</td>\n",
              "      <td>0</td>\n",
              "    </tr>\n",
              "    <tr>\n",
              "      <th>1109</th>\n",
              "      <td>1109</td>\n",
              "      <td>1110</td>\n",
              "      <td>51585</td>\n",
              "      <td>1110</td>\n",
              "      <td>51585</td>\n",
              "      <td>SBL</td>\n",
              "      <td>SBL_0051585</td>\n",
              "      <td>1</td>\n",
              "      <td>1</td>\n",
              "      <td>27.00</td>\n",
              "      <td>...</td>\n",
              "      <td>NaN</td>\n",
              "      <td>OK</td>\n",
              "      <td>NaN</td>\n",
              "      <td>maybe</td>\n",
              "      <td>ic-cerebellum-temporal_lobe</td>\n",
              "      <td>OK</td>\n",
              "      <td>NaN</td>\n",
              "      <td>OK</td>\n",
              "      <td>NaN</td>\n",
              "      <td>0</td>\n",
              "    </tr>\n",
              "    <tr>\n",
              "      <th>1110</th>\n",
              "      <td>1110</td>\n",
              "      <td>1111</td>\n",
              "      <td>51606</td>\n",
              "      <td>1111</td>\n",
              "      <td>51606</td>\n",
              "      <td>MAX_MUN</td>\n",
              "      <td>MaxMun_a_0051606</td>\n",
              "      <td>1</td>\n",
              "      <td>2</td>\n",
              "      <td>29.00</td>\n",
              "      <td>...</td>\n",
              "      <td>NaN</td>\n",
              "      <td>OK</td>\n",
              "      <td>NaN</td>\n",
              "      <td>maybe</td>\n",
              "      <td>ic-cerebellum</td>\n",
              "      <td>OK</td>\n",
              "      <td>NaN</td>\n",
              "      <td>OK</td>\n",
              "      <td>NaN</td>\n",
              "      <td>0</td>\n",
              "    </tr>\n",
              "    <tr>\n",
              "      <th>1111</th>\n",
              "      <td>1111</td>\n",
              "      <td>1112</td>\n",
              "      <td>51607</td>\n",
              "      <td>1112</td>\n",
              "      <td>51607</td>\n",
              "      <td>MAX_MUN</td>\n",
              "      <td>MaxMun_a_0051607</td>\n",
              "      <td>1</td>\n",
              "      <td>2</td>\n",
              "      <td>26.00</td>\n",
              "      <td>...</td>\n",
              "      <td>NaN</td>\n",
              "      <td>OK</td>\n",
              "      <td>NaN</td>\n",
              "      <td>maybe</td>\n",
              "      <td>ic-cerebellum</td>\n",
              "      <td>OK</td>\n",
              "      <td>NaN</td>\n",
              "      <td>OK</td>\n",
              "      <td>NaN</td>\n",
              "      <td>1</td>\n",
              "    </tr>\n",
              "  </tbody>\n",
              "</table>\n",
              "<p>1112 rows × 106 columns</p>\n",
              "</div>\n",
              "    <div class=\"colab-df-buttons\">\n",
              "\n",
              "  <div class=\"colab-df-container\">\n",
              "    <button class=\"colab-df-convert\" onclick=\"convertToInteractive('df-234d1898-87fb-4d80-ad55-812b68ec3008')\"\n",
              "            title=\"Convert this dataframe to an interactive table.\"\n",
              "            style=\"display:none;\">\n",
              "\n",
              "  <svg xmlns=\"http://www.w3.org/2000/svg\" height=\"24px\" viewBox=\"0 -960 960 960\">\n",
              "    <path d=\"M120-120v-720h720v720H120Zm60-500h600v-160H180v160Zm220 220h160v-160H400v160Zm0 220h160v-160H400v160ZM180-400h160v-160H180v160Zm440 0h160v-160H620v160ZM180-180h160v-160H180v160Zm440 0h160v-160H620v160Z\"/>\n",
              "  </svg>\n",
              "    </button>\n",
              "\n",
              "  <style>\n",
              "    .colab-df-container {\n",
              "      display:flex;\n",
              "      gap: 12px;\n",
              "    }\n",
              "\n",
              "    .colab-df-convert {\n",
              "      background-color: #E8F0FE;\n",
              "      border: none;\n",
              "      border-radius: 50%;\n",
              "      cursor: pointer;\n",
              "      display: none;\n",
              "      fill: #1967D2;\n",
              "      height: 32px;\n",
              "      padding: 0 0 0 0;\n",
              "      width: 32px;\n",
              "    }\n",
              "\n",
              "    .colab-df-convert:hover {\n",
              "      background-color: #E2EBFA;\n",
              "      box-shadow: 0px 1px 2px rgba(60, 64, 67, 0.3), 0px 1px 3px 1px rgba(60, 64, 67, 0.15);\n",
              "      fill: #174EA6;\n",
              "    }\n",
              "\n",
              "    .colab-df-buttons div {\n",
              "      margin-bottom: 4px;\n",
              "    }\n",
              "\n",
              "    [theme=dark] .colab-df-convert {\n",
              "      background-color: #3B4455;\n",
              "      fill: #D2E3FC;\n",
              "    }\n",
              "\n",
              "    [theme=dark] .colab-df-convert:hover {\n",
              "      background-color: #434B5C;\n",
              "      box-shadow: 0px 1px 3px 1px rgba(0, 0, 0, 0.15);\n",
              "      filter: drop-shadow(0px 1px 2px rgba(0, 0, 0, 0.3));\n",
              "      fill: #FFFFFF;\n",
              "    }\n",
              "  </style>\n",
              "\n",
              "    <script>\n",
              "      const buttonEl =\n",
              "        document.querySelector('#df-234d1898-87fb-4d80-ad55-812b68ec3008 button.colab-df-convert');\n",
              "      buttonEl.style.display =\n",
              "        google.colab.kernel.accessAllowed ? 'block' : 'none';\n",
              "\n",
              "      async function convertToInteractive(key) {\n",
              "        const element = document.querySelector('#df-234d1898-87fb-4d80-ad55-812b68ec3008');\n",
              "        const dataTable =\n",
              "          await google.colab.kernel.invokeFunction('convertToInteractive',\n",
              "                                                    [key], {});\n",
              "        if (!dataTable) return;\n",
              "\n",
              "        const docLinkHtml = 'Like what you see? Visit the ' +\n",
              "          '<a target=\"_blank\" href=https://colab.research.google.com/notebooks/data_table.ipynb>data table notebook</a>'\n",
              "          + ' to learn more about interactive tables.';\n",
              "        element.innerHTML = '';\n",
              "        dataTable['output_type'] = 'display_data';\n",
              "        await google.colab.output.renderOutput(dataTable, element);\n",
              "        const docLink = document.createElement('div');\n",
              "        docLink.innerHTML = docLinkHtml;\n",
              "        element.appendChild(docLink);\n",
              "      }\n",
              "    </script>\n",
              "  </div>\n",
              "\n",
              "\n",
              "<div id=\"df-fb4da267-8c7b-4e4b-ba24-eea86f3f7887\">\n",
              "  <button class=\"colab-df-quickchart\" onclick=\"quickchart('df-fb4da267-8c7b-4e4b-ba24-eea86f3f7887')\"\n",
              "            title=\"Suggest charts\"\n",
              "            style=\"display:none;\">\n",
              "\n",
              "<svg xmlns=\"http://www.w3.org/2000/svg\" height=\"24px\"viewBox=\"0 0 24 24\"\n",
              "     width=\"24px\">\n",
              "    <g>\n",
              "        <path d=\"M19 3H5c-1.1 0-2 .9-2 2v14c0 1.1.9 2 2 2h14c1.1 0 2-.9 2-2V5c0-1.1-.9-2-2-2zM9 17H7v-7h2v7zm4 0h-2V7h2v10zm4 0h-2v-4h2v4z\"/>\n",
              "    </g>\n",
              "</svg>\n",
              "  </button>\n",
              "\n",
              "<style>\n",
              "  .colab-df-quickchart {\n",
              "      --bg-color: #E8F0FE;\n",
              "      --fill-color: #1967D2;\n",
              "      --hover-bg-color: #E2EBFA;\n",
              "      --hover-fill-color: #174EA6;\n",
              "      --disabled-fill-color: #AAA;\n",
              "      --disabled-bg-color: #DDD;\n",
              "  }\n",
              "\n",
              "  [theme=dark] .colab-df-quickchart {\n",
              "      --bg-color: #3B4455;\n",
              "      --fill-color: #D2E3FC;\n",
              "      --hover-bg-color: #434B5C;\n",
              "      --hover-fill-color: #FFFFFF;\n",
              "      --disabled-bg-color: #3B4455;\n",
              "      --disabled-fill-color: #666;\n",
              "  }\n",
              "\n",
              "  .colab-df-quickchart {\n",
              "    background-color: var(--bg-color);\n",
              "    border: none;\n",
              "    border-radius: 50%;\n",
              "    cursor: pointer;\n",
              "    display: none;\n",
              "    fill: var(--fill-color);\n",
              "    height: 32px;\n",
              "    padding: 0;\n",
              "    width: 32px;\n",
              "  }\n",
              "\n",
              "  .colab-df-quickchart:hover {\n",
              "    background-color: var(--hover-bg-color);\n",
              "    box-shadow: 0 1px 2px rgba(60, 64, 67, 0.3), 0 1px 3px 1px rgba(60, 64, 67, 0.15);\n",
              "    fill: var(--button-hover-fill-color);\n",
              "  }\n",
              "\n",
              "  .colab-df-quickchart-complete:disabled,\n",
              "  .colab-df-quickchart-complete:disabled:hover {\n",
              "    background-color: var(--disabled-bg-color);\n",
              "    fill: var(--disabled-fill-color);\n",
              "    box-shadow: none;\n",
              "  }\n",
              "\n",
              "  .colab-df-spinner {\n",
              "    border: 2px solid var(--fill-color);\n",
              "    border-color: transparent;\n",
              "    border-bottom-color: var(--fill-color);\n",
              "    animation:\n",
              "      spin 1s steps(1) infinite;\n",
              "  }\n",
              "\n",
              "  @keyframes spin {\n",
              "    0% {\n",
              "      border-color: transparent;\n",
              "      border-bottom-color: var(--fill-color);\n",
              "      border-left-color: var(--fill-color);\n",
              "    }\n",
              "    20% {\n",
              "      border-color: transparent;\n",
              "      border-left-color: var(--fill-color);\n",
              "      border-top-color: var(--fill-color);\n",
              "    }\n",
              "    30% {\n",
              "      border-color: transparent;\n",
              "      border-left-color: var(--fill-color);\n",
              "      border-top-color: var(--fill-color);\n",
              "      border-right-color: var(--fill-color);\n",
              "    }\n",
              "    40% {\n",
              "      border-color: transparent;\n",
              "      border-right-color: var(--fill-color);\n",
              "      border-top-color: var(--fill-color);\n",
              "    }\n",
              "    60% {\n",
              "      border-color: transparent;\n",
              "      border-right-color: var(--fill-color);\n",
              "    }\n",
              "    80% {\n",
              "      border-color: transparent;\n",
              "      border-right-color: var(--fill-color);\n",
              "      border-bottom-color: var(--fill-color);\n",
              "    }\n",
              "    90% {\n",
              "      border-color: transparent;\n",
              "      border-bottom-color: var(--fill-color);\n",
              "    }\n",
              "  }\n",
              "</style>\n",
              "\n",
              "  <script>\n",
              "    async function quickchart(key) {\n",
              "      const quickchartButtonEl =\n",
              "        document.querySelector('#' + key + ' button');\n",
              "      quickchartButtonEl.disabled = true;  // To prevent multiple clicks.\n",
              "      quickchartButtonEl.classList.add('colab-df-spinner');\n",
              "      try {\n",
              "        const charts = await google.colab.kernel.invokeFunction(\n",
              "            'suggestCharts', [key], {});\n",
              "      } catch (error) {\n",
              "        console.error('Error during call to suggestCharts:', error);\n",
              "      }\n",
              "      quickchartButtonEl.classList.remove('colab-df-spinner');\n",
              "      quickchartButtonEl.classList.add('colab-df-quickchart-complete');\n",
              "    }\n",
              "    (() => {\n",
              "      let quickchartButtonEl =\n",
              "        document.querySelector('#df-fb4da267-8c7b-4e4b-ba24-eea86f3f7887 button');\n",
              "      quickchartButtonEl.style.display =\n",
              "        google.colab.kernel.accessAllowed ? 'block' : 'none';\n",
              "    })();\n",
              "  </script>\n",
              "</div>\n",
              "\n",
              "  <div id=\"id_7577547b-99c3-48aa-b562-bb0474d64088\">\n",
              "    <style>\n",
              "      .colab-df-generate {\n",
              "        background-color: #E8F0FE;\n",
              "        border: none;\n",
              "        border-radius: 50%;\n",
              "        cursor: pointer;\n",
              "        display: none;\n",
              "        fill: #1967D2;\n",
              "        height: 32px;\n",
              "        padding: 0 0 0 0;\n",
              "        width: 32px;\n",
              "      }\n",
              "\n",
              "      .colab-df-generate:hover {\n",
              "        background-color: #E2EBFA;\n",
              "        box-shadow: 0px 1px 2px rgba(60, 64, 67, 0.3), 0px 1px 3px 1px rgba(60, 64, 67, 0.15);\n",
              "        fill: #174EA6;\n",
              "      }\n",
              "\n",
              "      [theme=dark] .colab-df-generate {\n",
              "        background-color: #3B4455;\n",
              "        fill: #D2E3FC;\n",
              "      }\n",
              "\n",
              "      [theme=dark] .colab-df-generate:hover {\n",
              "        background-color: #434B5C;\n",
              "        box-shadow: 0px 1px 3px 1px rgba(0, 0, 0, 0.15);\n",
              "        filter: drop-shadow(0px 1px 2px rgba(0, 0, 0, 0.3));\n",
              "        fill: #FFFFFF;\n",
              "      }\n",
              "    </style>\n",
              "    <button class=\"colab-df-generate\" onclick=\"generateWithVariable('phenotypic')\"\n",
              "            title=\"Generate code using this dataframe.\"\n",
              "            style=\"display:none;\">\n",
              "\n",
              "  <svg xmlns=\"http://www.w3.org/2000/svg\" height=\"24px\"viewBox=\"0 0 24 24\"\n",
              "       width=\"24px\">\n",
              "    <path d=\"M7,19H8.4L18.45,9,17,7.55,7,17.6ZM5,21V16.75L18.45,3.32a2,2,0,0,1,2.83,0l1.4,1.43a1.91,1.91,0,0,1,.58,1.4,1.91,1.91,0,0,1-.58,1.4L9.25,21ZM18.45,9,17,7.55Zm-12,3A5.31,5.31,0,0,0,4.9,8.1,5.31,5.31,0,0,0,1,6.5,5.31,5.31,0,0,0,4.9,4.9,5.31,5.31,0,0,0,6.5,1,5.31,5.31,0,0,0,8.1,4.9,5.31,5.31,0,0,0,12,6.5,5.46,5.46,0,0,0,6.5,12Z\"/>\n",
              "  </svg>\n",
              "    </button>\n",
              "    <script>\n",
              "      (() => {\n",
              "      const buttonEl =\n",
              "        document.querySelector('#id_7577547b-99c3-48aa-b562-bb0474d64088 button.colab-df-generate');\n",
              "      buttonEl.style.display =\n",
              "        google.colab.kernel.accessAllowed ? 'block' : 'none';\n",
              "\n",
              "      buttonEl.onclick = () => {\n",
              "        google.colab.notebook.generateWithVariable('phenotypic');\n",
              "      }\n",
              "      })();\n",
              "    </script>\n",
              "  </div>\n",
              "\n",
              "    </div>\n",
              "  </div>\n"
            ],
            "text/plain": [
              "      Unnamed: 0.1  Unnamed: 0  SUB_ID     X  subject  SITE_ID  \\\n",
              "0                0           1   50002     1    50002     PITT   \n",
              "1                1           2   50003     2    50003     PITT   \n",
              "2                2           3   50004     3    50004     PITT   \n",
              "3                3           4   50005     4    50005     PITT   \n",
              "4                4           5   50006     5    50006     PITT   \n",
              "...            ...         ...     ...   ...      ...      ...   \n",
              "1107          1107        1108   51583  1108    51583      SBL   \n",
              "1108          1108        1109   51584  1109    51584      SBL   \n",
              "1109          1109        1110   51585  1110    51585      SBL   \n",
              "1110          1110        1111   51606  1111    51606  MAX_MUN   \n",
              "1111          1111        1112   51607  1112    51607  MAX_MUN   \n",
              "\n",
              "               FILE_ID  DX_GROUP  DSM_IV_TR  AGE_AT_SCAN  ...  \\\n",
              "0          no_filename         1          1        16.77  ...   \n",
              "1         Pitt_0050003         1          1        24.45  ...   \n",
              "2         Pitt_0050004         1          1        19.09  ...   \n",
              "3         Pitt_0050005         1          1        13.73  ...   \n",
              "4         Pitt_0050006         1          1        13.37  ...   \n",
              "...                ...       ...        ...          ...  ...   \n",
              "1107       SBL_0051583         1          2        35.00  ...   \n",
              "1108       SBL_0051584         1          2        49.00  ...   \n",
              "1109       SBL_0051585         1          1        27.00  ...   \n",
              "1110  MaxMun_a_0051606         1          2        29.00  ...   \n",
              "1111  MaxMun_a_0051607         1          2        26.00  ...   \n",
              "\n",
              "      qc_notes_rater_1 qc_anat_rater_2  qc_anat_notes_rater_2  \\\n",
              "0                  NaN              OK                    NaN   \n",
              "1                  NaN              OK                    NaN   \n",
              "2                  NaN              OK                    NaN   \n",
              "3                  NaN              OK                    NaN   \n",
              "4                  NaN              OK                    NaN   \n",
              "...                ...             ...                    ...   \n",
              "1107               NaN              OK                    NaN   \n",
              "1108               NaN              OK                    NaN   \n",
              "1109               NaN              OK                    NaN   \n",
              "1110               NaN              OK                    NaN   \n",
              "1111               NaN              OK                    NaN   \n",
              "\n",
              "      qc_func_rater_2        qc_func_notes_rater_2  qc_anat_rater_3  \\\n",
              "0                fail       ic-parietal-cerebellum               OK   \n",
              "1                  OK                          NaN               OK   \n",
              "2                  OK                          NaN               OK   \n",
              "3               maybe       ic-parietal-cerebellum               OK   \n",
              "4               maybe           ic-parietal slight               OK   \n",
              "...               ...                          ...              ...   \n",
              "1107               OK  ic-cerebellum-temporal_lobe               OK   \n",
              "1108            maybe                vmpfc dropout               OK   \n",
              "1109            maybe  ic-cerebellum-temporal_lobe               OK   \n",
              "1110            maybe                ic-cerebellum               OK   \n",
              "1111            maybe                ic-cerebellum               OK   \n",
              "\n",
              "     qc_anat_notes_rater_3 qc_func_rater_3 qc_func_notes_rater_3  SUB_IN_SMP  \n",
              "0                      NaN            fail             ERROR #24           1  \n",
              "1                      NaN              OK                   NaN           1  \n",
              "2                      NaN              OK                   NaN           1  \n",
              "3                      NaN              OK                   NaN           0  \n",
              "4                      NaN              OK                   NaN           1  \n",
              "...                    ...             ...                   ...         ...  \n",
              "1107                   NaN              OK                   NaN           0  \n",
              "1108                   NaN              OK                   NaN           0  \n",
              "1109                   NaN              OK                   NaN           0  \n",
              "1110                   NaN              OK                   NaN           0  \n",
              "1111                   NaN              OK                   NaN           1  \n",
              "\n",
              "[1112 rows x 106 columns]"
            ]
          },
          "execution_count": 21,
          "metadata": {},
          "output_type": "execute_result"
        }
      ],
      "source": [
        "phenotypic"
      ]
    },
    {
      "cell_type": "code",
      "execution_count": null,
      "metadata": {
        "id": "jm3tse1iCXJR"
      },
      "outputs": [],
      "source": []
    },
    {
      "cell_type": "code",
      "execution_count": null,
      "metadata": {
        "id": "7gfeEJ8ejqID"
      },
      "outputs": [],
      "source": []
    },
    {
      "cell_type": "markdown",
      "metadata": {
        "id": "FQ0tBj8wUA8v"
      },
      "source": [
        "We'll use the file names to get the right values from the DX_GROUP column."
      ]
    },
    {
      "cell_type": "code",
      "execution_count": null,
      "metadata": {
        "id": "zxyA9J7_UA8v"
      },
      "outputs": [],
      "source": [
        "file_ids = []\n",
        "# get the file IDs from the file names\n",
        "for f in fmri_filenames:\n",
        "    file_ids.append(f[-27:-20])\n",
        "\n",
        "y_asd = []\n",
        "for i in range(len(phenotypic)):\n",
        "    for j in range(len(file_ids)):\n",
        "        if file_ids[j] in phenotypic.FILE_ID[i]:\n",
        "            y_asd.append(phenotypic.DX_GROUP[i]-1)\n"
      ]
    },
    {
      "cell_type": "code",
      "execution_count": null,
      "metadata": {
        "colab": {
          "base_uri": "https://localhost:8080/"
        },
        "id": "pQM3Yv91UA8v",
        "outputId": "8374b7a3-09d5-4933-c4a1-1f7093f72400"
      },
      "outputs": [
        {
          "data": {
            "text/plain": [
              "[0,\n",
              " 0,\n",
              " 0,\n",
              " 0,\n",
              " 0,\n",
              " 0,\n",
              " 0,\n",
              " 0,\n",
              " 0,\n",
              " 0,\n",
              " 0,\n",
              " 0,\n",
              " 0,\n",
              " 0,\n",
              " 0,\n",
              " 0,\n",
              " 0,\n",
              " 0,\n",
              " 0,\n",
              " 0,\n",
              " 0,\n",
              " 1,\n",
              " 1,\n",
              " 1,\n",
              " 1,\n",
              " 1,\n",
              " 1,\n",
              " 1,\n",
              " 1,\n",
              " 1,\n",
              " 1,\n",
              " 1,\n",
              " 1,\n",
              " 1,\n",
              " 1,\n",
              " 1,\n",
              " 1,\n",
              " 1,\n",
              " 1,\n",
              " 1,\n",
              " 1,\n",
              " 1,\n",
              " 1,\n",
              " 1,\n",
              " 0,\n",
              " 1,\n",
              " 0,\n",
              " 0,\n",
              " 1,\n",
              " 1,\n",
              " 1,\n",
              " 1,\n",
              " 1,\n",
              " 1,\n",
              " 1,\n",
              " 1,\n",
              " 1,\n",
              " 1,\n",
              " 1,\n",
              " 1,\n",
              " 1,\n",
              " 1,\n",
              " 1,\n",
              " 1,\n",
              " 0,\n",
              " 0,\n",
              " 0,\n",
              " 0,\n",
              " 0,\n",
              " 0,\n",
              " 0,\n",
              " 0,\n",
              " 0,\n",
              " 0,\n",
              " 0,\n",
              " 0,\n",
              " 0,\n",
              " 0,\n",
              " 0,\n",
              " 0,\n",
              " 0,\n",
              " 0,\n",
              " 0,\n",
              " 0,\n",
              " 0,\n",
              " 0,\n",
              " 0,\n",
              " 0,\n",
              " 0,\n",
              " 0,\n",
              " 1,\n",
              " 1,\n",
              " 1,\n",
              " 1,\n",
              " 1,\n",
              " 1,\n",
              " 1,\n",
              " 1,\n",
              " 1,\n",
              " 1,\n",
              " 1,\n",
              " 1,\n",
              " 1,\n",
              " 0,\n",
              " 0,\n",
              " 0,\n",
              " 0,\n",
              " 0,\n",
              " 0,\n",
              " 0,\n",
              " 0,\n",
              " 1,\n",
              " 1,\n",
              " 1,\n",
              " 1,\n",
              " 1,\n",
              " 1,\n",
              " 1,\n",
              " 1,\n",
              " 1,\n",
              " 1,\n",
              " 1,\n",
              " 1,\n",
              " 1,\n",
              " 1,\n",
              " 1,\n",
              " 1,\n",
              " 1,\n",
              " 1,\n",
              " 1,\n",
              " 0,\n",
              " 0,\n",
              " 0,\n",
              " 0,\n",
              " 0,\n",
              " 0,\n",
              " 0,\n",
              " 0,\n",
              " 0,\n",
              " 0,\n",
              " 0,\n",
              " 0,\n",
              " 0,\n",
              " 0,\n",
              " 0,\n",
              " 0,\n",
              " 0,\n",
              " 0,\n",
              " 0,\n",
              " 1,\n",
              " 1,\n",
              " 1,\n",
              " 1,\n",
              " 1,\n",
              " 1,\n",
              " 1,\n",
              " 1,\n",
              " 1,\n",
              " 1,\n",
              " 1,\n",
              " 1,\n",
              " 1,\n",
              " 1,\n",
              " 0,\n",
              " 0,\n",
              " 0,\n",
              " 0,\n",
              " 0,\n",
              " 0,\n",
              " 0,\n",
              " 0,\n",
              " 0,\n",
              " 0,\n",
              " 0,\n",
              " 0,\n",
              " 0,\n",
              " 0,\n",
              " 0,\n",
              " 0,\n",
              " 0,\n",
              " 0,\n",
              " 0,\n",
              " 0,\n",
              " 0,\n",
              " 0,\n",
              " 0,\n",
              " 0,\n",
              " 0,\n",
              " 0,\n",
              " 0,\n",
              " 0,\n",
              " 0,\n",
              " 0,\n",
              " 0,\n",
              " 0,\n",
              " 0,\n",
              " 0,\n",
              " 1,\n",
              " 1,\n",
              " 1]"
            ]
          },
          "execution_count": 23,
          "metadata": {},
          "output_type": "execute_result"
        }
      ],
      "source": [
        "y_asd"
      ]
    },
    {
      "cell_type": "code",
      "execution_count": null,
      "metadata": {
        "colab": {
          "base_uri": "https://localhost:8080/"
        },
        "id": "JWnj-R0MGImy",
        "outputId": "a031abf6-e41f-48ef-ad11-07951bced5ca"
      },
      "outputs": [
        {
          "name": "stdout",
          "output_type": "stream",
          "text": [
            "0    111\n",
            "1     89\n",
            "Name: count, dtype: int64\n"
          ]
        }
      ],
      "source": [
        "\n",
        "import pandas as pd\n",
        "\n",
        "# Convert the list to a Pandas Series\n",
        "y_asd_series = pd.Series(y_asd)\n",
        "\n",
        "# Use the unique_counts() method\n",
        "unique_counts = y_asd_series.value_counts()\n",
        "\n",
        "# Print the unique counts\n",
        "print(unique_counts)"
      ]
    },
    {
      "cell_type": "markdown",
      "metadata": {
        "id": "_2-j2E7CUA8v"
      },
      "source": [
        "## Prepare the data for machine learning\n",
        "\n",
        "For our test run we will divide our data set into a training and a test set."
      ]
    },
    {
      "cell_type": "code",
      "execution_count": null,
      "metadata": {
        "id": "w8PRI-QAUA8v"
      },
      "outputs": [],
      "source": [
        "from sklearn.model_selection import train_test_split\n",
        "\n",
        "X_train, X_val, y_train, y_val = train_test_split(X_features, # x\n",
        "                                                  y_asd, # y\n",
        "                                                  test_size = 0.3, # 80%/20% split\n",
        "                                                  shuffle = True, # shuffle dataset before splitting\n",
        "                                                  stratify = y_asd,  # keep distribution of ASD consistent between sets\n",
        "                                                  random_state = 123 # same split each time\n",
        "                                                 )\n"
      ]
    },
    {
      "cell_type": "code",
      "execution_count": null,
      "metadata": {
        "colab": {
          "base_uri": "https://localhost:8080/"
        },
        "id": "bNU-JBvTUA8v",
        "outputId": "56929333-0276-4e6e-fde1-23259e2a9fe8"
      },
      "outputs": [
        {
          "data": {
            "text/plain": [
              "(140, 2016)"
            ]
          },
          "execution_count": 26,
          "metadata": {},
          "output_type": "execute_result"
        }
      ],
      "source": [
        "X_train.shape"
      ]
    },
    {
      "cell_type": "code",
      "execution_count": null,
      "metadata": {
        "id": "-poVZ-NghkON"
      },
      "outputs": [],
      "source": [
        "from sklearn.preprocessing import StandardScaler\n"
      ]
    },
    {
      "cell_type": "code",
      "execution_count": null,
      "metadata": {
        "id": "i1560cQJGeIW"
      },
      "outputs": [],
      "source": [
        "# Split the dataset into training and testing sets\n",
        "X_train, X_test, y_train, y_test = train_test_split(X_features, y_asd, test_size=0.3, random_state=42)\n",
        "\n",
        "# Normalize the data\n",
        "scaler = StandardScaler()\n",
        "X_train = scaler.fit_transform(X_train.reshape(len(X_train), -1)).reshape(X_train.shape)\n",
        "X_test = scaler.transform(X_test.reshape(len(X_test), -1)).reshape(X_test.shape)\n"
      ]
    },
    {
      "cell_type": "markdown",
      "metadata": {
        "id": "b_cZLXGHUA8w"
      },
      "source": [
        "We visualize the distributions:"
      ]
    },
    {
      "cell_type": "code",
      "execution_count": null,
      "metadata": {
        "colab": {
          "base_uri": "https://localhost:8080/",
          "height": 447
        },
        "id": "3GNMf3H8UA8w",
        "outputId": "95b11f49-d1e1-4b8d-f83d-55c239bca5ca"
      },
      "outputs": [
        {
          "data": {
            "text/plain": [
              "<Axes: ylabel='count'>"
            ]
          },
          "execution_count": 29,
          "metadata": {},
          "output_type": "execute_result"
        },
        {
          "data": {
            "image/png": "[encoded data removed]",
            "text/plain": [
              "<Figure size 640x480 with 1 Axes>"
            ]
          },
          "metadata": {},
          "output_type": "display_data"
        }
      ],
      "source": [
        "import seaborn as sns\n",
        "import matplotlib.pyplot as plt\n",
        "sns.countplot(x = y_train, label = \"train\")\n",
        "sns.countplot(x = y_val, label = \"test\")"
      ]
    },
    {
      "cell_type": "markdown",
      "metadata": {
        "id": "oPW5qK-BUA8w"
      },
      "source": [
        "## Build Model\n",
        "\n",
        "### Linear SVC\n",
        "\n",
        "The classifier that is going to be used here is going to be a Linear Support Vector Classification (SVC). We will use cross-validation to estimate our accuracy."
      ]
    },
    {
      "cell_type": "code",
      "execution_count": null,
      "metadata": {
        "colab": {
          "base_uri": "https://localhost:8080/"
        },
        "id": "P9XBAqYwUA8w",
        "outputId": "98230dc0-fec0-49ae-f308-8d555f0cc132"
      },
      "outputs": [
        {
          "name": "stdout",
          "output_type": "stream",
          "text": [
            "Accuracy: [0.57142857 0.57142857 0.78571429 0.5        0.71428571 0.71428571\n",
            " 0.71428571 0.71428571 0.71428571 0.85714286]\n",
            "Mean accuracy: 0.6857142857142857\n"
          ]
        }
      ],
      "source": [
        "from sklearn.svm import LinearSVC\n",
        "from sklearn.model_selection import cross_val_predict, cross_val_score\n",
        "\n",
        "l_svc = LinearSVC(max_iter=100000) # more iterations than the default\n",
        "l_svc.fit(X_train, y_train)\n",
        "\n",
        "# predict\n",
        "y_pred_svc = cross_val_predict(l_svc, X_train, y_train, cv=10)\n",
        "# scores\n",
        "acc_svc = cross_val_score(l_svc, X_train, y_train, cv=10)\n",
        "\n",
        "print(\"Accuracy:\", acc_svc)\n",
        "print(\"Mean accuracy:\", acc_svc.mean())"
      ]
    },
    {
      "cell_type": "code",
      "execution_count": null,
      "metadata": {
        "colab": {
          "base_uri": "https://localhost:8080/"
        },
        "id": "iiN4fmBLFo5m",
        "outputId": "b8f50ea6-3544-4412-ed7b-b6eb026ee208"
      },
      "outputs": [
        {
          "name": "stdout",
          "output_type": "stream",
          "text": [
            "ROC AUC Score: 0.6805555555555555\n",
            "Confusion Matrix:\n",
            "[[25 11]\n",
            " [ 8 16]]\n",
            "Precision: 0.5925925925925926\n",
            "Recall: 0.6666666666666666\n",
            "Accuracy: 0.6833333333333333\n",
            "Specificity: 0.6944444444444444\n",
            "Sensitivity: 0.6666666666666666\n"
          ]
        }
      ],
      "source": [
        "from sklearn.svm import LinearSVC\n",
        "from sklearn.metrics import roc_auc_score, confusion_matrix, precision_score, recall_score, accuracy_score\n",
        "y_pred = l_svc.predict(X_test)\n",
        "# Compute ROC AUC score\n",
        "roc_auc = roc_auc_score(y_test, y_pred)\n",
        "print(f\"ROC AUC Score: {roc_auc}\")\n",
        "\n",
        "\n",
        "\n",
        "# Predict classes\n",
        "\n",
        "\n",
        "# Compute confusion matrix\n",
        "conf_matrix = confusion_matrix(y_test, y_pred)\n",
        "print(\"Confusion Matrix:\")\n",
        "print(conf_matrix)\n",
        "\n",
        "# Compute precision, recall, specificity, and sensitivity\n",
        "precision = precision_score(y_test, y_pred)\n",
        "recall = recall_score(y_test, y_pred)\n",
        "accuracy = accuracy_score(y_test, y_pred)\n",
        "specificity = conf_matrix[0, 0] / (conf_matrix[0, 0] + conf_matrix[0, 1])\n",
        "sensitivity = recall\n",
        "print(f\"Precision: {precision}\")\n",
        "print(f\"Recall: {recall}\")\n",
        "print(f\"Accuracy: {accuracy}\")\n",
        "print(f\"Specificity: {specificity}\")\n",
        "print(f\"Sensitivity: {sensitivity}\")"
      ]
    },
    {
      "cell_type": "markdown",
      "metadata": {
        "id": "i18ErX_2UA8w"
      },
      "source": [
        "\n",
        "### Naive Bayes\n",
        "\n",
        "Another classifier that can be used is Gaussian Naive Bayes (GNB). It uses Bayes theorem to update probabilities. It also works with the assumption that every pair of features is conditionally independent, given the class. Gaussian Naive Bayes additionally assumes a gaussian distribution of likelihoods."
      ]
    },
    {
      "cell_type": "code",
      "execution_count": null,
      "metadata": {
        "colab": {
          "base_uri": "https://localhost:8080/"
        },
        "id": "JDUtJN74UA8w",
        "outputId": "b3c8cd85-ffb0-47fd-ead7-798d1a456af7"
      },
      "outputs": [
        {
          "name": "stdout",
          "output_type": "stream",
          "text": [
            "Accuracy: [0.64285714 0.85714286 0.71428571 0.57142857 0.71428571 0.57142857\n",
            " 0.35714286 0.64285714 0.5        0.5       ]\n",
            "Mean accuracy: 0.6071428571428571\n"
          ]
        }
      ],
      "source": [
        "from sklearn.naive_bayes import GaussianNB\n",
        "gnb = GaussianNB()\n",
        "gnb.fit(X_train, y_train, sample_weight=None)\n",
        "\n",
        "# predict\n",
        "y_pred_gnb = cross_val_predict(gnb, X_train, y_train, cv=10)\n",
        "# scores\n",
        "acc_gnb = cross_val_score(gnb, X_train, y_train, cv=10)\n",
        "\n",
        "print(\"Accuracy:\", acc_gnb)\n",
        "print(\"Mean accuracy:\", acc_gnb.mean())"
      ]
    },
    {
      "cell_type": "code",
      "execution_count": null,
      "metadata": {
        "colab": {
          "base_uri": "https://localhost:8080/"
        },
        "id": "ihANTmCdFe_p",
        "outputId": "050910dd-5dc0-4047-8ca1-03045d680c38"
      },
      "outputs": [
        {
          "name": "stdout",
          "output_type": "stream",
          "text": [
            "ROC AUC Score: 0.5694444444444444\n",
            "Confusion Matrix:\n",
            "[[23 13]\n",
            " [12 12]]\n",
            "Precision: 0.48\n",
            "Recall: 0.5\n",
            "Accuracy: 0.5833333333333334\n",
            "Specificity: 0.6388888888888888\n",
            "Sensitivity: 0.5\n"
          ]
        }
      ],
      "source": [
        "y_pred = gnb.predict(X_test)\n",
        "# Compute ROC AUC score\n",
        "roc_auc = roc_auc_score(y_test, y_pred)\n",
        "print(f\"ROC AUC Score: {roc_auc}\")\n",
        "\n",
        "\n",
        "\n",
        "# Predict classes\n",
        "y_pred = gnb.predict(X_test)\n",
        "\n",
        "# Compute confusion matrix\n",
        "conf_matrix = confusion_matrix(y_test, y_pred)\n",
        "print(\"Confusion Matrix:\")\n",
        "print(conf_matrix)\n",
        "\n",
        "# Compute precision, recall, specificity, and sensitivity\n",
        "precision = precision_score(y_test, y_pred)\n",
        "recall = recall_score(y_test, y_pred)\n",
        "accuracy = accuracy_score(y_test, y_pred)\n",
        "specificity = conf_matrix[0, 0] / (conf_matrix[0, 0] + conf_matrix[0, 1])\n",
        "sensitivity = recall\n",
        "print(f\"Precision: {precision}\")\n",
        "print(f\"Recall: {recall}\")\n",
        "print(f\"Accuracy: {accuracy}\")\n",
        "print(f\"Specificity: {specificity}\")\n",
        "print(f\"Sensitivity: {sensitivity}\")"
      ]
    },
    {
      "cell_type": "markdown",
      "metadata": {
        "id": "emIMY-9LUA8w"
      },
      "source": []
    },
    {
      "cell_type": "code",
      "execution_count": null,
      "metadata": {
        "colab": {
          "base_uri": "https://localhost:8080/"
        },
        "id": "_8zNfw9pUA8w",
        "outputId": "ef62b3f3-e767-473b-b643-0d486a372ad2"
      },
      "outputs": [
        {
          "name": "stdout",
          "output_type": "stream",
          "text": [
            "Index(['SUB_ID', 'X', 'subject', 'SITE_ID', 'FILE_ID', 'DX_GROUP', 'DSM_IV_TR',\n",
            "       'AGE_AT_SCAN', 'SEX', 'HANDEDNESS_CATEGORY', 'HANDEDNESS_SCORES', 'FIQ',\n",
            "       'VIQ', 'PIQ', 'FIQ_TEST_TYPE', 'VIQ_TEST_TYPE', 'PIQ_TEST_TYPE',\n",
            "       'ADI_R_SOCIAL_TOTAL_A', 'ADI_R_VERBAL_TOTAL_BV', 'ADI_RRB_TOTAL_C',\n",
            "       'ADI_R_ONSET_TOTAL_D', 'ADI_R_RSRCH_RELIABLE', 'ADOS_MODULE',\n",
            "       'ADOS_TOTAL', 'ADOS_COMM', 'ADOS_SOCIAL', 'ADOS_STEREO_BEHAV',\n",
            "       'ADOS_RSRCH_RELIABLE', 'ADOS_GOTHAM_SOCAFFECT', 'ADOS_GOTHAM_RRB',\n",
            "       'ADOS_GOTHAM_TOTAL', 'ADOS_GOTHAM_SEVERITY', 'SRS_VERSION',\n",
            "       'SRS_RAW_TOTAL', 'SRS_AWARENESS', 'SRS_COGNITION', 'SRS_COMMUNICATION',\n",
            "       'SRS_MOTIVATION', 'SRS_MANNERISMS', 'SCQ_TOTAL', 'AQ_TOTAL',\n",
            "       'COMORBIDITY', 'CURRENT_MED_STATUS', 'MEDICATION_NAME',\n",
            "       'OFF_STIMULANTS_AT_SCAN', 'VINELAND_RECEPTIVE_V_SCALED',\n",
            "       'VINELAND_EXPRESSIVE_V_SCALED', 'VINELAND_WRITTEN_V_SCALED',\n",
            "       'VINELAND_COMMUNICATION_STANDARD', 'VINELAND_PERSONAL_V_SCALED',\n",
            "       'VINELAND_DOMESTIC_V_SCALED', 'VINELAND_COMMUNITY_V_SCALED',\n",
            "       'VINELAND_DAILYLVNG_STANDARD', 'VINELAND_INTERPERSONAL_V_SCALED',\n",
            "       'VINELAND_PLAY_V_SCALED', 'VINELAND_COPING_V_SCALED',\n",
            "       'VINELAND_SOCIAL_STANDARD', 'VINELAND_SUM_SCORES',\n",
            "       'VINELAND_ABC_STANDARD', 'VINELAND_INFORMANT', 'WISC_IV_VCI',\n",
            "       'WISC_IV_PRI', 'WISC_IV_WMI', 'WISC_IV_PSI', 'WISC_IV_SIM_SCALED',\n",
            "       'WISC_IV_VOCAB_SCALED', 'WISC_IV_INFO_SCALED', 'WISC_IV_BLK_DSN_SCALED',\n",
            "       'WISC_IV_PIC_CON_SCALED', 'WISC_IV_MATRIX_SCALED',\n",
            "       'WISC_IV_DIGIT_SPAN_SCALED', 'WISC_IV_LET_NUM_SCALED',\n",
            "       'WISC_IV_CODING_SCALED', 'WISC_IV_SYM_SCALED', 'EYE_STATUS_AT_SCAN',\n",
            "       'AGE_AT_MPRAGE', 'BMI', 'anat_cnr', 'anat_efc', 'anat_fber',\n",
            "       'anat_fwhm', 'anat_qi1', 'anat_snr', 'func_efc', 'func_fber',\n",
            "       'func_fwhm', 'func_dvars', 'func_outlier', 'func_quality',\n",
            "       'func_mean_fd', 'func_num_fd', 'func_perc_fd', 'func_gsr',\n",
            "       'qc_rater_1'],\n",
            "      dtype='object')\n"
          ]
        }
      ],
      "source": [
        "# load csv and check out possible additional features\n",
        "print(phenotypic.columns[2:-10])"
      ]
    },
    {
      "cell_type": "code",
      "execution_count": null,
      "metadata": {
        "colab": {
          "base_uri": "https://localhost:8080/"
        },
        "id": "o_VpbDFEgaZZ",
        "outputId": "1ceb649b-d50a-4fc0-f706-0a149d5a0f77"
      },
      "outputs": [
        {
          "data": {
            "text/plain": [
              "(140, 2016)"
            ]
          },
          "execution_count": 35,
          "metadata": {},
          "output_type": "execute_result"
        }
      ],
      "source": [
        "X_train.shape"
      ]
    },
    {
      "cell_type": "code",
      "execution_count": null,
      "metadata": {
        "colab": {
          "base_uri": "https://localhost:8080/",
          "height": 146
        },
        "id": "LwLRDUAaidEq",
        "outputId": "65cc5082-5295-414b-8c0c-c63fea1267b1"
      },
      "outputs": [
        {
          "ename": "NameError",
          "evalue": "name 'np' is not defined",
          "output_type": "error",
          "traceback": [
            "\u001b[0;31m---------------------------------------------------------------------------\u001b[0m",
            "\u001b[0;31mNameError\u001b[0m                                 Traceback (most recent call last)",
            "\u001b[0;32m<ipython-input-2-c7f0b4ebb206>\u001b[0m in \u001b[0;36m<cell line: 1>\u001b[0;34m()\u001b[0m\n\u001b[0;32m----> 1\u001b[0;31m \u001b[0mX_train1\u001b[0m\u001b[0;34m=\u001b[0m\u001b[0mnp\u001b[0m\u001b[0;34m.\u001b[0m\u001b[0marray\u001b[0m\u001b[0;34m(\u001b[0m\u001b[0mX_train\u001b[0m\u001b[0;34m)\u001b[0m\u001b[0;34m\u001b[0m\u001b[0;34m\u001b[0m\u001b[0m\n\u001b[0m",
            "\u001b[0;31mNameError\u001b[0m: name 'np' is not defined"
          ]
        }
      ],
      "source": [
        "X_train1=np.array(X_train)"
      ]
    },
    {
      "cell_type": "code",
      "execution_count": null,
      "metadata": {
        "id": "bmi2IGjNhol5"
      },
      "outputs": [],
      "source": [
        "y_train = np.array(y_train)"
      ]
    },
    {
      "cell_type": "markdown",
      "metadata": {
        "id": "o05lxzfHsp2H"
      },
      "source": [
        "# Neural Networks"
      ]
    },
    {
      "cell_type": "code",
      "execution_count": null,
      "metadata": {
        "id": "azdIOy8BitXU"
      },
      "outputs": [],
      "source": [
        "y_val = np.array(y_val)"
      ]
    },
    {
      "cell_type": "code",
      "execution_count": null,
      "metadata": {
        "colab": {
          "base_uri": "https://localhost:8080/"
        },
        "id": "0GeUp7EGUA8x",
        "outputId": "6cf53da2-0a21-4678-f0af-62e74d60747c"
      },
      "outputs": [
        {
          "name": "stdout",
          "output_type": "stream",
          "text": [
            "Model: \"sequential\"\n",
            "_________________________________________________________________\n",
            " Layer (type)                Output Shape              Param #   \n",
            "=================================================================\n",
            " flatten (Flatten)           (None, 2016)              0         \n",
            "                                                                 \n",
            " dense (Dense)               (None, 1024)              2065408   \n",
            "                                                                 \n",
            " dropout (Dropout)           (None, 1024)              0         \n",
            "                                                                 \n",
            " dense_1 (Dense)             (None, 512)               524800    \n",
            "                                                                 \n",
            " dropout_1 (Dropout)         (None, 512)               0         \n",
            "                                                                 \n",
            " dense_2 (Dense)             (None, 256)               131328    \n",
            "                                                                 \n",
            " dropout_2 (Dropout)         (None, 256)               0         \n",
            "                                                                 \n",
            " dense_3 (Dense)             (None, 128)               32896     \n",
            "                                                                 \n",
            " dropout_3 (Dropout)         (None, 128)               0         \n",
            "                                                                 \n",
            " dense_4 (Dense)             (None, 64)                8256      \n",
            "                                                                 \n",
            " dropout_4 (Dropout)         (None, 64)                0         \n",
            "                                                                 \n",
            " dense_5 (Dense)             (None, 1)                 65        \n",
            "                                                                 \n",
            "=================================================================\n",
            "Total params: 2762753 (10.54 MB)\n",
            "Trainable params: 2762753 (10.54 MB)\n",
            "Non-trainable params: 0 (0.00 Byte)\n",
            "_________________________________________________________________\n",
            "Epoch 1/20\n",
            "4/4 [==============================] - 2s 140ms/step - loss: 1.2520 - accuracy: 0.5536 - val_loss: 0.7516 - val_accuracy: 0.3571\n",
            "Epoch 2/20\n",
            "4/4 [==============================] - 0s 54ms/step - loss: 1.5442 - accuracy: 0.5893 - val_loss: 1.0072 - val_accuracy: 0.3929\n",
            "Epoch 3/20\n",
            "4/4 [==============================] - 0s 55ms/step - loss: 2.0560 - accuracy: 0.5982 - val_loss: 0.8840 - val_accuracy: 0.3929\n",
            "Epoch 4/20\n",
            "4/4 [==============================] - 0s 53ms/step - loss: 1.6537 - accuracy: 0.5357 - val_loss: 0.9220 - val_accuracy: 0.4286\n",
            "Epoch 5/20\n",
            "4/4 [==============================] - 0s 70ms/step - loss: 1.5526 - accuracy: 0.5357 - val_loss: 0.9229 - val_accuracy: 0.4643\n",
            "Epoch 6/20\n",
            "4/4 [==============================] - 0s 77ms/step - loss: 1.4900 - accuracy: 0.5625 - val_loss: 0.8526 - val_accuracy: 0.4643\n",
            "Epoch 7/20\n",
            "4/4 [==============================] - 0s 75ms/step - loss: 1.6958 - accuracy: 0.5179 - val_loss: 0.7930 - val_accuracy: 0.4643\n",
            "Epoch 8/20\n",
            "4/4 [==============================] - 0s 76ms/step - loss: 1.4264 - accuracy: 0.5982 - val_loss: 0.7508 - val_accuracy: 0.5000\n",
            "Epoch 9/20\n",
            "4/4 [==============================] - 0s 68ms/step - loss: 1.0814 - accuracy: 0.5804 - val_loss: 0.7283 - val_accuracy: 0.5000\n",
            "Epoch 10/20\n",
            "4/4 [==============================] - 0s 66ms/step - loss: 1.4277 - accuracy: 0.5893 - val_loss: 0.6909 - val_accuracy: 0.5000\n",
            "Epoch 11/20\n",
            "4/4 [==============================] - 0s 75ms/step - loss: 1.2846 - accuracy: 0.6161 - val_loss: 0.6684 - val_accuracy: 0.4643\n",
            "Epoch 12/20\n",
            "4/4 [==============================] - 0s 73ms/step - loss: 1.2251 - accuracy: 0.5625 - val_loss: 0.6481 - val_accuracy: 0.6429\n",
            "Epoch 13/20\n",
            "4/4 [==============================] - 0s 72ms/step - loss: 1.2410 - accuracy: 0.5000 - val_loss: 0.6284 - val_accuracy: 0.6071\n",
            "Epoch 14/20\n",
            "4/4 [==============================] - 0s 69ms/step - loss: 1.2328 - accuracy: 0.6339 - val_loss: 0.6826 - val_accuracy: 0.5357\n",
            "Epoch 15/20\n",
            "4/4 [==============================] - 0s 75ms/step - loss: 1.3207 - accuracy: 0.6071 - val_loss: 0.7317 - val_accuracy: 0.4643\n",
            "Epoch 16/20\n",
            "4/4 [==============================] - 0s 73ms/step - loss: 1.0104 - accuracy: 0.6696 - val_loss: 0.7173 - val_accuracy: 0.4286\n",
            "Epoch 17/20\n",
            "4/4 [==============================] - 0s 75ms/step - loss: 1.4537 - accuracy: 0.5893 - val_loss: 0.7337 - val_accuracy: 0.4643\n",
            "Epoch 18/20\n",
            "4/4 [==============================] - 0s 70ms/step - loss: 0.9367 - accuracy: 0.6607 - val_loss: 0.7732 - val_accuracy: 0.4643\n",
            "Epoch 19/20\n",
            "4/4 [==============================] - 0s 128ms/step - loss: 1.3019 - accuracy: 0.6071 - val_loss: 0.8068 - val_accuracy: 0.4643\n",
            "Epoch 20/20\n",
            "4/4 [==============================] - 0s 88ms/step - loss: 1.5622 - accuracy: 0.5536 - val_loss: 0.7738 - val_accuracy: 0.4643\n"
          ]
        },
        {
          "data": {
            "text/plain": [
              "<keras.src.callbacks.History at 0x7be6e9fe5540>"
            ]
          },
          "execution_count": 39,
          "metadata": {},
          "output_type": "execute_result"
        }
      ],
      "source": [
        "import numpy as np\n",
        "import tensorflow as tf\n",
        "from tensorflow.keras.models import Sequential\n",
        "from tensorflow.keras.layers import Dense, Flatten, Dropout\n",
        "\n",
        "# Assuming you have your data stored in 'X_train' and 'y_train'\n",
        "# X_train is your input data of size (num_samples, 2016, 1)\n",
        "# y_train is your target labels\n",
        "\n",
        "# Define your neural network architecture\n",
        "model = Sequential([\n",
        "    Flatten(input_shape=(2016,1)),  # Flatten the input matrix\n",
        "    Dense(1024, activation='relu'),  # Add a fully connected layer with 1024 units\n",
        "    Dropout(0.5),  # Add dropout to prevent overfitting\n",
        "    Dense(512, activation='relu'),   # Add another fully connected layer with 512 units\n",
        "    Dropout(0.5),  # Add dropout\n",
        "    Dense(256, activation='relu'),   # Add another fully connected layer with 256 units\n",
        "    Dropout(0.5),  # Add dropout\n",
        "    Dense(128, activation='relu'),   # Add another fully connected layer with 128 units\n",
        "    Dropout(0.5),  # Add dropout\n",
        "    Dense(64, activation='relu'),    # Add another fully connected layer with 64 units\n",
        "    Dropout(0.5),  # Add dropout\n",
        "    Dense(1, activation='sigmoid')   # Output layer with sigmoid activation for binary classification\n",
        "])\n",
        "model.summary()\n",
        "# Compile the model\n",
        "model.compile(optimizer='adam', loss='binary_crossentropy', metrics=['accuracy'])\n",
        "\n",
        "# Train the model\n",
        "model.fit(X_train1, y_train, epochs=20, batch_size=32, validation_split=0.2)\n"
      ]
    },
    {
      "cell_type": "code",
      "execution_count": null,
      "metadata": {
        "colab": {
          "base_uri": "https://localhost:8080/"
        },
        "id": "S1GQrurPk1Xu",
        "outputId": "37b66432-fdad-450d-b1c6-59c581ff184c"
      },
      "outputs": [
        {
          "name": "stdout",
          "output_type": "stream",
          "text": [
            "2/2 [==============================] - 0s 11ms/step\n"
          ]
        },
        {
          "data": {
            "text/plain": [
              "array([[0.6798481 ],\n",
              "       [0.6935997 ],\n",
              "       [0.6197105 ],\n",
              "       [0.45951238],\n",
              "       [0.52926874],\n",
              "       [0.51940256],\n",
              "       [0.20751834],\n",
              "       [0.61655974],\n",
              "       [0.5223382 ],\n",
              "       [0.61077386],\n",
              "       [0.5520108 ],\n",
              "       [0.6647024 ],\n",
              "       [0.12803623],\n",
              "       [0.12067419],\n",
              "       [0.10076454],\n",
              "       [0.48534974],\n",
              "       [0.7466842 ],\n",
              "       [0.57104295],\n",
              "       [0.1940424 ],\n",
              "       [0.43769383],\n",
              "       [0.5009595 ],\n",
              "       [0.25977635],\n",
              "       [0.5416962 ],\n",
              "       [0.10581367],\n",
              "       [0.628721  ],\n",
              "       [0.58596057],\n",
              "       [0.28820866],\n",
              "       [0.3179375 ],\n",
              "       [0.29926705],\n",
              "       [0.64987767],\n",
              "       [0.68371147],\n",
              "       [0.7326593 ],\n",
              "       [0.39452687],\n",
              "       [0.16133562],\n",
              "       [0.28552166],\n",
              "       [0.23345159],\n",
              "       [0.42499533],\n",
              "       [0.6926332 ],\n",
              "       [0.17416099],\n",
              "       [0.69072974],\n",
              "       [0.3206658 ],\n",
              "       [0.2142144 ],\n",
              "       [0.56151956],\n",
              "       [0.6508967 ],\n",
              "       [0.4959419 ],\n",
              "       [0.2238423 ],\n",
              "       [0.56233716],\n",
              "       [0.5437051 ],\n",
              "       [0.64629436],\n",
              "       [0.17743069],\n",
              "       [0.3058005 ],\n",
              "       [0.55680025],\n",
              "       [0.67438567],\n",
              "       [0.4728229 ],\n",
              "       [0.36766097],\n",
              "       [0.19378757],\n",
              "       [0.4142481 ],\n",
              "       [0.15380341],\n",
              "       [0.54510224],\n",
              "       [0.32572448]], dtype=float32)"
            ]
          },
          "execution_count": 40,
          "metadata": {},
          "output_type": "execute_result"
        }
      ],
      "source": [
        "y_pred = model.predict(X_test)\n",
        "y_pred"
      ]
    },
    {
      "cell_type": "code",
      "execution_count": null,
      "metadata": {
        "colab": {
          "base_uri": "https://localhost:8080/"
        },
        "id": "XaT9PxmRUA8x",
        "outputId": "a451f835-6e14-4495-d2ed-2cd9f98c32d4"
      },
      "outputs": [
        {
          "name": "stdout",
          "output_type": "stream",
          "text": [
            "2/2 [==============================] - 0s 11ms/step\n",
            "ROC AUC Score: 0.513888888888889\n",
            "Confusion Matrix:\n",
            "[[19 17]\n",
            " [12 12]]\n",
            "Precision: 0.41379310344827586\n",
            "Recall: 0.5\n",
            "Accuracy: 0.5166666666666667\n",
            "Specificity: 0.5277777777777778\n",
            "Sensitivity: 0.5\n"
          ]
        }
      ],
      "source": [
        "y_pred = model.predict(X_test)\n",
        "# Compute ROC AUC score\n",
        "import numpy as np\n",
        "\n",
        "y_pred = np.where(y_pred > 0.5, 1, 0)\n",
        "roc_auc = roc_auc_score(y_test, y_pred)\n",
        "print(f\"ROC AUC Score: {roc_auc}\")\n",
        "\n",
        "\n",
        "\n",
        "# Predict classes\n",
        "\n",
        "\n",
        "# Compute confusion matrix\n",
        "conf_matrix = confusion_matrix(y_test, y_pred)\n",
        "print(\"Confusion Matrix:\")\n",
        "print(conf_matrix)\n",
        "\n",
        "# Compute precision, recall, specificity, and sensitivity\n",
        "precision = precision_score(y_test, y_pred)\n",
        "recall = recall_score(y_test, y_pred)\n",
        "accuracy = accuracy_score(y_test, y_pred)\n",
        "specificity = conf_matrix[0, 0] / (conf_matrix[0, 0] + conf_matrix[0, 1])\n",
        "sensitivity = recall\n",
        "print(f\"Precision: {precision}\")\n",
        "print(f\"Recall: {recall}\")\n",
        "print(f\"Accuracy: {accuracy}\")\n",
        "print(f\"Specificity: {specificity}\")\n",
        "print(f\"Sensitivity: {sensitivity}\")"
      ]
    },
    {
      "cell_type": "markdown",
      "metadata": {
        "id": "v2cE90jFs2dD"
      },
      "source": [
        "#LSTMs"
      ]
    },
    {
      "cell_type": "code",
      "execution_count": null,
      "metadata": {
        "colab": {
          "base_uri": "https://localhost:8080/"
        },
        "id": "2RL6vh6MUA8x",
        "outputId": "871663c6-4a9e-469d-92bf-d3c1190df4d4"
      },
      "outputs": [
        {
          "name": "stdout",
          "output_type": "stream",
          "text": [
            "Model: \"sequential_1\"\n",
            "_________________________________________________________________\n",
            " Layer (type)                Output Shape              Param #   \n",
            "=================================================================\n",
            " lstm (LSTM)                 (None, 2016, 64)          16896     \n",
            "                                                                 \n",
            " batch_normalization (Batch  (None, 2016, 64)          256       \n",
            " Normalization)                                                  \n",
            "                                                                 \n",
            " dropout_5 (Dropout)         (None, 2016, 64)          0         \n",
            "                                                                 \n",
            " lstm_1 (LSTM)               (None, 32)                12416     \n",
            "                                                                 \n",
            " batch_normalization_1 (Bat  (None, 32)                128       \n",
            " chNormalization)                                                \n",
            "                                                                 \n",
            " dropout_6 (Dropout)         (None, 32)                0         \n",
            "                                                                 \n",
            " dense_6 (Dense)             (None, 64)                2112      \n",
            "                                                                 \n",
            " batch_normalization_2 (Bat  (None, 64)                256       \n",
            " chNormalization)                                                \n",
            "                                                                 \n",
            " dropout_7 (Dropout)         (None, 64)                0         \n",
            "                                                                 \n",
            " dense_7 (Dense)             (None, 32)                2080      \n",
            "                                                                 \n",
            " batch_normalization_3 (Bat  (None, 32)                128       \n",
            " chNormalization)                                                \n",
            "                                                                 \n",
            " dropout_8 (Dropout)         (None, 32)                0         \n",
            "                                                                 \n",
            " dense_8 (Dense)             (None, 1)                 33        \n",
            "                                                                 \n",
            "=================================================================\n",
            "Total params: 34305 (134.00 KB)\n",
            "Trainable params: 33921 (132.50 KB)\n",
            "Non-trainable params: 384 (1.50 KB)\n",
            "_________________________________________________________________\n",
            "Epoch 1/20\n",
            "4/4 [==============================] - 18s 3s/step - loss: 0.9574 - accuracy: 0.5268 - val_loss: 0.6941 - val_accuracy: 0.4286\n",
            "Epoch 2/20\n",
            "4/4 [==============================] - 10s 2s/step - loss: 0.9871 - accuracy: 0.4911 - val_loss: 0.6935 - val_accuracy: 0.4286\n",
            "Epoch 3/20\n",
            "4/4 [==============================] - 11s 3s/step - loss: 0.9096 - accuracy: 0.5089 - val_loss: 0.6934 - val_accuracy: 0.4643\n",
            "Epoch 4/20\n",
            "4/4 [==============================] - 11s 3s/step - loss: 1.0217 - accuracy: 0.4821 - val_loss: 0.6929 - val_accuracy: 0.4643\n",
            "Epoch 5/20\n",
            "4/4 [==============================] - 9s 2s/step - loss: 0.9477 - accuracy: 0.5179 - val_loss: 0.6927 - val_accuracy: 0.4643\n",
            "Epoch 6/20\n",
            "4/4 [==============================] - 11s 2s/step - loss: 0.9157 - accuracy: 0.4911 - val_loss: 0.6929 - val_accuracy: 0.4643\n",
            "Epoch 7/20\n",
            "4/4 [==============================] - 10s 3s/step - loss: 0.9111 - accuracy: 0.5268 - val_loss: 0.6930 - val_accuracy: 0.4643\n",
            "Epoch 8/20\n",
            "4/4 [==============================] - 10s 3s/step - loss: 0.8934 - accuracy: 0.4464 - val_loss: 0.6932 - val_accuracy: 0.5357\n",
            "Epoch 9/20\n",
            "4/4 [==============================] - 9s 2s/step - loss: 0.9102 - accuracy: 0.5357 - val_loss: 0.6931 - val_accuracy: 0.5357\n",
            "Epoch 10/20\n",
            "4/4 [==============================] - 10s 2s/step - loss: 0.9589 - accuracy: 0.5536 - val_loss: 0.6929 - val_accuracy: 0.5357\n",
            "Epoch 11/20\n",
            "4/4 [==============================] - 11s 3s/step - loss: 0.9884 - accuracy: 0.5179 - val_loss: 0.6927 - val_accuracy: 0.5357\n",
            "Epoch 12/20\n",
            "4/4 [==============================] - 11s 3s/step - loss: 0.8739 - accuracy: 0.5536 - val_loss: 0.6925 - val_accuracy: 0.5714\n",
            "Epoch 13/20\n",
            "4/4 [==============================] - 9s 2s/step - loss: 0.7637 - accuracy: 0.5536 - val_loss: 0.6924 - val_accuracy: 0.5714\n",
            "Epoch 14/20\n",
            "4/4 [==============================] - 12s 3s/step - loss: 1.0145 - accuracy: 0.5089 - val_loss: 0.6928 - val_accuracy: 0.5357\n",
            "Epoch 15/20\n",
            "4/4 [==============================] - 11s 3s/step - loss: 0.9897 - accuracy: 0.5179 - val_loss: 0.6925 - val_accuracy: 0.5357\n",
            "Epoch 16/20\n",
            "4/4 [==============================] - 12s 3s/step - loss: 0.8641 - accuracy: 0.5714 - val_loss: 0.6924 - val_accuracy: 0.5357\n",
            "Epoch 17/20\n",
            "4/4 [==============================] - 11s 3s/step - loss: 0.8133 - accuracy: 0.5625 - val_loss: 0.6923 - val_accuracy: 0.5000\n",
            "Epoch 18/20\n",
            "4/4 [==============================] - 9s 2s/step - loss: 0.8841 - accuracy: 0.5536 - val_loss: 0.6928 - val_accuracy: 0.5000\n",
            "Epoch 19/20\n",
            "4/4 [==============================] - 11s 3s/step - loss: 0.8284 - accuracy: 0.5536 - val_loss: 0.6929 - val_accuracy: 0.5000\n",
            "Epoch 20/20\n",
            "4/4 [==============================] - 11s 3s/step - loss: 0.8921 - accuracy: 0.4732 - val_loss: 0.6918 - val_accuracy: 0.5000\n"
          ]
        },
        {
          "data": {
            "text/plain": [
              "<keras.src.callbacks.History at 0x7be6e156fd90>"
            ]
          },
          "execution_count": 42,
          "metadata": {},
          "output_type": "execute_result"
        }
      ],
      "source": [
        "from tensorflow.keras.models import Sequential\n",
        "from tensorflow.keras.layers import LSTM, Dense, Flatten, Dropout, BatchNormalization\n",
        "\n",
        "# Define the model\n",
        "model1 = Sequential([\n",
        "    LSTM(64, return_sequences=True, input_shape=(2016, 1)),  # LSTM layer for temporal modeling\n",
        "    BatchNormalization(),\n",
        "    Dropout(0.5),\n",
        "\n",
        "    LSTM(32),  # Another LSTM layer\n",
        "    BatchNormalization(),\n",
        "    Dropout(0.5),\n",
        "\n",
        "    Dense(64, activation='relu'),  # Fully connected layer\n",
        "    BatchNormalization(),\n",
        "    Dropout(0.5),\n",
        "\n",
        "    Dense(32, activation='relu'),  # Another fully connected layer\n",
        "    BatchNormalization(),\n",
        "    Dropout(0.5),\n",
        "\n",
        "    Dense(1, activation='sigmoid')  # Output layer\n",
        "])\n",
        "\n",
        "# Compile the model\n",
        "model1.compile(optimizer='adam', loss='binary_crossentropy', metrics=['accuracy'])\n",
        "\n",
        "# Print the model summary\n",
        "model1.summary()\n",
        "\n",
        "# Fit the model\n",
        "model1.fit(X_train, y_train, epochs=20, batch_size=32, validation_split=0.2)\n"
      ]
    },
    {
      "cell_type": "code",
      "execution_count": null,
      "metadata": {
        "colab": {
          "base_uri": "https://localhost:8080/"
        },
        "id": "TGxdPGyJnU9W",
        "outputId": "06a24cbb-e7a2-4d5b-f854-a09240e770b3"
      },
      "outputs": [
        {
          "name": "stdout",
          "output_type": "stream",
          "text": [
            "2/2 [==============================] - 2s 462ms/step\n"
          ]
        },
        {
          "data": {
            "text/plain": [
              "array([[0.52901113],\n",
              "       [0.5768259 ],\n",
              "       [0.5413392 ],\n",
              "       [0.5153228 ],\n",
              "       [0.4905177 ],\n",
              "       [0.5119692 ],\n",
              "       [0.46656522],\n",
              "       [0.5234906 ],\n",
              "       [0.5112621 ],\n",
              "       [0.5315862 ],\n",
              "       [0.51870185],\n",
              "       [0.55393636],\n",
              "       [0.47059655],\n",
              "       [0.46715358],\n",
              "       [0.46907288],\n",
              "       [0.5079323 ],\n",
              "       [0.5604279 ],\n",
              "       [0.52829075],\n",
              "       [0.4747209 ],\n",
              "       [0.48972   ],\n",
              "       [0.4957363 ],\n",
              "       [0.4720504 ],\n",
              "       [0.48973018],\n",
              "       [0.4681492 ],\n",
              "       [0.5433363 ],\n",
              "       [0.51172173],\n",
              "       [0.47730005],\n",
              "       [0.47974145],\n",
              "       [0.49738342],\n",
              "       [0.55213803],\n",
              "       [0.5596186 ],\n",
              "       [0.5771203 ],\n",
              "       [0.4859906 ],\n",
              "       [0.46749103],\n",
              "       [0.48136225],\n",
              "       [0.47264165],\n",
              "       [0.4986067 ],\n",
              "       [0.5282204 ],\n",
              "       [0.47448906],\n",
              "       [0.54078627],\n",
              "       [0.4801873 ],\n",
              "       [0.47567487],\n",
              "       [0.5300965 ],\n",
              "       [0.5405983 ],\n",
              "       [0.51021737],\n",
              "       [0.46907565],\n",
              "       [0.5261994 ],\n",
              "       [0.49660462],\n",
              "       [0.5366329 ],\n",
              "       [0.46698052],\n",
              "       [0.48501316],\n",
              "       [0.5319936 ],\n",
              "       [0.5722344 ],\n",
              "       [0.5012789 ],\n",
              "       [0.48250175],\n",
              "       [0.46573973],\n",
              "       [0.50765795],\n",
              "       [0.48079443],\n",
              "       [0.52266574],\n",
              "       [0.48627323]], dtype=float32)"
            ]
          },
          "execution_count": 43,
          "metadata": {},
          "output_type": "execute_result"
        }
      ],
      "source": [
        "y_pred = model1.predict(X_test)\n",
        "y_pred"
      ]
    },
    {
      "cell_type": "code",
      "execution_count": null,
      "metadata": {
        "colab": {
          "base_uri": "https://localhost:8080/"
        },
        "id": "IwVRscOXUA8x",
        "outputId": "a47120b5-f571-4b40-e2db-e542c41c2329"
      },
      "outputs": [
        {
          "name": "stdout",
          "output_type": "stream",
          "text": [
            "2/2 [==============================] - 1s 458ms/step\n",
            "ROC AUC Score: 0.5\n",
            "Confusion Matrix:\n",
            "[[ 0 36]\n",
            " [ 0 24]]\n",
            "Precision: 0.4\n",
            "Recall: 1.0\n",
            "Accuracy: 0.4\n",
            "Specificity: 0.0\n",
            "Sensitivity: 1.0\n"
          ]
        }
      ],
      "source": [
        "y_pred = model1.predict(X_test)\n",
        "# Compute ROC AUC score\n",
        "y_pred = np.where(y_pred > 0.45, 1, 0)\n",
        "roc_auc = roc_auc_score(y_test, y_pred)\n",
        "print(f\"ROC AUC Score: {roc_auc}\")\n",
        "\n",
        "\n",
        "\n",
        "# Predict classes\n",
        "\n",
        "\n",
        "# Compute confusion matrix\n",
        "conf_matrix = confusion_matrix(y_test, y_pred)\n",
        "print(\"Confusion Matrix:\")\n",
        "print(conf_matrix)\n",
        "\n",
        "# Compute precision, recall, specificity, and sensitivity\n",
        "precision = precision_score(y_test, y_pred)\n",
        "recall = recall_score(y_test, y_pred)\n",
        "accuracy = accuracy_score(y_test, y_pred)\n",
        "specificity = conf_matrix[0, 0] / (conf_matrix[0, 0] + conf_matrix[0, 1])\n",
        "sensitivity = recall\n",
        "print(f\"Precision: {precision}\")\n",
        "print(f\"Recall: {recall}\")\n",
        "print(f\"Accuracy: {accuracy}\")\n",
        "print(f\"Specificity: {specificity}\")\n",
        "print(f\"Sensitivity: {sensitivity}\")"
      ]
    },
    {
      "cell_type": "markdown",
      "metadata": {
        "id": "-PKE-4Cus9Rb"
      },
      "source": [
        "#DEEP BELIEF NETWORKS"
      ]
    },
    {
      "cell_type": "code",
      "execution_count": null,
      "metadata": {
        "colab": {
          "base_uri": "https://localhost:8080/"
        },
        "id": "noB4TWuIUA8y",
        "outputId": "3d4d45f0-a9de-403f-937a-4a7f1e83d161"
      },
      "outputs": [
        {
          "name": "stdout",
          "output_type": "stream",
          "text": [
            "Epoch 1, Loss: 3.5693572759628296\n",
            "Epoch 2, Loss: 3.18410861492157\n",
            "Epoch 3, Loss: 2.8482845425605774\n",
            "Epoch 4, Loss: 2.6281886994838715\n",
            "Epoch 5, Loss: 2.3681987822055817\n",
            "Epoch 6, Loss: 2.157558888196945\n",
            "Epoch 7, Loss: 2.0343549847602844\n",
            "Epoch 8, Loss: 1.8750145733356476\n",
            "Epoch 9, Loss: 1.8223811388015747\n",
            "Epoch 10, Loss: 1.7640427350997925\n",
            "Epoch 11, Loss: 1.745016098022461\n",
            "Epoch 12, Loss: 1.7065421342849731\n",
            "Epoch 13, Loss: 1.6855486631393433\n",
            "Epoch 14, Loss: 1.6770261526107788\n",
            "Epoch 15, Loss: 1.6545022428035736\n",
            "Epoch 16, Loss: 1.6469036936759949\n",
            "Epoch 17, Loss: 1.6422907412052155\n",
            "Epoch 18, Loss: 1.6396308541297913\n",
            "Epoch 19, Loss: 1.6384475529193878\n",
            "Epoch 20, Loss: 1.6372426748275757\n",
            "Confusion Matrix:\n",
            "[[21  5]\n",
            " [ 4 10]]\n",
            "ROC AUC Score: 0.7609890109890111\n",
            "Precision: 0.6666666666666666\n",
            "Recall: 0.7142857142857143\n",
            "Accuracy: 0.775\n",
            "Specificity: 0.8076923076923077\n",
            "Sensitivity: 0.7142857142857143\n"
          ]
        }
      ],
      "source": [
        "# Import necessary libraries\n",
        "import numpy as np\n",
        "import torch\n",
        "import torch.nn as nn\n",
        "import torch.optim as optim\n",
        "from torch.utils.data import DataLoader, TensorDataset\n",
        "from sklearn.model_selection import train_test_split\n",
        "from sklearn.preprocessing import StandardScaler\n",
        "import sklearn.metrics\n",
        "# Assuming you have your functional connectivity data loaded into X and corresponding labels into y\n",
        "# X should be a numpy array of correlation matrices, and y should be the corresponding labels\n",
        "\n",
        "# Split the dataset into training and testing sets\n",
        "X_train, X_test, y_train, y_test = train_test_split(X_features, y_asd, test_size=0.2, random_state=42)\n",
        "\n",
        "# Normalize the data\n",
        "scaler = StandardScaler()\n",
        "X_train = scaler.fit_transform(X_train.reshape(len(X_train), -1)).reshape(X_train.shape)\n",
        "X_test = scaler.transform(X_test.reshape(len(X_test), -1)).reshape(X_test.shape)\n",
        "\n",
        "# Convert numpy arrays to PyTorch tensors\n",
        "X_train_tensor = torch.tensor(X_train, dtype=torch.float32)\n",
        "y_train_tensor = torch.tensor(y_train, dtype=torch.long)\n",
        "X_test_tensor = torch.tensor(X_test, dtype=torch.float32)\n",
        "y_test_tensor = torch.tensor(y_test, dtype=torch.long)\n",
        "\n",
        "# Define the Deep Belief Network architecture\n",
        "class DBN(nn.Module):\n",
        "    def __init__(self, input_size, hidden_size1, hidden_size2, output_size):\n",
        "        super(DBN, self).__init__()\n",
        "        self.rbm1 = nn.Linear(input_size, hidden_size1)\n",
        "        self.rbm2 = nn.Linear(hidden_size1, hidden_size2)\n",
        "        self.output = nn.Linear(hidden_size2, output_size)\n",
        "        self.sigmoid = nn.Sigmoid()\n",
        "        self.softmax = nn.Softmax(dim=1)\n",
        "\n",
        "    def forward(self, x):\n",
        "        x = self.sigmoid(self.rbm1(x))\n",
        "        x = self.sigmoid(self.rbm2(x))\n",
        "        x = self.softmax(self.output(x))\n",
        "        return x\n",
        "\n",
        "# Initialize DBN model\n",
        "input_size = X_train.shape[1]\n",
        "hidden_size1 = 500\n",
        "hidden_size2 = 200\n",
        "output_size = 2  # Assuming binary classification\n",
        "dbn_model = DBN(input_size, hidden_size1, hidden_size2, output_size)\n",
        "\n",
        "# Define loss function and optimizer\n",
        "criterion = nn.CrossEntropyLoss()\n",
        "optimizer = optim.Adam(dbn_model.parameters(), lr=0.001)\n",
        "\n",
        "# Define batch size and number of epochs\n",
        "batch_size = 32\n",
        "epochs = 20\n",
        "\n",
        "# Create DataLoader for training\n",
        "train_dataset = TensorDataset(X_train_tensor, y_train_tensor)\n",
        "train_loader = DataLoader(train_dataset, batch_size=batch_size, shuffle=True)\n",
        "\n",
        "# Training the DBN model\n",
        "for epoch in range(epochs):\n",
        "    running_loss = 0.0\n",
        "    for inputs, labels in train_loader:\n",
        "        optimizer.zero_grad()\n",
        "        outputs = dbn_model(inputs)\n",
        "        loss = criterion(outputs, labels)\n",
        "        loss.backward()\n",
        "        optimizer.step()\n",
        "        running_loss += loss.item()\n",
        "    print(f\"Epoch {epoch+1}, Loss: {running_loss}\")\n",
        "\n",
        "# Evaluate the model\n",
        "\n",
        "\n",
        "\n",
        "from sklearn.metrics import confusion_matrix, classification_report\n",
        "import torch\n",
        "\n",
        "dbn_model.eval()\n",
        "with torch.no_grad():\n",
        "    outputs = dbn_model(X_test_tensor)\n",
        "    _, predicted = torch.max(outputs, 1)\n",
        "\n",
        "    # Convert tensors to numpy arrays\n",
        "\n",
        "\n",
        "\n",
        "   # Predict classes\n",
        "y_pred = predicted.numpy()\n",
        "\n",
        "# Compute confusion matrix\n",
        "conf_matrix = confusion_matrix(y_test, y_pred)\n",
        "print(\"Confusion Matrix:\")\n",
        "print(conf_matrix)\n",
        "\n",
        "# Compute precision, recall, specificity, and sensitivity\n",
        "precision = precision_score(y_test, y_pred)\n",
        "recall = recall_score(y_test, y_pred)\n",
        "accuracy = accuracy_score(y_test, y_pred)\n",
        "specificity = conf_matrix[0, 0] / (conf_matrix[0, 0] + conf_matrix[0, 1])\n",
        "sensitivity = recall\n",
        "roc_auc = roc_auc_score(y_test, y_pred)\n",
        "print(f\"ROC AUC Score: {roc_auc}\")\n",
        "print(f\"Precision: {precision}\")\n",
        "print(f\"Recall: {recall}\")\n",
        "print(f\"Accuracy: {accuracy}\")\n",
        "print(f\"Specificity: {specificity}\")\n",
        "print(f\"Sensitivity: {sensitivity}\")\n",
        "\n",
        "\n",
        "\n"
      ]
    },
    {
      "cell_type": "code",
      "execution_count": null,
      "metadata": {
        "colab": {
          "base_uri": "https://localhost:8080/"
        },
        "id": "L0JftieGqqAT",
        "outputId": "8ee617dd-6f61-4eeb-b573-48a9fd68f55b"
      },
      "outputs": [
        {
          "name": "stdout",
          "output_type": "stream",
          "text": [
            "Epoch 1, Loss: 3.6003119349479675\n",
            "Epoch 2, Loss: 3.409073054790497\n",
            "Epoch 3, Loss: 3.2591464519500732\n",
            "Epoch 4, Loss: 2.8210883736610413\n",
            "Epoch 5, Loss: 2.4852278530597687\n",
            "Epoch 6, Loss: 2.2054284811019897\n",
            "Epoch 7, Loss: 2.067093461751938\n",
            "Epoch 8, Loss: 2.084484189748764\n",
            "Epoch 9, Loss: 2.0523335933685303\n",
            "Epoch 10, Loss: 1.9435187578201294\n",
            "Epoch 11, Loss: 1.8891266584396362\n",
            "Epoch 12, Loss: 1.7346347570419312\n",
            "Epoch 13, Loss: 1.720149964094162\n",
            "Epoch 14, Loss: 1.7070880830287933\n",
            "Epoch 15, Loss: 1.7108292281627655\n",
            "Epoch 16, Loss: 1.7003449499607086\n",
            "Epoch 17, Loss: 1.699787586927414\n",
            "Epoch 18, Loss: 1.6973854899406433\n",
            "Epoch 19, Loss: 1.6716745793819427\n",
            "Epoch 20, Loss: 1.667490154504776\n",
            "Confusion Matrix:\n",
            "[[21  5]\n",
            " [ 5  9]]\n",
            "ROC AUC Score: 0.7609890109890111\n",
            "Precision: 0.6428571428571429\n",
            "Recall: 0.6428571428571429\n",
            "Accuracy: 0.75\n",
            "Specificity: 0.8076923076923077\n",
            "Sensitivity: 0.6428571428571429\n"
          ]
        }
      ],
      "source": [
        "# Define the Deep Belief Network architecture\n",
        "class DBN(nn.Module):\n",
        "    def __init__(self, input_size, hidden_size1, hidden_size2, hidden_size3, output_size):\n",
        "        super(DBN, self).__init__()\n",
        "        self.rbm1 = nn.Linear(input_size, hidden_size1)\n",
        "        self.rbm2 = nn.Linear(hidden_size1, hidden_size2)\n",
        "        self.rbm3 = nn.Linear(hidden_size2, hidden_size3)\n",
        "        self.output = nn.Linear(hidden_size3, output_size)\n",
        "        self.sigmoid = nn.Sigmoid()\n",
        "        self.softmax = nn.Softmax(dim=1)\n",
        "\n",
        "    def forward(self, x):\n",
        "        x = self.sigmoid(self.rbm1(x))\n",
        "        x = self.sigmoid(self.rbm2(x))\n",
        "        x = self.sigmoid(self.rbm3(x))\n",
        "        x = self.softmax(self.output(x))\n",
        "        return x\n",
        "\n",
        "# Initialize DBN model with more complex architecture\n",
        "input_size = X_train.shape[1]\n",
        "hidden_size1 = 800\n",
        "hidden_size2 = 500\n",
        "hidden_size3 = 200\n",
        "output_size = 2  # Assuming binary classification\n",
        "dbn_model1 = DBN(input_size, hidden_size1, hidden_size2, hidden_size3, output_size)\n",
        "\n",
        "# Define loss function and optimizer\n",
        "criterion = nn.CrossEntropyLoss()\n",
        "optimizer = optim.Adam(dbn_model1.parameters(), lr=0.001)\n",
        "\n",
        "# Define batch size and number of epochs\n",
        "batch_size = 32\n",
        "epochs = 20\n",
        "\n",
        "# Create DataLoader for training\n",
        "train_dataset = TensorDataset(X_train_tensor, y_train_tensor)\n",
        "train_loader = DataLoader(train_dataset, batch_size=batch_size, shuffle=True)\n",
        "\n",
        "# Training the DBN model\n",
        "for epoch in range(epochs):\n",
        "    running_loss = 0.0\n",
        "    for inputs, labels in train_loader:\n",
        "        optimizer.zero_grad()\n",
        "        outputs = dbn_model1(inputs)\n",
        "        loss = criterion(outputs, labels)\n",
        "        loss.backward()\n",
        "        optimizer.step()\n",
        "        running_loss += loss.item()\n",
        "    print(f\"Epoch {epoch+1}, Loss: {running_loss}\")\n",
        "\n",
        "# Evaluate the model\n",
        "dbn_model1.eval()\n",
        "with torch.no_grad():\n",
        "    outputs = dbn_model1(X_test_tensor)\n",
        "    _, predicted = torch.max(outputs, 1)\n",
        "\n",
        "    # Convert tensors to numpy arrays\n",
        "\n",
        "    predicted_np = predicted.numpy()\n",
        "\n",
        "    # Compute confusion matrix\n",
        "    conf_matrix = confusion_matrix(y_test, predicted_np)\n",
        "    print(\"Confusion Matrix:\")\n",
        "    print(conf_matrix)\n",
        "\n",
        "    # Compute precision, recall, accuracy, specificity, and sensitivity\n",
        "    precision = precision_score(y_test, predicted_np)\n",
        "    recall = recall_score(y_test, predicted_np)\n",
        "    accuracy = accuracy_score(y_test, predicted_np)\n",
        "    specificity = conf_matrix[0, 0] / (conf_matrix[0, 0] + conf_matrix[0, 1])\n",
        "    sensitivity = recall\n",
        "    roc_auc = roc_auc_score(y_test, y_pred)\n",
        "    print(f\"ROC AUC Score: {roc_auc}\")\n",
        "    print(f\"Precision: {precision}\")\n",
        "    print(f\"Recall: {recall}\")\n",
        "    print(f\"Accuracy: {accuracy}\")\n",
        "    print(f\"Specificity: {specificity}\")\n",
        "    print(f\"Sensitivity: {sensitivity}\")\n"
      ]
    },
    {
      "cell_type": "markdown",
      "metadata": {
        "id": "l5b-BdAHtE3q"
      },
      "source": [
        "#RANDOM FOREST WITH GRID_SEARCHCV"
      ]
    },
    {
      "cell_type": "code",
      "execution_count": null,
      "metadata": {
        "colab": {
          "base_uri": "https://localhost:8080/"
        },
        "id": "ytg868ck-gG-",
        "outputId": "14a638cc-ed73-44ba-fee8-cc7d8c611297"
      },
      "outputs": [
        {
          "name": "stdout",
          "output_type": "stream",
          "text": [
            "Best Parameters:\n",
            "{'max_depth': None, 'min_samples_leaf': 4, 'min_samples_split': 2, 'n_estimators': 100}\n",
            "Test Accuracy with Best Parameters: 0.65\n",
            "ROC AUC Score: 0.6318681318681318\n",
            "Confusion Matrix:\n",
            "[[18  8]\n",
            " [ 6  8]]\n",
            "Precision: 0.5\n",
            "Recall: 0.5714285714285714\n",
            "Accuracy: 0.65\n",
            "Specificity: 0.6923076923076923\n",
            "Sensitivity: 0.5714285714285714\n"
          ]
        }
      ],
      "source": [
        "from sklearn.ensemble import RandomForestClassifier\n",
        "from sklearn.model_selection import GridSearchCV\n",
        "rf_classifier = RandomForestClassifier()\n",
        "# Define the hyperparameters grid\n",
        "param_grid = {\n",
        "    'n_estimators': [100, 200, 300],      # Number of trees in the forest\n",
        "    'max_depth': [10, 20, 30, None],       # Maximum depth of the tree\n",
        "    'min_samples_split': [2, 5, 10],        # Minimum number of samples required to split a node\n",
        "    'min_samples_leaf': [1, 2, 4]           # Minimum number of samples required at each leaf node\n",
        "}\n",
        "# Use GridSearchCV to find the best parameters\n",
        "grid_search = GridSearchCV(rf_classifier, param_grid, cv=5, scoring='accuracy')\n",
        "grid_search.fit(X_train, y_train)\n",
        "\n",
        "# Print the best parameters found by GridSearchCV\n",
        "print(\"Best Parameters:\")\n",
        "print(grid_search.best_params_)\n",
        "\n",
        "# Evaluate the model with the best parameters on the test set\n",
        "best_rf_model = grid_search.best_estimator_\n",
        "y_pred = best_rf_model.predict(X_test)\n",
        "\n",
        "# Calculate and print accuracy\n",
        "accuracy = accuracy_score(y_test, y_pred)\n",
        "print(f\"Test Accuracy with Best Parameters: {accuracy}\")\n",
        "from sklearn.metrics import roc_auc_score, roc_curve, confusion_matrix, precision_score, recall_score, accuracy_score\n",
        "\n",
        "# Train your Random Forest model (best_rf_model) before using this code.\n",
        "\n",
        "# Predict probabilities for the positive class\n",
        "y_probs = best_rf_model.predict_proba(X_test)[:, 1]\n",
        "y_pred = best_rf_model.predict(X_test)\n",
        "# Compute ROC AUC score\n",
        "roc_auc = roc_auc_score(y_test, y_pred)\n",
        "print(f\"ROC AUC Score: {roc_auc}\")\n",
        "\n",
        "\n",
        "\n",
        "# Predict classes\n",
        "y_pred = best_rf_model.predict(X_test)\n",
        "\n",
        "# Compute confusion matrix\n",
        "conf_matrix = confusion_matrix(y_test, y_pred)\n",
        "print(\"Confusion Matrix:\")\n",
        "print(conf_matrix)\n",
        "\n",
        "# Compute precision, recall, specificity, and sensitivity\n",
        "precision = precision_score(y_test, y_pred)\n",
        "recall = recall_score(y_test, y_pred)\n",
        "accuracy = accuracy_score(y_test, y_pred)\n",
        "specificity = conf_matrix[0, 0] / (conf_matrix[0, 0] + conf_matrix[0, 1])\n",
        "sensitivity = recall\n",
        "print(f\"Precision: {precision}\")\n",
        "print(f\"Recall: {recall}\")\n",
        "print(f\"Accuracy: {accuracy}\")\n",
        "print(f\"Specificity: {specificity}\")\n",
        "print(f\"Sensitivity: {sensitivity}\")"
      ]
    },
    {
      "cell_type": "code",
      "execution_count": null,
      "metadata": {
        "id": "j9LOu1JxBw0G"
      },
      "outputs": [],
      "source": []
    }
  ],
  "metadata": {
    "colab": {
      "provenance": []
    },
    "kaggle": {
      "accelerator": "none",
      "dataSources": [],
      "dockerImageVersionId": 30646,
      "isGpuEnabled": false,
      "isInternetEnabled": false,
      "language": "python",
      "sourceType": "notebook"
    },
    "kernelspec": {
      "display_name": "Python 3",
      "name": "python3"
    },
    "language_info": {
      "codemirror_mode": {
        "name": "ipython",
        "version": 3
      },
      "file_extension": ".py",
      "mimetype": "text/x-python",
      "name": "python",
      "nbconvert_exporter": "python",
      "pygments_lexer": "ipython3",
      "version": "3.11.4"
    }
  },
  "nbformat": 4,
  "nbformat_minor": 0
}
